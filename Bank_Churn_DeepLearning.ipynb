{
 "cells": [
  {
   "cell_type": "markdown",
   "metadata": {
    "id": "9a54fa0f"
   },
   "source": [
    "# Credit Card Users Churn Prediction"
   ]
  },
  {
   "cell_type": "markdown",
   "metadata": {
    "id": "9EaJ8AGwpM-2"
   },
   "source": [
    "## Problem Statement"
   ]
  },
  {
   "cell_type": "markdown",
   "metadata": {},
   "source": [
    "### Adam Fraser"
   ]
  },
  {
   "cell_type": "markdown",
   "metadata": {
    "id": "x3-QehJxbp0t"
   },
   "source": [
    "### Business Context\n",
    "\n",
    "The Thera bank recently saw a steep decline in the number of users of their credit card, credit cards are a good source of income for banks because of different kinds of fees charged by the banks like annual fees, balance transfer fees, and cash advance fees, late payment fees, foreign transaction fees, and others. Some fees are charged to every user irrespective of usage, while others are charged under specified circumstances.\n",
    "\n",
    "Customers’ leaving credit cards services would lead bank to loss, so the bank wants to analyze the data of customers and identify the customers who will leave their credit card services and reason for same – so that bank could improve upon those areas\n",
    "\n",
    "You as a Data scientist at Thera bank need to come up with a classification model that will help the bank improve its services so that customers do not renounce their credit cards\n",
    "\n",
    "### Data Description\n",
    "\n",
    "* CLIENTNUM: Client number. Unique identifier for the customer holding the account\n",
    "* Attrition_Flag: Internal event (customer activity) variable - if the account is closed then \"Attrited Customer\" else \"Existing Customer\"\n",
    "* Customer_Age: Age in Years\n",
    "* Gender: Gender of the account holder\n",
    "* Dependent_count: Number of dependents\n",
    "* Education_Level: Educational Qualification of the account holder - Graduate, High School, Unknown, Uneducated, College(refers to college student), Post-Graduate, Doctorate\n",
    "* Marital_Status: Marital Status of the account holder\n",
    "* Income_Category: Annual Income Category of the account holder\n",
    "* Card_Category: Type of Card\n",
    "* Months_on_book: Period of relationship with the bank (in months)\n",
    "* Total_Relationship_Count: Total no. of products held by the customer\n",
    "* Months_Inactive_12_mon: No. of months inactive in the last 12 months\n",
    "* Contacts_Count_12_mon: No. of Contacts in the last 12 months\n",
    "* Credit_Limit: Credit Limit on the Credit Card\n",
    "* Total_Revolving_Bal: Total Revolving Balance on the Credit Card\n",
    "* Avg_Open_To_Buy: Open to Buy Credit Line (Average of last 12 months)\n",
    "* Total_Amt_Chng_Q4_Q1: Change in Transaction Amount (Q4 over Q1)\n",
    "* Total_Trans_Amt: Total Transaction Amount (Last 12 months)\n",
    "* Total_Trans_Ct: Total Transaction Count (Last 12 months)\n",
    "* Total_Ct_Chng_Q4_Q1: Change in Transaction Count (Q4 over Q1)\n",
    "* Avg_Utilization_Ratio: Average Card Utilization Ratio\n",
    "\n",
    "#### What Is a Revolving Balance?\n",
    "\n",
    "- If we don't pay the balance of the revolving credit account in full every month, the unpaid portion carries over to the next month. That's called a revolving balance\n",
    "\n",
    "\n",
    "##### What is the Average Open to buy?\n",
    "\n",
    "- 'Open to Buy' means the amount left on your credit card to use. Now, this column represents the average of this value for the last 12 months.\n",
    "\n",
    "##### What is the Average utilization Ratio?\n",
    "\n",
    "- The Avg_Utilization_Ratio represents how much of the available credit the customer spent. This is useful for calculating credit scores.\n",
    "\n",
    "\n",
    "##### Relation b/w Avg_Open_To_Buy, Credit_Limit and Avg_Utilization_Ratio:\n",
    "\n",
    "- ( Avg_Open_To_Buy / Credit_Limit ) + Avg_Utilization_Ratio = 1"
   ]
  },
  {
   "cell_type": "markdown",
   "metadata": {
    "id": "NbHOIdlwcrqR"
   },
   "source": [
    "### **Please read the instructions carefully before starting the project.**\n",
    "This is a commented Jupyter IPython Notebook file in which all the instructions and tasks to be performed are mentioned.\n",
    "* Blanks '_______' are provided in the notebook that\n",
    "needs to be filled with an appropriate code to get the correct result. With every '_______' blank, there is a comment that briefly describes what needs to be filled in the blank space.\n",
    "* Identify the task to be performed correctly, and only then proceed to write the required code.\n",
    "* Fill the code wherever asked by the commented lines like \"# write your code here\" or \"# complete the code\". Running incomplete code may throw error.\n",
    "* Please run the codes in a sequential manner from the beginning to avoid any unnecessary errors.\n",
    "* Add the results/observations (wherever mentioned) derived from the analysis in the presentation and submit the same.\n"
   ]
  },
  {
   "cell_type": "markdown",
   "metadata": {
    "id": "v_-uuGqH-qTt"
   },
   "source": [
    "## Importing necessary libraries"
   ]
  },
  {
   "cell_type": "code",
   "execution_count": 1,
   "metadata": {
    "id": "83D17_Wl4jal"
   },
   "outputs": [],
   "source": [
    "# Import all the necessary libraries\n",
    "import pandas as pd\n",
    "import numpy as np\n",
    "from sklearn import metrics\n",
    "import matplotlib as mpl\n",
    "import matplotlib.pyplot as plt\n",
    "%matplotlib inline\n",
    "import seaborn as sns\n",
    "import copy\n",
    "\n",
    "import os\n",
    "import tempfile\n",
    "\n",
    "from sklearn.impute import KNNImputer, SimpleImputer\n",
    "\n",
    "import tensorflow as tf\n",
    "from tensorflow.keras.layers import Dense, Input, InputLayer\n",
    "from tensorflow.keras.optimizers import Adam\n",
    "\n",
    "from tensorflow.keras.metrics import Recall\n",
    "\n",
    "from sklearn.model_selection import train_test_split\n",
    "\n",
    "from sklearn.metrics import (\n",
    "    f1_score,\n",
    "    accuracy_score,\n",
    "    recall_score,\n",
    "    precision_score,\n",
    "    ConfusionMatrixDisplay,\n",
    "    make_scorer,\n",
    "    confusion_matrix,\n",
    ")\n",
    "from sklearn.tree import DecisionTreeClassifier\n",
    "from sklearn.ensemble import BaggingClassifier, RandomForestClassifier \n",
    "from sklearn.ensemble import AdaBoostClassifier, GradientBoostingClassifier\n",
    "import xgboost as xgb\n",
    "\n",
    "from sklearn.model_selection import RandomizedSearchCV\n",
    "from imblearn.under_sampling import RandomUnderSampler\n",
    "from imblearn.over_sampling import SMOTE\n",
    "\n",
    "\n",
    "from sklearn.model_selection import KFold\n",
    "from sklearn.model_selection import cross_val_score\n",
    "\n",
    "# To ignore unnecessary warnings\n",
    "import warnings\n",
    "from sklearn.exceptions import DataConversionWarning\n",
    "warnings.filterwarnings(\"ignore\")\n",
    "warnings.filterwarnings(action='ignore', category=DataConversionWarning) \n",
    "warnings.filterwarnings(action='ignore', category=FutureWarning)"
   ]
  },
  {
   "cell_type": "markdown",
   "metadata": {
    "id": "xxhpZv9y-qTw"
   },
   "source": [
    "## Loading the dataset"
   ]
  },
  {
   "cell_type": "code",
   "execution_count": 2,
   "metadata": {
    "id": "oJnKoHy14jam"
   },
   "outputs": [],
   "source": [
    "bank_df = pd.read_csv(\"BankChurners.csv\")\n",
    "#pd.set_option('display.max_columns', 80)  # or 1000\n",
    "\n",
    "mpl.rcParams['figure.figsize'] = (12, 10)\n",
    "colors = plt.rcParams['axes.prop_cycle'].by_key()['color']"
   ]
  },
  {
   "cell_type": "markdown",
   "metadata": {
    "id": "UvpMDcaaMKtI"
   },
   "source": [
    "## Data Overview"
   ]
  },
  {
   "cell_type": "markdown",
   "metadata": {
    "id": "tIiCRwqZ54_C"
   },
   "source": [
    "- Observations\n",
    "- Sanity checks"
   ]
  },
  {
   "cell_type": "code",
   "execution_count": 3,
   "metadata": {},
   "outputs": [
    {
     "data": {
      "text/plain": [
       "(10127, 21)"
      ]
     },
     "execution_count": 3,
     "metadata": {},
     "output_type": "execute_result"
    }
   ],
   "source": [
    "# Get number of rows and columns\n",
    "bank_df.shape"
   ]
  },
  {
   "cell_type": "code",
   "execution_count": 4,
   "metadata": {
    "id": "01hJQ7EfMKtK"
   },
   "outputs": [
    {
     "data": {
      "text/html": [
       "<div>\n",
       "<style scoped>\n",
       "    .dataframe tbody tr th:only-of-type {\n",
       "        vertical-align: middle;\n",
       "    }\n",
       "\n",
       "    .dataframe tbody tr th {\n",
       "        vertical-align: top;\n",
       "    }\n",
       "\n",
       "    .dataframe thead th {\n",
       "        text-align: right;\n",
       "    }\n",
       "</style>\n",
       "<table border=\"1\" class=\"dataframe\">\n",
       "  <thead>\n",
       "    <tr style=\"text-align: right;\">\n",
       "      <th></th>\n",
       "      <th>CLIENTNUM</th>\n",
       "      <th>Attrition_Flag</th>\n",
       "      <th>Customer_Age</th>\n",
       "      <th>Gender</th>\n",
       "      <th>Dependent_count</th>\n",
       "      <th>Education_Level</th>\n",
       "      <th>Marital_Status</th>\n",
       "      <th>Income_Category</th>\n",
       "      <th>Card_Category</th>\n",
       "      <th>Months_on_book</th>\n",
       "      <th>...</th>\n",
       "      <th>Months_Inactive_12_mon</th>\n",
       "      <th>Contacts_Count_12_mon</th>\n",
       "      <th>Credit_Limit</th>\n",
       "      <th>Total_Revolving_Bal</th>\n",
       "      <th>Avg_Open_To_Buy</th>\n",
       "      <th>Total_Amt_Chng_Q4_Q1</th>\n",
       "      <th>Total_Trans_Amt</th>\n",
       "      <th>Total_Trans_Ct</th>\n",
       "      <th>Total_Ct_Chng_Q4_Q1</th>\n",
       "      <th>Avg_Utilization_Ratio</th>\n",
       "    </tr>\n",
       "  </thead>\n",
       "  <tbody>\n",
       "    <tr>\n",
       "      <th>0</th>\n",
       "      <td>768805383</td>\n",
       "      <td>Existing Customer</td>\n",
       "      <td>45</td>\n",
       "      <td>M</td>\n",
       "      <td>3</td>\n",
       "      <td>High School</td>\n",
       "      <td>Married</td>\n",
       "      <td>$60K - $80K</td>\n",
       "      <td>Blue</td>\n",
       "      <td>39</td>\n",
       "      <td>...</td>\n",
       "      <td>1</td>\n",
       "      <td>3</td>\n",
       "      <td>12691.0</td>\n",
       "      <td>777</td>\n",
       "      <td>11914.0</td>\n",
       "      <td>1.335</td>\n",
       "      <td>1144</td>\n",
       "      <td>42</td>\n",
       "      <td>1.625</td>\n",
       "      <td>0.061</td>\n",
       "    </tr>\n",
       "    <tr>\n",
       "      <th>1</th>\n",
       "      <td>818770008</td>\n",
       "      <td>Existing Customer</td>\n",
       "      <td>49</td>\n",
       "      <td>F</td>\n",
       "      <td>5</td>\n",
       "      <td>Graduate</td>\n",
       "      <td>Single</td>\n",
       "      <td>Less than $40K</td>\n",
       "      <td>Blue</td>\n",
       "      <td>44</td>\n",
       "      <td>...</td>\n",
       "      <td>1</td>\n",
       "      <td>2</td>\n",
       "      <td>8256.0</td>\n",
       "      <td>864</td>\n",
       "      <td>7392.0</td>\n",
       "      <td>1.541</td>\n",
       "      <td>1291</td>\n",
       "      <td>33</td>\n",
       "      <td>3.714</td>\n",
       "      <td>0.105</td>\n",
       "    </tr>\n",
       "    <tr>\n",
       "      <th>2</th>\n",
       "      <td>713982108</td>\n",
       "      <td>Existing Customer</td>\n",
       "      <td>51</td>\n",
       "      <td>M</td>\n",
       "      <td>3</td>\n",
       "      <td>Graduate</td>\n",
       "      <td>Married</td>\n",
       "      <td>$80K - $120K</td>\n",
       "      <td>Blue</td>\n",
       "      <td>36</td>\n",
       "      <td>...</td>\n",
       "      <td>1</td>\n",
       "      <td>0</td>\n",
       "      <td>3418.0</td>\n",
       "      <td>0</td>\n",
       "      <td>3418.0</td>\n",
       "      <td>2.594</td>\n",
       "      <td>1887</td>\n",
       "      <td>20</td>\n",
       "      <td>2.333</td>\n",
       "      <td>0.000</td>\n",
       "    </tr>\n",
       "    <tr>\n",
       "      <th>3</th>\n",
       "      <td>769911858</td>\n",
       "      <td>Existing Customer</td>\n",
       "      <td>40</td>\n",
       "      <td>F</td>\n",
       "      <td>4</td>\n",
       "      <td>High School</td>\n",
       "      <td>NaN</td>\n",
       "      <td>Less than $40K</td>\n",
       "      <td>Blue</td>\n",
       "      <td>34</td>\n",
       "      <td>...</td>\n",
       "      <td>4</td>\n",
       "      <td>1</td>\n",
       "      <td>3313.0</td>\n",
       "      <td>2517</td>\n",
       "      <td>796.0</td>\n",
       "      <td>1.405</td>\n",
       "      <td>1171</td>\n",
       "      <td>20</td>\n",
       "      <td>2.333</td>\n",
       "      <td>0.760</td>\n",
       "    </tr>\n",
       "    <tr>\n",
       "      <th>4</th>\n",
       "      <td>709106358</td>\n",
       "      <td>Existing Customer</td>\n",
       "      <td>40</td>\n",
       "      <td>M</td>\n",
       "      <td>3</td>\n",
       "      <td>Uneducated</td>\n",
       "      <td>Married</td>\n",
       "      <td>$60K - $80K</td>\n",
       "      <td>Blue</td>\n",
       "      <td>21</td>\n",
       "      <td>...</td>\n",
       "      <td>1</td>\n",
       "      <td>0</td>\n",
       "      <td>4716.0</td>\n",
       "      <td>0</td>\n",
       "      <td>4716.0</td>\n",
       "      <td>2.175</td>\n",
       "      <td>816</td>\n",
       "      <td>28</td>\n",
       "      <td>2.500</td>\n",
       "      <td>0.000</td>\n",
       "    </tr>\n",
       "    <tr>\n",
       "      <th>5</th>\n",
       "      <td>713061558</td>\n",
       "      <td>Existing Customer</td>\n",
       "      <td>44</td>\n",
       "      <td>M</td>\n",
       "      <td>2</td>\n",
       "      <td>Graduate</td>\n",
       "      <td>Married</td>\n",
       "      <td>$40K - $60K</td>\n",
       "      <td>Blue</td>\n",
       "      <td>36</td>\n",
       "      <td>...</td>\n",
       "      <td>1</td>\n",
       "      <td>2</td>\n",
       "      <td>4010.0</td>\n",
       "      <td>1247</td>\n",
       "      <td>2763.0</td>\n",
       "      <td>1.376</td>\n",
       "      <td>1088</td>\n",
       "      <td>24</td>\n",
       "      <td>0.846</td>\n",
       "      <td>0.311</td>\n",
       "    </tr>\n",
       "    <tr>\n",
       "      <th>6</th>\n",
       "      <td>810347208</td>\n",
       "      <td>Existing Customer</td>\n",
       "      <td>51</td>\n",
       "      <td>M</td>\n",
       "      <td>4</td>\n",
       "      <td>NaN</td>\n",
       "      <td>Married</td>\n",
       "      <td>$120K +</td>\n",
       "      <td>Gold</td>\n",
       "      <td>46</td>\n",
       "      <td>...</td>\n",
       "      <td>1</td>\n",
       "      <td>3</td>\n",
       "      <td>34516.0</td>\n",
       "      <td>2264</td>\n",
       "      <td>32252.0</td>\n",
       "      <td>1.975</td>\n",
       "      <td>1330</td>\n",
       "      <td>31</td>\n",
       "      <td>0.722</td>\n",
       "      <td>0.066</td>\n",
       "    </tr>\n",
       "    <tr>\n",
       "      <th>7</th>\n",
       "      <td>818906208</td>\n",
       "      <td>Existing Customer</td>\n",
       "      <td>32</td>\n",
       "      <td>M</td>\n",
       "      <td>0</td>\n",
       "      <td>High School</td>\n",
       "      <td>NaN</td>\n",
       "      <td>$60K - $80K</td>\n",
       "      <td>Silver</td>\n",
       "      <td>27</td>\n",
       "      <td>...</td>\n",
       "      <td>2</td>\n",
       "      <td>2</td>\n",
       "      <td>29081.0</td>\n",
       "      <td>1396</td>\n",
       "      <td>27685.0</td>\n",
       "      <td>2.204</td>\n",
       "      <td>1538</td>\n",
       "      <td>36</td>\n",
       "      <td>0.714</td>\n",
       "      <td>0.048</td>\n",
       "    </tr>\n",
       "    <tr>\n",
       "      <th>8</th>\n",
       "      <td>710930508</td>\n",
       "      <td>Existing Customer</td>\n",
       "      <td>37</td>\n",
       "      <td>M</td>\n",
       "      <td>3</td>\n",
       "      <td>Uneducated</td>\n",
       "      <td>Single</td>\n",
       "      <td>$60K - $80K</td>\n",
       "      <td>Blue</td>\n",
       "      <td>36</td>\n",
       "      <td>...</td>\n",
       "      <td>2</td>\n",
       "      <td>0</td>\n",
       "      <td>22352.0</td>\n",
       "      <td>2517</td>\n",
       "      <td>19835.0</td>\n",
       "      <td>3.355</td>\n",
       "      <td>1350</td>\n",
       "      <td>24</td>\n",
       "      <td>1.182</td>\n",
       "      <td>0.113</td>\n",
       "    </tr>\n",
       "    <tr>\n",
       "      <th>9</th>\n",
       "      <td>719661558</td>\n",
       "      <td>Existing Customer</td>\n",
       "      <td>48</td>\n",
       "      <td>M</td>\n",
       "      <td>2</td>\n",
       "      <td>Graduate</td>\n",
       "      <td>Single</td>\n",
       "      <td>$80K - $120K</td>\n",
       "      <td>Blue</td>\n",
       "      <td>36</td>\n",
       "      <td>...</td>\n",
       "      <td>3</td>\n",
       "      <td>3</td>\n",
       "      <td>11656.0</td>\n",
       "      <td>1677</td>\n",
       "      <td>9979.0</td>\n",
       "      <td>1.524</td>\n",
       "      <td>1441</td>\n",
       "      <td>32</td>\n",
       "      <td>0.882</td>\n",
       "      <td>0.144</td>\n",
       "    </tr>\n",
       "    <tr>\n",
       "      <th>10</th>\n",
       "      <td>708790833</td>\n",
       "      <td>Existing Customer</td>\n",
       "      <td>42</td>\n",
       "      <td>M</td>\n",
       "      <td>5</td>\n",
       "      <td>Uneducated</td>\n",
       "      <td>NaN</td>\n",
       "      <td>$120K +</td>\n",
       "      <td>Blue</td>\n",
       "      <td>31</td>\n",
       "      <td>...</td>\n",
       "      <td>3</td>\n",
       "      <td>2</td>\n",
       "      <td>6748.0</td>\n",
       "      <td>1467</td>\n",
       "      <td>5281.0</td>\n",
       "      <td>0.831</td>\n",
       "      <td>1201</td>\n",
       "      <td>42</td>\n",
       "      <td>0.680</td>\n",
       "      <td>0.217</td>\n",
       "    </tr>\n",
       "    <tr>\n",
       "      <th>11</th>\n",
       "      <td>710821833</td>\n",
       "      <td>Existing Customer</td>\n",
       "      <td>65</td>\n",
       "      <td>M</td>\n",
       "      <td>1</td>\n",
       "      <td>NaN</td>\n",
       "      <td>Married</td>\n",
       "      <td>$40K - $60K</td>\n",
       "      <td>Blue</td>\n",
       "      <td>54</td>\n",
       "      <td>...</td>\n",
       "      <td>2</td>\n",
       "      <td>3</td>\n",
       "      <td>9095.0</td>\n",
       "      <td>1587</td>\n",
       "      <td>7508.0</td>\n",
       "      <td>1.433</td>\n",
       "      <td>1314</td>\n",
       "      <td>26</td>\n",
       "      <td>1.364</td>\n",
       "      <td>0.174</td>\n",
       "    </tr>\n",
       "    <tr>\n",
       "      <th>12</th>\n",
       "      <td>710599683</td>\n",
       "      <td>Existing Customer</td>\n",
       "      <td>56</td>\n",
       "      <td>M</td>\n",
       "      <td>1</td>\n",
       "      <td>College</td>\n",
       "      <td>Single</td>\n",
       "      <td>$80K - $120K</td>\n",
       "      <td>Blue</td>\n",
       "      <td>36</td>\n",
       "      <td>...</td>\n",
       "      <td>6</td>\n",
       "      <td>0</td>\n",
       "      <td>11751.0</td>\n",
       "      <td>0</td>\n",
       "      <td>11751.0</td>\n",
       "      <td>3.397</td>\n",
       "      <td>1539</td>\n",
       "      <td>17</td>\n",
       "      <td>3.250</td>\n",
       "      <td>0.000</td>\n",
       "    </tr>\n",
       "    <tr>\n",
       "      <th>13</th>\n",
       "      <td>816082233</td>\n",
       "      <td>Existing Customer</td>\n",
       "      <td>35</td>\n",
       "      <td>M</td>\n",
       "      <td>3</td>\n",
       "      <td>Graduate</td>\n",
       "      <td>NaN</td>\n",
       "      <td>$60K - $80K</td>\n",
       "      <td>Blue</td>\n",
       "      <td>30</td>\n",
       "      <td>...</td>\n",
       "      <td>1</td>\n",
       "      <td>3</td>\n",
       "      <td>8547.0</td>\n",
       "      <td>1666</td>\n",
       "      <td>6881.0</td>\n",
       "      <td>1.163</td>\n",
       "      <td>1311</td>\n",
       "      <td>33</td>\n",
       "      <td>2.000</td>\n",
       "      <td>0.195</td>\n",
       "    </tr>\n",
       "    <tr>\n",
       "      <th>14</th>\n",
       "      <td>712396908</td>\n",
       "      <td>Existing Customer</td>\n",
       "      <td>57</td>\n",
       "      <td>F</td>\n",
       "      <td>2</td>\n",
       "      <td>Graduate</td>\n",
       "      <td>Married</td>\n",
       "      <td>Less than $40K</td>\n",
       "      <td>Blue</td>\n",
       "      <td>48</td>\n",
       "      <td>...</td>\n",
       "      <td>2</td>\n",
       "      <td>2</td>\n",
       "      <td>2436.0</td>\n",
       "      <td>680</td>\n",
       "      <td>1756.0</td>\n",
       "      <td>1.190</td>\n",
       "      <td>1570</td>\n",
       "      <td>29</td>\n",
       "      <td>0.611</td>\n",
       "      <td>0.279</td>\n",
       "    </tr>\n",
       "    <tr>\n",
       "      <th>15</th>\n",
       "      <td>714885258</td>\n",
       "      <td>Existing Customer</td>\n",
       "      <td>44</td>\n",
       "      <td>M</td>\n",
       "      <td>4</td>\n",
       "      <td>NaN</td>\n",
       "      <td>NaN</td>\n",
       "      <td>$80K - $120K</td>\n",
       "      <td>Blue</td>\n",
       "      <td>37</td>\n",
       "      <td>...</td>\n",
       "      <td>1</td>\n",
       "      <td>2</td>\n",
       "      <td>4234.0</td>\n",
       "      <td>972</td>\n",
       "      <td>3262.0</td>\n",
       "      <td>1.707</td>\n",
       "      <td>1348</td>\n",
       "      <td>27</td>\n",
       "      <td>1.700</td>\n",
       "      <td>0.230</td>\n",
       "    </tr>\n",
       "    <tr>\n",
       "      <th>16</th>\n",
       "      <td>709967358</td>\n",
       "      <td>Existing Customer</td>\n",
       "      <td>48</td>\n",
       "      <td>M</td>\n",
       "      <td>4</td>\n",
       "      <td>Post-Graduate</td>\n",
       "      <td>Single</td>\n",
       "      <td>$80K - $120K</td>\n",
       "      <td>Blue</td>\n",
       "      <td>36</td>\n",
       "      <td>...</td>\n",
       "      <td>2</td>\n",
       "      <td>3</td>\n",
       "      <td>30367.0</td>\n",
       "      <td>2362</td>\n",
       "      <td>28005.0</td>\n",
       "      <td>1.708</td>\n",
       "      <td>1671</td>\n",
       "      <td>27</td>\n",
       "      <td>0.929</td>\n",
       "      <td>0.078</td>\n",
       "    </tr>\n",
       "    <tr>\n",
       "      <th>17</th>\n",
       "      <td>753327333</td>\n",
       "      <td>Existing Customer</td>\n",
       "      <td>41</td>\n",
       "      <td>M</td>\n",
       "      <td>3</td>\n",
       "      <td>NaN</td>\n",
       "      <td>Married</td>\n",
       "      <td>$80K - $120K</td>\n",
       "      <td>Blue</td>\n",
       "      <td>34</td>\n",
       "      <td>...</td>\n",
       "      <td>4</td>\n",
       "      <td>1</td>\n",
       "      <td>13535.0</td>\n",
       "      <td>1291</td>\n",
       "      <td>12244.0</td>\n",
       "      <td>0.653</td>\n",
       "      <td>1028</td>\n",
       "      <td>21</td>\n",
       "      <td>1.625</td>\n",
       "      <td>0.095</td>\n",
       "    </tr>\n",
       "    <tr>\n",
       "      <th>18</th>\n",
       "      <td>806160108</td>\n",
       "      <td>Existing Customer</td>\n",
       "      <td>61</td>\n",
       "      <td>M</td>\n",
       "      <td>1</td>\n",
       "      <td>High School</td>\n",
       "      <td>Married</td>\n",
       "      <td>$40K - $60K</td>\n",
       "      <td>Blue</td>\n",
       "      <td>56</td>\n",
       "      <td>...</td>\n",
       "      <td>2</td>\n",
       "      <td>3</td>\n",
       "      <td>3193.0</td>\n",
       "      <td>2517</td>\n",
       "      <td>676.0</td>\n",
       "      <td>1.831</td>\n",
       "      <td>1336</td>\n",
       "      <td>30</td>\n",
       "      <td>1.143</td>\n",
       "      <td>0.788</td>\n",
       "    </tr>\n",
       "    <tr>\n",
       "      <th>19</th>\n",
       "      <td>709327383</td>\n",
       "      <td>Existing Customer</td>\n",
       "      <td>45</td>\n",
       "      <td>F</td>\n",
       "      <td>2</td>\n",
       "      <td>Graduate</td>\n",
       "      <td>Married</td>\n",
       "      <td>abc</td>\n",
       "      <td>Blue</td>\n",
       "      <td>37</td>\n",
       "      <td>...</td>\n",
       "      <td>1</td>\n",
       "      <td>2</td>\n",
       "      <td>14470.0</td>\n",
       "      <td>1157</td>\n",
       "      <td>13313.0</td>\n",
       "      <td>0.966</td>\n",
       "      <td>1207</td>\n",
       "      <td>21</td>\n",
       "      <td>0.909</td>\n",
       "      <td>0.080</td>\n",
       "    </tr>\n",
       "  </tbody>\n",
       "</table>\n",
       "<p>20 rows × 21 columns</p>\n",
       "</div>"
      ],
      "text/plain": [
       "    CLIENTNUM     Attrition_Flag  Customer_Age Gender  Dependent_count  \\\n",
       "0   768805383  Existing Customer            45      M                3   \n",
       "1   818770008  Existing Customer            49      F                5   \n",
       "2   713982108  Existing Customer            51      M                3   \n",
       "3   769911858  Existing Customer            40      F                4   \n",
       "4   709106358  Existing Customer            40      M                3   \n",
       "5   713061558  Existing Customer            44      M                2   \n",
       "6   810347208  Existing Customer            51      M                4   \n",
       "7   818906208  Existing Customer            32      M                0   \n",
       "8   710930508  Existing Customer            37      M                3   \n",
       "9   719661558  Existing Customer            48      M                2   \n",
       "10  708790833  Existing Customer            42      M                5   \n",
       "11  710821833  Existing Customer            65      M                1   \n",
       "12  710599683  Existing Customer            56      M                1   \n",
       "13  816082233  Existing Customer            35      M                3   \n",
       "14  712396908  Existing Customer            57      F                2   \n",
       "15  714885258  Existing Customer            44      M                4   \n",
       "16  709967358  Existing Customer            48      M                4   \n",
       "17  753327333  Existing Customer            41      M                3   \n",
       "18  806160108  Existing Customer            61      M                1   \n",
       "19  709327383  Existing Customer            45      F                2   \n",
       "\n",
       "   Education_Level Marital_Status Income_Category Card_Category  \\\n",
       "0      High School        Married     $60K - $80K          Blue   \n",
       "1         Graduate         Single  Less than $40K          Blue   \n",
       "2         Graduate        Married    $80K - $120K          Blue   \n",
       "3      High School            NaN  Less than $40K          Blue   \n",
       "4       Uneducated        Married     $60K - $80K          Blue   \n",
       "5         Graduate        Married     $40K - $60K          Blue   \n",
       "6              NaN        Married         $120K +          Gold   \n",
       "7      High School            NaN     $60K - $80K        Silver   \n",
       "8       Uneducated         Single     $60K - $80K          Blue   \n",
       "9         Graduate         Single    $80K - $120K          Blue   \n",
       "10      Uneducated            NaN         $120K +          Blue   \n",
       "11             NaN        Married     $40K - $60K          Blue   \n",
       "12         College         Single    $80K - $120K          Blue   \n",
       "13        Graduate            NaN     $60K - $80K          Blue   \n",
       "14        Graduate        Married  Less than $40K          Blue   \n",
       "15             NaN            NaN    $80K - $120K          Blue   \n",
       "16   Post-Graduate         Single    $80K - $120K          Blue   \n",
       "17             NaN        Married    $80K - $120K          Blue   \n",
       "18     High School        Married     $40K - $60K          Blue   \n",
       "19        Graduate        Married             abc          Blue   \n",
       "\n",
       "    Months_on_book  ...  Months_Inactive_12_mon  Contacts_Count_12_mon  \\\n",
       "0               39  ...                       1                      3   \n",
       "1               44  ...                       1                      2   \n",
       "2               36  ...                       1                      0   \n",
       "3               34  ...                       4                      1   \n",
       "4               21  ...                       1                      0   \n",
       "5               36  ...                       1                      2   \n",
       "6               46  ...                       1                      3   \n",
       "7               27  ...                       2                      2   \n",
       "8               36  ...                       2                      0   \n",
       "9               36  ...                       3                      3   \n",
       "10              31  ...                       3                      2   \n",
       "11              54  ...                       2                      3   \n",
       "12              36  ...                       6                      0   \n",
       "13              30  ...                       1                      3   \n",
       "14              48  ...                       2                      2   \n",
       "15              37  ...                       1                      2   \n",
       "16              36  ...                       2                      3   \n",
       "17              34  ...                       4                      1   \n",
       "18              56  ...                       2                      3   \n",
       "19              37  ...                       1                      2   \n",
       "\n",
       "    Credit_Limit  Total_Revolving_Bal  Avg_Open_To_Buy  Total_Amt_Chng_Q4_Q1  \\\n",
       "0        12691.0                  777          11914.0                 1.335   \n",
       "1         8256.0                  864           7392.0                 1.541   \n",
       "2         3418.0                    0           3418.0                 2.594   \n",
       "3         3313.0                 2517            796.0                 1.405   \n",
       "4         4716.0                    0           4716.0                 2.175   \n",
       "5         4010.0                 1247           2763.0                 1.376   \n",
       "6        34516.0                 2264          32252.0                 1.975   \n",
       "7        29081.0                 1396          27685.0                 2.204   \n",
       "8        22352.0                 2517          19835.0                 3.355   \n",
       "9        11656.0                 1677           9979.0                 1.524   \n",
       "10        6748.0                 1467           5281.0                 0.831   \n",
       "11        9095.0                 1587           7508.0                 1.433   \n",
       "12       11751.0                    0          11751.0                 3.397   \n",
       "13        8547.0                 1666           6881.0                 1.163   \n",
       "14        2436.0                  680           1756.0                 1.190   \n",
       "15        4234.0                  972           3262.0                 1.707   \n",
       "16       30367.0                 2362          28005.0                 1.708   \n",
       "17       13535.0                 1291          12244.0                 0.653   \n",
       "18        3193.0                 2517            676.0                 1.831   \n",
       "19       14470.0                 1157          13313.0                 0.966   \n",
       "\n",
       "    Total_Trans_Amt  Total_Trans_Ct  Total_Ct_Chng_Q4_Q1  \\\n",
       "0              1144              42                1.625   \n",
       "1              1291              33                3.714   \n",
       "2              1887              20                2.333   \n",
       "3              1171              20                2.333   \n",
       "4               816              28                2.500   \n",
       "5              1088              24                0.846   \n",
       "6              1330              31                0.722   \n",
       "7              1538              36                0.714   \n",
       "8              1350              24                1.182   \n",
       "9              1441              32                0.882   \n",
       "10             1201              42                0.680   \n",
       "11             1314              26                1.364   \n",
       "12             1539              17                3.250   \n",
       "13             1311              33                2.000   \n",
       "14             1570              29                0.611   \n",
       "15             1348              27                1.700   \n",
       "16             1671              27                0.929   \n",
       "17             1028              21                1.625   \n",
       "18             1336              30                1.143   \n",
       "19             1207              21                0.909   \n",
       "\n",
       "    Avg_Utilization_Ratio  \n",
       "0                   0.061  \n",
       "1                   0.105  \n",
       "2                   0.000  \n",
       "3                   0.760  \n",
       "4                   0.000  \n",
       "5                   0.311  \n",
       "6                   0.066  \n",
       "7                   0.048  \n",
       "8                   0.113  \n",
       "9                   0.144  \n",
       "10                  0.217  \n",
       "11                  0.174  \n",
       "12                  0.000  \n",
       "13                  0.195  \n",
       "14                  0.279  \n",
       "15                  0.230  \n",
       "16                  0.078  \n",
       "17                  0.095  \n",
       "18                  0.788  \n",
       "19                  0.080  \n",
       "\n",
       "[20 rows x 21 columns]"
      ]
     },
     "execution_count": 4,
     "metadata": {},
     "output_type": "execute_result"
    }
   ],
   "source": [
    "# Let's take a quick look. \n",
    "bank_df.head(20) "
   ]
  },
  {
   "cell_type": "code",
   "execution_count": 5,
   "metadata": {},
   "outputs": [
    {
     "name": "stdout",
     "output_type": "stream",
     "text": [
      "<class 'pandas.core.frame.DataFrame'>\n",
      "RangeIndex: 10127 entries, 0 to 10126\n",
      "Data columns (total 21 columns):\n",
      " #   Column                    Non-Null Count  Dtype  \n",
      "---  ------                    --------------  -----  \n",
      " 0   CLIENTNUM                 10127 non-null  int64  \n",
      " 1   Attrition_Flag            10127 non-null  object \n",
      " 2   Customer_Age              10127 non-null  int64  \n",
      " 3   Gender                    10127 non-null  object \n",
      " 4   Dependent_count           10127 non-null  int64  \n",
      " 5   Education_Level           8608 non-null   object \n",
      " 6   Marital_Status            9378 non-null   object \n",
      " 7   Income_Category           10127 non-null  object \n",
      " 8   Card_Category             10127 non-null  object \n",
      " 9   Months_on_book            10127 non-null  int64  \n",
      " 10  Total_Relationship_Count  10127 non-null  int64  \n",
      " 11  Months_Inactive_12_mon    10127 non-null  int64  \n",
      " 12  Contacts_Count_12_mon     10127 non-null  int64  \n",
      " 13  Credit_Limit              10127 non-null  float64\n",
      " 14  Total_Revolving_Bal       10127 non-null  int64  \n",
      " 15  Avg_Open_To_Buy           10127 non-null  float64\n",
      " 16  Total_Amt_Chng_Q4_Q1      10127 non-null  float64\n",
      " 17  Total_Trans_Amt           10127 non-null  int64  \n",
      " 18  Total_Trans_Ct            10127 non-null  int64  \n",
      " 19  Total_Ct_Chng_Q4_Q1       10127 non-null  float64\n",
      " 20  Avg_Utilization_Ratio     10127 non-null  float64\n",
      "dtypes: float64(5), int64(10), object(6)\n",
      "memory usage: 1.6+ MB\n"
     ]
    }
   ],
   "source": [
    "bank_df.info()"
   ]
  },
  {
   "cell_type": "code",
   "execution_count": 6,
   "metadata": {},
   "outputs": [
    {
     "data": {
      "text/html": [
       "<div>\n",
       "<style scoped>\n",
       "    .dataframe tbody tr th:only-of-type {\n",
       "        vertical-align: middle;\n",
       "    }\n",
       "\n",
       "    .dataframe tbody tr th {\n",
       "        vertical-align: top;\n",
       "    }\n",
       "\n",
       "    .dataframe thead th {\n",
       "        text-align: right;\n",
       "    }\n",
       "</style>\n",
       "<table border=\"1\" class=\"dataframe\">\n",
       "  <thead>\n",
       "    <tr style=\"text-align: right;\">\n",
       "      <th></th>\n",
       "      <th>count</th>\n",
       "      <th>mean</th>\n",
       "      <th>std</th>\n",
       "      <th>min</th>\n",
       "      <th>25%</th>\n",
       "      <th>50%</th>\n",
       "      <th>75%</th>\n",
       "      <th>max</th>\n",
       "    </tr>\n",
       "  </thead>\n",
       "  <tbody>\n",
       "    <tr>\n",
       "      <th>CLIENTNUM</th>\n",
       "      <td>10127.00</td>\n",
       "      <td>739177606.33</td>\n",
       "      <td>36903783.45</td>\n",
       "      <td>708082083.00</td>\n",
       "      <td>713036770.50</td>\n",
       "      <td>717926358.00</td>\n",
       "      <td>773143533.00</td>\n",
       "      <td>828343083.00</td>\n",
       "    </tr>\n",
       "    <tr>\n",
       "      <th>Customer_Age</th>\n",
       "      <td>10127.00</td>\n",
       "      <td>46.33</td>\n",
       "      <td>8.02</td>\n",
       "      <td>26.00</td>\n",
       "      <td>41.00</td>\n",
       "      <td>46.00</td>\n",
       "      <td>52.00</td>\n",
       "      <td>73.00</td>\n",
       "    </tr>\n",
       "    <tr>\n",
       "      <th>Dependent_count</th>\n",
       "      <td>10127.00</td>\n",
       "      <td>2.35</td>\n",
       "      <td>1.30</td>\n",
       "      <td>0.00</td>\n",
       "      <td>1.00</td>\n",
       "      <td>2.00</td>\n",
       "      <td>3.00</td>\n",
       "      <td>5.00</td>\n",
       "    </tr>\n",
       "    <tr>\n",
       "      <th>Months_on_book</th>\n",
       "      <td>10127.00</td>\n",
       "      <td>35.93</td>\n",
       "      <td>7.99</td>\n",
       "      <td>13.00</td>\n",
       "      <td>31.00</td>\n",
       "      <td>36.00</td>\n",
       "      <td>40.00</td>\n",
       "      <td>56.00</td>\n",
       "    </tr>\n",
       "    <tr>\n",
       "      <th>Total_Relationship_Count</th>\n",
       "      <td>10127.00</td>\n",
       "      <td>3.81</td>\n",
       "      <td>1.55</td>\n",
       "      <td>1.00</td>\n",
       "      <td>3.00</td>\n",
       "      <td>4.00</td>\n",
       "      <td>5.00</td>\n",
       "      <td>6.00</td>\n",
       "    </tr>\n",
       "    <tr>\n",
       "      <th>Months_Inactive_12_mon</th>\n",
       "      <td>10127.00</td>\n",
       "      <td>2.34</td>\n",
       "      <td>1.01</td>\n",
       "      <td>0.00</td>\n",
       "      <td>2.00</td>\n",
       "      <td>2.00</td>\n",
       "      <td>3.00</td>\n",
       "      <td>6.00</td>\n",
       "    </tr>\n",
       "    <tr>\n",
       "      <th>Contacts_Count_12_mon</th>\n",
       "      <td>10127.00</td>\n",
       "      <td>2.46</td>\n",
       "      <td>1.11</td>\n",
       "      <td>0.00</td>\n",
       "      <td>2.00</td>\n",
       "      <td>2.00</td>\n",
       "      <td>3.00</td>\n",
       "      <td>6.00</td>\n",
       "    </tr>\n",
       "    <tr>\n",
       "      <th>Credit_Limit</th>\n",
       "      <td>10127.00</td>\n",
       "      <td>8631.95</td>\n",
       "      <td>9088.78</td>\n",
       "      <td>1438.30</td>\n",
       "      <td>2555.00</td>\n",
       "      <td>4549.00</td>\n",
       "      <td>11067.50</td>\n",
       "      <td>34516.00</td>\n",
       "    </tr>\n",
       "    <tr>\n",
       "      <th>Total_Revolving_Bal</th>\n",
       "      <td>10127.00</td>\n",
       "      <td>1162.81</td>\n",
       "      <td>814.99</td>\n",
       "      <td>0.00</td>\n",
       "      <td>359.00</td>\n",
       "      <td>1276.00</td>\n",
       "      <td>1784.00</td>\n",
       "      <td>2517.00</td>\n",
       "    </tr>\n",
       "    <tr>\n",
       "      <th>Avg_Open_To_Buy</th>\n",
       "      <td>10127.00</td>\n",
       "      <td>7469.14</td>\n",
       "      <td>9090.69</td>\n",
       "      <td>3.00</td>\n",
       "      <td>1324.50</td>\n",
       "      <td>3474.00</td>\n",
       "      <td>9859.00</td>\n",
       "      <td>34516.00</td>\n",
       "    </tr>\n",
       "    <tr>\n",
       "      <th>Total_Amt_Chng_Q4_Q1</th>\n",
       "      <td>10127.00</td>\n",
       "      <td>0.76</td>\n",
       "      <td>0.22</td>\n",
       "      <td>0.00</td>\n",
       "      <td>0.63</td>\n",
       "      <td>0.74</td>\n",
       "      <td>0.86</td>\n",
       "      <td>3.40</td>\n",
       "    </tr>\n",
       "    <tr>\n",
       "      <th>Total_Trans_Amt</th>\n",
       "      <td>10127.00</td>\n",
       "      <td>4404.09</td>\n",
       "      <td>3397.13</td>\n",
       "      <td>510.00</td>\n",
       "      <td>2155.50</td>\n",
       "      <td>3899.00</td>\n",
       "      <td>4741.00</td>\n",
       "      <td>18484.00</td>\n",
       "    </tr>\n",
       "    <tr>\n",
       "      <th>Total_Trans_Ct</th>\n",
       "      <td>10127.00</td>\n",
       "      <td>64.86</td>\n",
       "      <td>23.47</td>\n",
       "      <td>10.00</td>\n",
       "      <td>45.00</td>\n",
       "      <td>67.00</td>\n",
       "      <td>81.00</td>\n",
       "      <td>139.00</td>\n",
       "    </tr>\n",
       "    <tr>\n",
       "      <th>Total_Ct_Chng_Q4_Q1</th>\n",
       "      <td>10127.00</td>\n",
       "      <td>0.71</td>\n",
       "      <td>0.24</td>\n",
       "      <td>0.00</td>\n",
       "      <td>0.58</td>\n",
       "      <td>0.70</td>\n",
       "      <td>0.82</td>\n",
       "      <td>3.71</td>\n",
       "    </tr>\n",
       "    <tr>\n",
       "      <th>Avg_Utilization_Ratio</th>\n",
       "      <td>10127.00</td>\n",
       "      <td>0.27</td>\n",
       "      <td>0.28</td>\n",
       "      <td>0.00</td>\n",
       "      <td>0.02</td>\n",
       "      <td>0.18</td>\n",
       "      <td>0.50</td>\n",
       "      <td>1.00</td>\n",
       "    </tr>\n",
       "  </tbody>\n",
       "</table>\n",
       "</div>"
      ],
      "text/plain": [
       "                             count          mean          std           min  \\\n",
       "CLIENTNUM                 10127.00  739177606.33  36903783.45  708082083.00   \n",
       "Customer_Age              10127.00         46.33         8.02         26.00   \n",
       "Dependent_count           10127.00          2.35         1.30          0.00   \n",
       "Months_on_book            10127.00         35.93         7.99         13.00   \n",
       "Total_Relationship_Count  10127.00          3.81         1.55          1.00   \n",
       "Months_Inactive_12_mon    10127.00          2.34         1.01          0.00   \n",
       "Contacts_Count_12_mon     10127.00          2.46         1.11          0.00   \n",
       "Credit_Limit              10127.00       8631.95      9088.78       1438.30   \n",
       "Total_Revolving_Bal       10127.00       1162.81       814.99          0.00   \n",
       "Avg_Open_To_Buy           10127.00       7469.14      9090.69          3.00   \n",
       "Total_Amt_Chng_Q4_Q1      10127.00          0.76         0.22          0.00   \n",
       "Total_Trans_Amt           10127.00       4404.09      3397.13        510.00   \n",
       "Total_Trans_Ct            10127.00         64.86        23.47         10.00   \n",
       "Total_Ct_Chng_Q4_Q1       10127.00          0.71         0.24          0.00   \n",
       "Avg_Utilization_Ratio     10127.00          0.27         0.28          0.00   \n",
       "\n",
       "                                   25%           50%           75%  \\\n",
       "CLIENTNUM                 713036770.50  717926358.00  773143533.00   \n",
       "Customer_Age                     41.00         46.00         52.00   \n",
       "Dependent_count                   1.00          2.00          3.00   \n",
       "Months_on_book                   31.00         36.00         40.00   \n",
       "Total_Relationship_Count          3.00          4.00          5.00   \n",
       "Months_Inactive_12_mon            2.00          2.00          3.00   \n",
       "Contacts_Count_12_mon             2.00          2.00          3.00   \n",
       "Credit_Limit                   2555.00       4549.00      11067.50   \n",
       "Total_Revolving_Bal             359.00       1276.00       1784.00   \n",
       "Avg_Open_To_Buy                1324.50       3474.00       9859.00   \n",
       "Total_Amt_Chng_Q4_Q1              0.63          0.74          0.86   \n",
       "Total_Trans_Amt                2155.50       3899.00       4741.00   \n",
       "Total_Trans_Ct                   45.00         67.00         81.00   \n",
       "Total_Ct_Chng_Q4_Q1               0.58          0.70          0.82   \n",
       "Avg_Utilization_Ratio             0.02          0.18          0.50   \n",
       "\n",
       "                                   max  \n",
       "CLIENTNUM                 828343083.00  \n",
       "Customer_Age                     73.00  \n",
       "Dependent_count                   5.00  \n",
       "Months_on_book                   56.00  \n",
       "Total_Relationship_Count          6.00  \n",
       "Months_Inactive_12_mon            6.00  \n",
       "Contacts_Count_12_mon             6.00  \n",
       "Credit_Limit                  34516.00  \n",
       "Total_Revolving_Bal            2517.00  \n",
       "Avg_Open_To_Buy               34516.00  \n",
       "Total_Amt_Chng_Q4_Q1              3.40  \n",
       "Total_Trans_Amt               18484.00  \n",
       "Total_Trans_Ct                  139.00  \n",
       "Total_Ct_Chng_Q4_Q1               3.71  \n",
       "Avg_Utilization_Ratio             1.00  "
      ]
     },
     "execution_count": 6,
     "metadata": {},
     "output_type": "execute_result"
    }
   ],
   "source": [
    "# Get some quantitative stats and supress scientific notation\n",
    "bank_df.describe().T.apply(lambda x: x.apply('{0:.2f}'.format))"
   ]
  },
  {
   "cell_type": "code",
   "execution_count": 7,
   "metadata": {},
   "outputs": [
    {
     "data": {
      "text/plain": [
       "False    10127\n",
       "dtype: int64"
      ]
     },
     "execution_count": 7,
     "metadata": {},
     "output_type": "execute_result"
    }
   ],
   "source": [
    "# Check for duplicates -> No duplicates\n",
    "bank_df.duplicated().value_counts()"
   ]
  },
  {
   "cell_type": "code",
   "execution_count": 8,
   "metadata": {},
   "outputs": [
    {
     "data": {
      "text/plain": [
       "CLIENTNUM                      0\n",
       "Attrition_Flag                 0\n",
       "Customer_Age                   0\n",
       "Gender                         0\n",
       "Dependent_count                0\n",
       "Education_Level             1519\n",
       "Marital_Status               749\n",
       "Income_Category                0\n",
       "Card_Category                  0\n",
       "Months_on_book                 0\n",
       "Total_Relationship_Count       0\n",
       "Months_Inactive_12_mon         0\n",
       "Contacts_Count_12_mon          0\n",
       "Credit_Limit                   0\n",
       "Total_Revolving_Bal            0\n",
       "Avg_Open_To_Buy                0\n",
       "Total_Amt_Chng_Q4_Q1           0\n",
       "Total_Trans_Amt                0\n",
       "Total_Trans_Ct                 0\n",
       "Total_Ct_Chng_Q4_Q1            0\n",
       "Avg_Utilization_Ratio          0\n",
       "dtype: int64"
      ]
     },
     "execution_count": 8,
     "metadata": {},
     "output_type": "execute_result"
    }
   ],
   "source": [
    "# Where do I have nulls or missing values\n",
    "bank_df.isna().sum(axis = 0)"
   ]
  },
  {
   "cell_type": "code",
   "execution_count": 9,
   "metadata": {},
   "outputs": [
    {
     "data": {
      "text/plain": [
       "Existing Customer    0.83934\n",
       "Attrited Customer    0.16066\n",
       "Name: Attrition_Flag, dtype: float64"
      ]
     },
     "execution_count": 9,
     "metadata": {},
     "output_type": "execute_result"
    }
   ],
   "source": [
    "bank_df['Attrition_Flag'].value_counts(normalize=True)"
   ]
  },
  {
   "cell_type": "code",
   "execution_count": 10,
   "metadata": {},
   "outputs": [
    {
     "data": {
      "text/plain": [
       "F    0.529081\n",
       "M    0.470919\n",
       "Name: Gender, dtype: float64"
      ]
     },
     "execution_count": 10,
     "metadata": {},
     "output_type": "execute_result"
    }
   ],
   "source": [
    "bank_df['Gender'].value_counts(normalize=True)"
   ]
  },
  {
   "cell_type": "code",
   "execution_count": 11,
   "metadata": {},
   "outputs": [
    {
     "data": {
      "text/plain": [
       "Graduate         0.363383\n",
       "High School      0.233852\n",
       "Uneducated       0.172746\n",
       "College          0.117681\n",
       "Post-Graduate    0.059944\n",
       "Doctorate        0.052393\n",
       "Name: Education_Level, dtype: float64"
      ]
     },
     "execution_count": 11,
     "metadata": {},
     "output_type": "execute_result"
    }
   ],
   "source": [
    "bank_df['Education_Level'].value_counts(normalize=True)"
   ]
  },
  {
   "cell_type": "code",
   "execution_count": 12,
   "metadata": {},
   "outputs": [
    {
     "data": {
      "text/plain": [
       "Married     0.499787\n",
       "Single      0.420452\n",
       "Divorced    0.079761\n",
       "Name: Marital_Status, dtype: float64"
      ]
     },
     "execution_count": 12,
     "metadata": {},
     "output_type": "execute_result"
    }
   ],
   "source": [
    "bank_df['Marital_Status'].value_counts(normalize=True)"
   ]
  },
  {
   "cell_type": "code",
   "execution_count": 13,
   "metadata": {},
   "outputs": [
    {
     "data": {
      "text/plain": [
       "Less than $40K    0.351634\n",
       "$40K - $60K       0.176755\n",
       "$80K - $120K      0.151575\n",
       "$60K - $80K       0.138442\n",
       "abc               0.109805\n",
       "$120K +           0.071788\n",
       "Name: Income_Category, dtype: float64"
      ]
     },
     "execution_count": 13,
     "metadata": {},
     "output_type": "execute_result"
    }
   ],
   "source": [
    "bank_df['Income_Category'].value_counts(normalize=True)"
   ]
  },
  {
   "cell_type": "code",
   "execution_count": 14,
   "metadata": {},
   "outputs": [
    {
     "data": {
      "text/plain": [
       "Blue        0.931767\n",
       "Silver      0.054804\n",
       "Gold        0.011455\n",
       "Platinum    0.001975\n",
       "Name: Card_Category, dtype: float64"
      ]
     },
     "execution_count": 14,
     "metadata": {},
     "output_type": "execute_result"
    }
   ],
   "source": [
    "bank_df['Card_Category'].value_counts(normalize=True)"
   ]
  },
  {
   "cell_type": "markdown",
   "metadata": {},
   "source": [
    "### Observations\n",
    "* 84% of the customers are Existing vs 16% Attrited.\n",
    "* `Age` look reasonable in their range (26-73) with a mean of 46\n",
    "* `Gender` percentages are close (53% Female vs 47% Male).\n",
    "* No super big families, 5 dependents is the max.  Some with no dependents.\n",
    "* Nulls exist, but over 50% of customers have college or high school degrees. Only about 11% of the customers have a Post-Graduate or Doctorate degree.  College students make up 12% of the customer base.\n",
    "* Three types of `Marital_Status`: Married (50%), Single (42%), Divorced (8%).  Missing some values though.\n",
    "* Ranges of Income, but a strange value of 'abc'that makes up about 11% of the data.  **Will need to address.** ✅\n",
    "* Most customers have Blue `Card_Category` (93%).  The three other categories are less than 7%, Platinum is < 1%.\n",
    "* `Months_on_book` looks reasonable in their range (13-56 months) with a mean of 36 months\n",
    "* `Total_Relationship_Count` looks reasonable in the range of 1-6 with the mean of ~4 products.  Is it important to know what those products are?\n",
    "* `Months_Inactive_12_mon` looks reasonable in the range of 0-6 months with mean of ~2 months.\n",
    "* `Contacts_Count_12_mon` looks reasonable in the range of 0-6 months with mean of ~2.5 months.\n",
    "* `Credit_Limit` looks reasonable in the range of \\\\$1400-\\\\$34,000 with mean of ~\\\\$8,600.  **Need to look at distribution** ✅\n",
    "* `Total_Revolving_Bal` are relatively small with max ~\\\\$2500.\n",
    "* `Avg_Open_To_Buy` max should not be bigger than max credit limit and it isn't.  Interesting that `Credit Limit` max == `Avg_Open_To_Buy` max.  This means the individual(s) with the max credit limit don't actually use their credit card.  \n",
    "* `Total_Amt_Chng_Q4_Q1` - Assume this is a ratio of some sorts where Q4/Q1 so values should be more and less than one, but not negative.  That is the case. I guess the case for when Q1 is zero is simply handled as 0.0.\n",
    "* `Total_Trans_Amt` ranges from \\\\$500 to \\\\$18000. **Need to look at distribution** ✅\n",
    "* `Total_Trans_Ct` ranges from 10-139 with a mean of ~65 transactions. **Need to look at distribution** ✅\n",
    "* `Total_Ct_Chng_Q4_Q1` - Assume this is a ratio of some sorts where Q4/Q1 so values should be more and less than one, but not negative.  That is the case. I guess the case for when Q1 is zero is simply handled as 0.0.\n",
    "* `Avg_Utilization_Ratio` has no values greater than 1. **Need to look at distribution** ✅\n",
    "* `Education_Level` and `Marital_Status` are the only variables **with missing values.** ✅"
   ]
  },
  {
   "cell_type": "markdown",
   "metadata": {
    "heading_collapsed": true,
    "id": "j-yGG8LNSSMa"
   },
   "source": [
    "## Exploratory Data Analysis (EDA)"
   ]
  },
  {
   "cell_type": "markdown",
   "metadata": {
    "heading_collapsed": true,
    "hidden": true,
    "id": "-YyWJgFlKlWM"
   },
   "source": [
    "#### The below functions need to be defined to carry out the Exploratory Data Analysis."
   ]
  },
  {
   "cell_type": "code",
   "execution_count": 15,
   "metadata": {
    "hidden": true,
    "id": "QIP4bI3Zbp07"
   },
   "outputs": [],
   "source": [
    "# function to plot a boxplot and a histogram along the same scale.\n",
    "\n",
    "\n",
    "def histogram_boxplot(data, feature, figsize=(12, 7), kde=False, bins=None):\n",
    "    \"\"\"\n",
    "    Boxplot and histogram combined\n",
    "\n",
    "    data: dataframe\n",
    "    feature: dataframe column\n",
    "    figsize: size of figure (default (12,7))\n",
    "    kde: whether to the show density curve (default False)\n",
    "    bins: number of bins for histogram (default None)\n",
    "    \"\"\"\n",
    "    f2, (ax_box2, ax_hist2) = plt.subplots(\n",
    "        nrows=2,  # Number of rows of the subplot grid= 2\n",
    "        sharex=True,  # x-axis will be shared among all subplots\n",
    "        gridspec_kw={\"height_ratios\": (0.25, 0.75)},\n",
    "        figsize=figsize,\n",
    "    )  # creating the 2 subplots\n",
    "    sns.boxplot(\n",
    "        data=data, x=feature, ax=ax_box2, showmeans=True, color=\"violet\"\n",
    "    )  # boxplot will be created and a triangle will indicate the mean value of the column\n",
    "    sns.histplot(\n",
    "        data=data, x=feature, kde=kde, ax=ax_hist2, bins=bins, palette=\"winter\"\n",
    "    ) if bins else sns.histplot(\n",
    "        data=data, x=feature, kde=kde, ax=ax_hist2\n",
    "    )  # For histogram\n",
    "    ax_hist2.axvline(\n",
    "        data[feature].mean(), color=\"green\", linestyle=\"--\"\n",
    "    )  # Add mean to the histogram\n",
    "    ax_hist2.axvline(\n",
    "        data[feature].median(), color=\"black\", linestyle=\"-\"\n",
    "    )  # Add median to the histogram"
   ]
  },
  {
   "cell_type": "code",
   "execution_count": 16,
   "metadata": {
    "hidden": true,
    "id": "QIP4bI3Zbp07"
   },
   "outputs": [],
   "source": [
    "# function to plot a two countplots side by side.\n",
    "\n",
    "\n",
    "def countplot_sbs(df1, df2, feature):\n",
    "        \n",
    "    fig, axs = plt.subplots(nrows=1, ncols=2, figsize=(8, 5), sharey=True)\n",
    "\n",
    "    #target_uniq = data[target].unique()\n",
    "    total_df1 = len(df1[feature]) - df1[feature].isna().sum(axis = 0) # length of the column\n",
    "    total_df2 = len(df2[feature])\n",
    "    \n",
    "    \n",
    "    axs[0].set_title(\"Original Distribution\")\n",
    "    ax1 = sns.countplot(\n",
    "        data=df1,\n",
    "        x=feature,\n",
    "        palette=\"Paired\",\n",
    "        ax=axs[0],\n",
    "        #stat='percent'\n",
    "        order=df1[feature].value_counts().index[:].sort_values(),\n",
    "    )\n",
    "\n",
    "    for p in ax1.patches:\n",
    "        label = \"{:.1f}%\".format(\n",
    "                100 * p.get_height() / total_df1\n",
    "        )  # percentage of each class of the category\n",
    "        \n",
    "        #label = p.get_height()  # count of each level of the category\n",
    "        x = p.get_x() + p.get_width() / 2  # width of the plot\n",
    "        y = p.get_height()  # height of the plot\n",
    "\n",
    "        ax1.annotate(\n",
    "            label,\n",
    "            (x, y),\n",
    "            ha=\"center\",\n",
    "            va=\"center\",\n",
    "            size=8,\n",
    "            xytext=(0, 5),\n",
    "            textcoords=\"offset points\",\n",
    "        )  # annotate the percentagehe percentage\n",
    "    \n",
    "    \n",
    "    axs[1].set_title(\"Imputed Distribution\")\n",
    "    ax2 = sns.countplot(\n",
    "        data=df2,\n",
    "        x=feature,\n",
    "        palette=\"Paired\",\n",
    "        ax=axs[1],\n",
    "        #stat='percent'\n",
    "        order=df2[feature].value_counts().index[:].sort_values(),\n",
    "    )\n",
    "    \n",
    "    for p in ax2.patches:\n",
    "        label = \"{:.1f}%\".format(\n",
    "               100 * p.get_height() / total_df2\n",
    "        )  # percentage of each class of the category\n",
    "        #label = p.get_height()  # count of each level of the category\n",
    "        x = p.get_x() + p.get_width() / 2  # width of the plot\n",
    "        y = p.get_height()  # height of the plot\n",
    "\n",
    "        ax2.annotate(\n",
    "            label,\n",
    "            (x, y),\n",
    "            ha=\"center\",\n",
    "            va=\"center\",\n",
    "            size=8,\n",
    "            xytext=(0, 5),\n",
    "            textcoords=\"offset points\",\n",
    "        )  # annotate the percentagehe percentage\n",
    "    \n",
    "    plt.tight_layout()\n",
    "    plt.setp(ax1.get_xticklabels() + ax2.get_xticklabels(), rotation=30, ha='right')\n",
    "    plt.show()\n",
    "    \n",
    "    \n",
    "    "
   ]
  },
  {
   "cell_type": "code",
   "execution_count": 17,
   "metadata": {
    "hidden": true,
    "id": "5021de33"
   },
   "outputs": [],
   "source": [
    "# function to create labeled barplots\n",
    "\n",
    "\n",
    "def labeled_barplot(data, feature, perc=False, n=None):\n",
    "    \"\"\"\n",
    "    Barplot with percentage at the top\n",
    "\n",
    "    data: dataframe\n",
    "    feature: dataframe column\n",
    "    perc: whether to display percentages instead of count (default is False)\n",
    "    n: displays the top n category levels (default is None, i.e., display all levels)\n",
    "    \"\"\"\n",
    "\n",
    "    total = len(data[feature])  # length of the column\n",
    "    count = data[feature].nunique()\n",
    "    if n is None:\n",
    "        plt.figure(figsize=(count + 1, 5))\n",
    "    else:\n",
    "        plt.figure(figsize=(n + 1, 5))\n",
    "\n",
    "    plt.xticks(rotation=90, fontsize=15)\n",
    "    ax = sns.countplot(\n",
    "        data=data,\n",
    "        x=feature,\n",
    "        palette=\"Paired\",\n",
    "        order=data[feature].value_counts().index[:n].sort_values(),\n",
    "    )\n",
    "\n",
    "    for p in ax.patches:\n",
    "        if perc == True:\n",
    "            label = \"{:.1f}%\".format(\n",
    "                100 * p.get_height() / total\n",
    "            )  # percentage of each class of the category\n",
    "        else:\n",
    "            label = p.get_height()  # count of each level of the category\n",
    "\n",
    "        x = p.get_x() + p.get_width() / 2  # width of the plot\n",
    "        y = p.get_height()  # height of the plot\n",
    "\n",
    "        ax.annotate(\n",
    "            label,\n",
    "            (x, y),\n",
    "            ha=\"center\",\n",
    "            va=\"center\",\n",
    "            size=12,\n",
    "            xytext=(0, 5),\n",
    "            textcoords=\"offset points\",\n",
    "        )  # annotate the percentage\n",
    "\n",
    "    plt.show()  # show the plot"
   ]
  },
  {
   "cell_type": "code",
   "execution_count": 18,
   "metadata": {
    "hidden": true,
    "id": "c08fe5b8"
   },
   "outputs": [],
   "source": [
    "# function to plot stacked bar chart\n",
    "\n",
    "def stacked_barplot(data, predictor, target):\n",
    "    \"\"\"\n",
    "    Print the category counts and plot a stacked bar chart\n",
    "\n",
    "    data: dataframe\n",
    "    predictor: independent variable\n",
    "    target: target variable\n",
    "    \"\"\"\n",
    "    count = data[predictor].nunique()\n",
    "    sorter = data[target].value_counts().index[-1]\n",
    "    tab1 = pd.crosstab(data[predictor], data[target], margins=True).sort_values(\n",
    "        by=sorter, ascending=False\n",
    "    )\n",
    "    print(tab1)\n",
    "    print(\"-\" * 120)\n",
    "    tab = pd.crosstab(data[predictor], data[target], normalize=\"index\").sort_values(\n",
    "        by=sorter, ascending=False\n",
    "    )\n",
    "    tab.plot(kind=\"bar\", stacked=True, figsize=(count + 1, 5))\n",
    "    plt.legend(\n",
    "        loc=\"lower left\", frameon=False,\n",
    "    )\n",
    "    plt.legend(loc=\"upper left\", bbox_to_anchor=(1, 1))\n",
    "    plt.show()"
   ]
  },
  {
   "cell_type": "code",
   "execution_count": 19,
   "metadata": {
    "hidden": true,
    "id": "e90985c5"
   },
   "outputs": [],
   "source": [
    "### Function to plot distributions\n",
    "\n",
    "def distribution_plot_wrt_target(data, predictor, target):\n",
    "\n",
    "    fig, axs = plt.subplots(2, 2, figsize=(12, 10))\n",
    "\n",
    "    target_uniq = data[target].unique()\n",
    "\n",
    "    axs[0, 0].set_title(\"Distribution of target for target=\" + str(target_uniq[0]))\n",
    "    sns.histplot(\n",
    "        data=data[data[target] == target_uniq[0]],\n",
    "        x=predictor,\n",
    "        kde=True,\n",
    "        ax=axs[0, 0],\n",
    "        color=\"teal\",\n",
    "    )\n",
    "\n",
    "    axs[0, 1].set_title(\"Distribution of target for target=\" + str(target_uniq[1]))\n",
    "    sns.histplot(\n",
    "        data=data[data[target] == target_uniq[1]],\n",
    "        x=predictor,\n",
    "        kde=True,\n",
    "        ax=axs[0, 1],\n",
    "        color=\"orange\",\n",
    "    )\n",
    "\n",
    "    axs[1, 0].set_title(\"Boxplot w.r.t target\")\n",
    "    sns.boxplot(data=data, x=target, y=predictor, ax=axs[1, 0], palette=\"gist_rainbow\")\n",
    "\n",
    "    axs[1, 1].set_title(\"Boxplot (without outliers) w.r.t target\")\n",
    "    sns.boxplot(\n",
    "        data=data,\n",
    "        x=target,\n",
    "        y=predictor,\n",
    "        ax=axs[1, 1],\n",
    "        showfliers=False,\n",
    "        palette=\"gist_rainbow\",\n",
    "    )\n",
    "\n",
    "    plt.tight_layout()\n",
    "    plt.show()"
   ]
  },
  {
   "cell_type": "markdown",
   "metadata": {
    "heading_collapsed": true,
    "hidden": true,
    "id": "-YyWJgFlKlWM"
   },
   "source": [
    "#### Exploratory Data Analysis Instructions."
   ]
  },
  {
   "cell_type": "markdown",
   "metadata": {
    "hidden": true,
    "id": "3bGVKmh75ri8"
   },
   "source": [
    "- EDA is an important part of any project involving data.\n",
    "- It is important to investigate and understand the data better before building a model with it.\n",
    "- A few questions have been mentioned below which will help you approach the analysis in the right manner and generate insights from the data.\n",
    "- A thorough analysis of the data, in addition to the questions mentioned below, should be done."
   ]
  },
  {
   "cell_type": "markdown",
   "metadata": {
    "hidden": true,
    "id": "oEyqzdJBb0jU"
   },
   "source": [
    "#### Questions"
   ]
  },
  {
   "cell_type": "raw",
   "metadata": {
    "hidden": true
   },
   "source": [
    "# 1. How is the total transaction amount distributed? \n",
    "histogram_boxplot(bank_df, 'Total_Trans_Amt')"
   ]
  },
  {
   "cell_type": "markdown",
   "metadata": {
    "hidden": true
   },
   "source": [
    "**Ans: U-shaped distribution that is right-skewed with many outliers.**"
   ]
  },
  {
   "cell_type": "raw",
   "metadata": {
    "hidden": true
   },
   "source": [
    "# 2. What is the distribution of the level of education of customers?\n",
    "labeled_barplot(bank_df, 'Education_Level', perc=True)"
   ]
  },
  {
   "cell_type": "markdown",
   "metadata": {
    "hidden": true
   },
   "source": [
    "**Ans: Like I said above, Nulls exist, but over 50% of customers have college or high school degrees. Only about 11% of the customers have a Post-Graduate or Doctorate degree. College students make up 12% of the customer base.**"
   ]
  },
  {
   "cell_type": "raw",
   "metadata": {
    "hidden": true
   },
   "source": [
    "# 3. What is the distribution of the level of income of customers?\n",
    "labeled_barplot(bank_df, 'Income_Category', perc=True)"
   ]
  },
  {
   "cell_type": "markdown",
   "metadata": {
    "hidden": true
   },
   "source": [
    "**Ans: The real distribution is difficult to determine because of the 'abc' category in the data.  However, if we just use the data in the graph, must customers make less than \\\\$40K. The other catogories are close with over $120K noticably smaller.**"
   ]
  },
  {
   "cell_type": "raw",
   "metadata": {
    "hidden": true
   },
   "source": [
    "# 4. How does the change in transaction amount between Q4 and Q1 (`total_ct_change_Q4_Q1`) vary \n",
    "# by the customer's account status (`Attrition_Flag`)?\n",
    "distribution_plot_wrt_target(bank_df, \"Total_Ct_Chng_Q4_Q1\", \"Attrition_Flag\")"
   ]
  },
  {
   "cell_type": "markdown",
   "metadata": {
    "hidden": true
   },
   "source": [
    "**Ans: `Total_Ct_Chng_Q4_Q1` in general is smaller for Attrited Customers. Existing customers have more outliers (though it also has many more data points).**"
   ]
  },
  {
   "cell_type": "raw",
   "metadata": {
    "hidden": true
   },
   "source": [
    "# 5. How does the number of months a customer was inactive in the last 12 months \n",
    "# (`Months_Inactive_12_mon`) vary by the customer's account status (`Attrition_Flag`)?\n",
    "distribution_plot_wrt_target(bank_df, \"Months_Inactive_12_mon\", \"Attrition_Flag\")"
   ]
  },
  {
   "cell_type": "markdown",
   "metadata": {
    "hidden": true
   },
   "source": [
    "**Ans: Most attrited customers go 2-3 months without using their card in 12 months where as existing customers go 1-3 months. This seems to confirm the idea that customers who use their cards stay customers).**"
   ]
  },
  {
   "cell_type": "raw",
   "metadata": {
    "hidden": true
   },
   "source": [
    "# 6. What are the attributes that have a strong correlation with each other?\n",
    "bank_df.corr().apply(lambda x: x.apply('{0:.2f}'.format))"
   ]
  },
  {
   "cell_type": "markdown",
   "metadata": {
    "hidden": true
   },
   "source": [
    "**Ans:**\n",
    "* **'Months_on_book' and 'Customer_Age'(.79),**\n",
    "* **'Average_Utilization' and 'Total_Revolving_Bal' (.62),**\n",
    "* **'Total_Trans_Amt' and 'Total_Trans_Ct' (.81)**"
   ]
  },
  {
   "cell_type": "markdown",
   "metadata": {
    "hidden": true,
    "id": "oEyqzdJBb0jU"
   },
   "source": [
    "#### Additional EDA"
   ]
  },
  {
   "cell_type": "raw",
   "metadata": {
    "hidden": true
   },
   "source": [
    "sns.pairplot(bank_df, hue = 'Attrition_Flag' , diag_kind='hist')"
   ]
  },
  {
   "cell_type": "markdown",
   "metadata": {
    "hidden": true
   },
   "source": [
    "**Observations:**\n",
    "* **'Total_Trans_Amt' and 'Total_Trans_Ct' very much have a boundary where Attrited individuals do not venture**\n",
    "* **'Total_Revolving_Bal' also seems to have some separation for lower Attrited individuals**"
   ]
  },
  {
   "cell_type": "raw",
   "metadata": {
    "hidden": true
   },
   "source": [
    "# Check out how 'Customer Age' varies with 'Attribution_Flag'\n",
    "distribution_plot_wrt_target(bank_df, \"Customer_Age\", \"Attrition_Flag\")"
   ]
  },
  {
   "cell_type": "markdown",
   "metadata": {
    "hidden": true
   },
   "source": [
    "**Distributions look similar.  Of course the ratio of Existing to Attrited is rather large \n",
    "so count values are less important.  Interesting spikes and valleys in the graphs.**"
   ]
  },
  {
   "cell_type": "raw",
   "metadata": {
    "hidden": true
   },
   "source": [
    "# Look at distribution of Credit Limit\n",
    "# There are over 500 customers with what seems like a max credit limit.  \n",
    "histogram_boxplot(bank_df, 'Credit_Limit')"
   ]
  },
  {
   "cell_type": "raw",
   "metadata": {
    "hidden": true
   },
   "source": [
    "# Check out how 'Credit_Limit' varies with 'Attribution_Flag'\n",
    "distribution_plot_wrt_target(bank_df, \"Credit_Limit\", \"Attrition_Flag\")"
   ]
  },
  {
   "cell_type": "markdown",
   "metadata": {
    "hidden": true
   },
   "source": [
    "**Again, distributions look similar.  Notice the spike at the max is present in both 'Attribution_Flag' categories.  Lots of outliers for both categories.**"
   ]
  },
  {
   "cell_type": "raw",
   "metadata": {
    "hidden": true
   },
   "source": [
    "distribution_plot_wrt_target(bank_df, \"Total_Amt_Chng_Q4_Q1\", \"Attrition_Flag\")"
   ]
  },
  {
   "cell_type": "markdown",
   "metadata": {
    "hidden": true
   },
   "source": [
    "**Normal distribution for both categories.  Once again pretty good alignment around the medians and quartiles.**"
   ]
  },
  {
   "cell_type": "raw",
   "metadata": {
    "hidden": true
   },
   "source": [
    "distribution_plot_wrt_target(bank_df, \"Total_Trans_Amt\", \"Attrition_Flag\")"
   ]
  },
  {
   "cell_type": "markdown",
   "metadata": {
    "hidden": true
   },
   "source": [
    "**Similar u-shaped histograms for both categories.  This time their isn't the alignment for the quartiles like we've seen.**"
   ]
  },
  {
   "cell_type": "raw",
   "metadata": {
    "hidden": true
   },
   "source": [
    "distribution_plot_wrt_target(bank_df, \"Total_Trans_Ct\", \"Attrition_Flag\")"
   ]
  },
  {
   "cell_type": "markdown",
   "metadata": {
    "hidden": true
   },
   "source": [
    "**U-shaped distribution for Existing, but not for Attrited.  Again, their isn't the alignment for the quartiles like we've seen.**"
   ]
  },
  {
   "cell_type": "raw",
   "metadata": {
    "hidden": true
   },
   "source": [
    "distribution_plot_wrt_target(bank_df, \"Avg_Utilization_Ratio\", \"Attrition_Flag\")"
   ]
  },
  {
   "cell_type": "markdown",
   "metadata": {
    "hidden": true
   },
   "source": [
    "**Similar distributions with Existing being more gradual.  Big decline for Attrited when ration gets even slightly away from 0.0.  Again, their isn't the alignment for the quartiles like we've seen. Lots of Attrited don't appear to use their cards**"
   ]
  },
  {
   "cell_type": "raw",
   "metadata": {
    "hidden": true
   },
   "source": [
    "distribution_plot_wrt_target(bank_df, \"Total_Relationship_Count\", \"Attrition_Flag\")"
   ]
  },
  {
   "cell_type": "markdown",
   "metadata": {
    "hidden": true
   },
   "source": [
    "**Attrited have less number of products.  Customers who don't leave have many products.**"
   ]
  },
  {
   "cell_type": "raw",
   "metadata": {
    "hidden": true
   },
   "source": [
    "distribution_plot_wrt_target(bank_df, \"Total_Revolving_Bal\", \"Attrition_Flag\")"
   ]
  },
  {
   "cell_type": "markdown",
   "metadata": {
    "hidden": true
   },
   "source": [
    "**Attrited customers keep their balances down (if they have a balance that revolves).**  "
   ]
  },
  {
   "cell_type": "markdown",
   "metadata": {
    "id": "knk0w9XH4jao"
   },
   "source": [
    "## Data Pre-processing"
   ]
  },
  {
   "cell_type": "markdown",
   "metadata": {},
   "source": [
    "**Let's check and see if the data is clean per the the formula mentioned above.**"
   ]
  },
  {
   "cell_type": "code",
   "execution_count": 20,
   "metadata": {
    "id": "2JbJc1bX4jao"
   },
   "outputs": [
    {
     "data": {
      "text/plain": [
       "(0, 21)"
      ]
     },
     "execution_count": 20,
     "metadata": {},
     "output_type": "execute_result"
    }
   ],
   "source": [
    "# Evaluation must take into account float values.\n",
    "bank_df[(bank_df['Avg_Open_To_Buy'] / bank_df['Credit_Limit'] + bank_df['Avg_Utilization_Ratio'] < .99) & \n",
    "        (bank_df['Avg_Open_To_Buy'] / bank_df['Credit_Limit'] + bank_df['Avg_Utilization_Ratio']) > 1.00009].shape"
   ]
  },
  {
   "cell_type": "markdown",
   "metadata": {},
   "source": [
    "**Formula seems to hold for the data.**"
   ]
  },
  {
   "cell_type": "markdown",
   "metadata": {},
   "source": [
    "**Fix `Attrition_Flag`.**"
   ]
  },
  {
   "cell_type": "code",
   "execution_count": 21,
   "metadata": {},
   "outputs": [
    {
     "data": {
      "text/plain": [
       "0    8500\n",
       "1    1627\n",
       "Name: Attrition_Flag, dtype: int64"
      ]
     },
     "execution_count": 21,
     "metadata": {},
     "output_type": "execute_result"
    }
   ],
   "source": [
    "new_label = {'Attrition_Flag': {'Attrited Customer': 1, 'Existing Customer': 0}}\n",
    "bank_df.replace(new_label, inplace=True)\n",
    "bank_df['Attrition_Flag'].value_counts()"
   ]
  },
  {
   "cell_type": "code",
   "execution_count": 22,
   "metadata": {},
   "outputs": [],
   "source": [
    "neg, pos = np.bincount(bank_df['Attrition_Flag'])\n",
    "total = neg + pos"
   ]
  },
  {
   "cell_type": "markdown",
   "metadata": {},
   "source": [
    "**Drop `Gender`.**"
   ]
  },
  {
   "cell_type": "code",
   "execution_count": 23,
   "metadata": {},
   "outputs": [],
   "source": [
    "bank_df.drop(['Gender'], axis=1, inplace=True)"
   ]
  },
  {
   "cell_type": "markdown",
   "metadata": {},
   "source": [
    "**Drop `CLIENTNUM`. It is unnecessary.**"
   ]
  },
  {
   "cell_type": "code",
   "execution_count": 24,
   "metadata": {},
   "outputs": [],
   "source": [
    "bank_df.drop(['CLIENTNUM'], axis=1, inplace=True)"
   ]
  },
  {
   "cell_type": "markdown",
   "metadata": {
    "id": "0J99-7Kubp09"
   },
   "source": [
    "## Missing value imputation and Dataset Creation\n",
    "\n",
    "\n"
   ]
  },
  {
   "cell_type": "code",
   "execution_count": 25,
   "metadata": {},
   "outputs": [],
   "source": [
    "bank_df.drop(['Education_Level', 'Marital_Status', 'Income_Category', 'Card_Category'], axis=1, inplace=True)"
   ]
  },
  {
   "cell_type": "code",
   "execution_count": 26,
   "metadata": {},
   "outputs": [
    {
     "name": "stdout",
     "output_type": "stream",
     "text": [
      "<class 'pandas.core.frame.DataFrame'>\n",
      "RangeIndex: 10127 entries, 0 to 10126\n",
      "Data columns (total 15 columns):\n",
      " #   Column                    Non-Null Count  Dtype  \n",
      "---  ------                    --------------  -----  \n",
      " 0   Attrition_Flag            10127 non-null  int64  \n",
      " 1   Customer_Age              10127 non-null  int64  \n",
      " 2   Dependent_count           10127 non-null  int64  \n",
      " 3   Months_on_book            10127 non-null  int64  \n",
      " 4   Total_Relationship_Count  10127 non-null  int64  \n",
      " 5   Months_Inactive_12_mon    10127 non-null  int64  \n",
      " 6   Contacts_Count_12_mon     10127 non-null  int64  \n",
      " 7   Credit_Limit              10127 non-null  float64\n",
      " 8   Total_Revolving_Bal       10127 non-null  int64  \n",
      " 9   Avg_Open_To_Buy           10127 non-null  float64\n",
      " 10  Total_Amt_Chng_Q4_Q1      10127 non-null  float64\n",
      " 11  Total_Trans_Amt           10127 non-null  int64  \n",
      " 12  Total_Trans_Ct            10127 non-null  int64  \n",
      " 13  Total_Ct_Chng_Q4_Q1       10127 non-null  float64\n",
      " 14  Avg_Utilization_Ratio     10127 non-null  float64\n",
      "dtypes: float64(5), int64(10)\n",
      "memory usage: 1.2 MB\n"
     ]
    }
   ],
   "source": [
    "# One last check\n",
    "bank_df.info()"
   ]
  },
  {
   "cell_type": "code",
   "execution_count": 27,
   "metadata": {},
   "outputs": [],
   "source": [
    "# independant variables\n",
    "X = bank_df.drop(['Attrition_Flag'], axis=1)\n",
    "\n",
    "# the dependent variable\n",
    "y = bank_df[['Attrition_Flag']]"
   ]
  },
  {
   "cell_type": "code",
   "execution_count": 28,
   "metadata": {},
   "outputs": [
    {
     "name": "stdout",
     "output_type": "stream",
     "text": [
      "(5063, 14) (3038, 14) (2026, 14)\n",
      "(5063, 1) (3038, 1) (2026, 1)\n"
     ]
    }
   ],
   "source": [
    "# Splitting data into training, validation and test set:\n",
    "\n",
    "# first we split data into 2 parts, say temporary and test\n",
    "X_train, X_temp, y_train, y_temp = train_test_split(\n",
    "    X, y, test_size=0.5, random_state=0, stratify=y\n",
    ")\n",
    "\n",
    "# then we split the temporary set into train and validation\n",
    "X_val, X_test, y_val, y_test = train_test_split(\n",
    "    X_temp, y_temp, test_size=0.4, random_state=0, stratify=y_temp\n",
    ")\n",
    "\n",
    "print(X_train.shape, X_val.shape, X_test.shape)\n",
    "print(y_train.shape, y_val.shape, y_test.shape)"
   ]
  },
  {
   "cell_type": "code",
   "execution_count": 29,
   "metadata": {},
   "outputs": [],
   "source": [
    "# Get y_train as a np array and then create a boolean version\n",
    "y_train_ar = np.array(y_train['Attrition_Flag'])\n",
    "bool_y_train = y_train_ar != 0"
   ]
  },
  {
   "cell_type": "markdown",
   "metadata": {},
   "source": [
    "**Check to see if our different datasets maintain the distribution of attrition.**"
   ]
  },
  {
   "cell_type": "code",
   "execution_count": 30,
   "metadata": {},
   "outputs": [
    {
     "name": "stdout",
     "output_type": "stream",
     "text": [
      "Average class probability in training set:  0.1606\n",
      "Average class probability in validation set:  0.1606\n",
      "Average class probability in test   0.1609\n",
      "<class 'pandas.core.frame.DataFrame'>\n"
     ]
    }
   ],
   "source": [
    "print(f'Average class probability in training set: % .4f' %y_train.mean())\n",
    "print(f'Average class probability in validation set: % .4f' %y_val.mean())\n",
    "print(f'Average class probability in test  % .4f' %y_test.mean())\n",
    "\n",
    "print(type(X_train))"
   ]
  },
  {
   "cell_type": "markdown",
   "metadata": {},
   "source": [
    "**Normalize the data.**"
   ]
  },
  {
   "cell_type": "code",
   "execution_count": 31,
   "metadata": {},
   "outputs": [],
   "source": [
    "#Z-score Normalizing\n",
    "from sklearn import preprocessing\n",
    "X_train = preprocessing.scale(X_train)\n",
    "X_val = preprocessing.scale(X_val)\n",
    "X_test = preprocessing.scale(X_test)"
   ]
  },
  {
   "cell_type": "markdown",
   "metadata": {},
   "source": [
    "**Deal with outliers.**"
   ]
  },
  {
   "cell_type": "code",
   "execution_count": 32,
   "metadata": {},
   "outputs": [],
   "source": [
    "X_train = np.clip(X_train, -5, 5)\n",
    "X_val = np.clip(X_val, -5, 5)\n",
    "X_test = np.clip(X_test, -5, 5)"
   ]
  },
  {
   "cell_type": "markdown",
   "metadata": {},
   "source": [
    "**Quick look to see that our data shaping worked.  We should see distros centered at 0 and in the range of -5 or 5.**"
   ]
  },
  {
   "cell_type": "code",
   "execution_count": 33,
   "metadata": {},
   "outputs": [
    {
     "data": {
      "image/png": "[encoded data removed]",
      "text/plain": [
       "<Figure size 600x600 with 3 Axes>"
      ]
     },
     "metadata": {},
     "output_type": "display_data"
    },
    {
     "data": {
      "image/png": "[encoded data removed]",
      "text/plain": [
       "<Figure size 600x600 with 3 Axes>"
      ]
     },
     "metadata": {},
     "output_type": "display_data"
    }
   ],
   "source": [
    "pos_df = pd.DataFrame(X_train[bool_y_train], columns=X.columns)\n",
    "neg_df = pd.DataFrame(X_train[~bool_y_train], columns=X.columns)\n",
    "\n",
    "sns.jointplot(x=pos_df['Total_Trans_Ct'], y=pos_df['Total_Amt_Chng_Q4_Q1'],\n",
    "              kind='hex', xlim=(-5,5), ylim=(-5,5))\n",
    "plt.suptitle(\"Positive distribution\")\n",
    "\n",
    "sns.jointplot(x=neg_df['Total_Trans_Ct'], y=neg_df['Total_Amt_Chng_Q4_Q1'],\n",
    "              kind='hex', xlim=(-5,5), ylim=(-5,5))\n",
    "_ = plt.suptitle(\"Negative distribution\")"
   ]
  },
  {
   "cell_type": "markdown",
   "metadata": {
    "id": "OzOa9FGA6WtG"
   },
   "source": [
    "## Model Building"
   ]
  },
  {
   "cell_type": "raw",
   "metadata": {
    "id": "bIekBxwp4jaq"
   },
   "source": [
    "# defining a function to compute different metrics to check performance of a classification model built using sklearn\n",
    "def model_performance_classification_sklearn(model, predictors, target):\n",
    "    \"\"\"\n",
    "    Function to compute different metrics to check classification model performance\n",
    "\n",
    "    model: classifier\n",
    "    predictors: independent variables\n",
    "    target: dependent variable\n",
    "    \"\"\"\n",
    "\n",
    "    # predicting using the independent variables\n",
    "    #pred = model.predict(predictors)\n",
    "\n",
    "    #tf.squeeze(pred)\n",
    "    #pred = np.array([1 if x >= 0.5 else 0 for x in pred])\n",
    "    #target = np.array(target)\n",
    "    \n",
    "    acc = accuracy_score(target, pred)  # to compute Accuracy\n",
    "    recall = recall_score(target, pred)  # to compute Recall\n",
    "    precision = precision_score(target, pred)  # to compute Precision\n",
    "    f1 = f1_score(target, pred)  # to compute F1-score\n",
    "\n",
    "    # creating a dataframe of metrics\n",
    "    df_perf = pd.DataFrame(\n",
    "        {\n",
    "            \"Accuracy\": acc,\n",
    "            \"Recall\": recall,\n",
    "            \"Precision\": precision,\n",
    "            \"F1\": f1\n",
    "\n",
    "        },\n",
    "        index=[0],\n",
    "    )\n",
    "\n",
    "    return df_perf"
   ]
  },
  {
   "cell_type": "markdown",
   "metadata": {},
   "source": [
    "**Metrics of interest plus a function to create a model.  The model is a simple neural network with a densly connected hidden layer, a [dropout](https://developers.google.com/machine-learning/glossary/#dropout_regularization) layer to reduce overfitting, and an output sigmoid layer that returns the probability of a customer departing.**"
   ]
  },
  {
   "cell_type": "code",
   "execution_count": 34,
   "metadata": {},
   "outputs": [],
   "source": [
    "METRICS = [\n",
    "      tf.keras.metrics.BinaryCrossentropy(name='cross entropy'),  # same as model's loss\n",
    "      tf.keras.metrics.MeanSquaredError(name='Brier score'),\n",
    "      tf.keras.metrics.TruePositives(name='tp'),\n",
    "      tf.keras.metrics.FalsePositives(name='fp'),\n",
    "      tf.keras.metrics.TrueNegatives(name='tn'),\n",
    "      tf.keras.metrics.FalseNegatives(name='fn'), \n",
    "      tf.keras.metrics.BinaryAccuracy(name='accuracy'),\n",
    "      tf.keras.metrics.Precision(name='precision'),\n",
    "      tf.keras.metrics.Recall(name='recall'),\n",
    "      tf.keras.metrics.AUC(name='auc'),\n",
    "      tf.keras.metrics.AUC(name='prc', curve='PR'), # precision-recall curve\n",
    "]\n",
    "\n",
    "def make_model(metrics=METRICS, output_bias=None):\n",
    "  if output_bias is not None:\n",
    "    output_bias = tf.keras.initializers.Constant(output_bias)\n",
    "  model = tf.keras.Sequential([\n",
    "      tf.keras.layers.Dense(\n",
    "          16, activation='relu',\n",
    "          input_shape=(X_train.shape[-1],)),\n",
    "      tf.keras.layers.Dropout(0.5),\n",
    "      tf.keras.layers.Dense(1, activation='sigmoid',\n",
    "                         bias_initializer=output_bias),\n",
    "  ])\n",
    "\n",
    "  model.compile(\n",
    "      optimizer=tf.keras.optimizers.legacy.Adam(learning_rate=1e-3),\n",
    "      loss=tf.keras.losses.BinaryCrossentropy(),\n",
    "      metrics=metrics)\n",
    "\n",
    "  return model"
   ]
  },
  {
   "cell_type": "raw",
   "metadata": {},
   "source": [
    "model = tf.keras.Sequential()\n",
    "model.add(InputLayer(input_shape=X_train.shape[1])) # two features in our dataset\n",
    "model.add(Dense(4, activation = 'relu')) # kernel_initializer= initializers.glorot_uniform(seed=42)\n",
    "model.add(Dense(2, activation = 'relu')) # 64, kernel_initializer= initializers.glorot_uniform(seed=42)\n",
    "model.add(Dense(1, activation='sigmoid')) # on neuron ... Dense means we have an arrow coming from each input.  "
   ]
  },
  {
   "cell_type": "raw",
   "metadata": {},
   "source": [
    "model.compile(loss=tf.keras.metrics.F1Score(threshold=0.5), run_eagerly=True, optimizer=tf.keras.optimizers.legacy.Adam(learning_rate=0.1)) # What to optimize"
   ]
  },
  {
   "cell_type": "raw",
   "metadata": {},
   "source": [
    "model.compile(loss = 'binary_crossentropy', metrics=['accuracy', tf.keras.metrics.Recall()], optimizer=tf.keras.optimizers.legacy.Adam(learning_rate=0.0001))"
   ]
  },
  {
   "cell_type": "raw",
   "metadata": {},
   "source": [
    "# epochs= how long we want to train\n",
    "# validation split = continue to look at mean square rror \n",
    "history = model.fit(X_train, y_train.astype(np.float32), epochs=50, verbose=True, validation_data=(X_val,y_val)) # searching best weights and biases\n",
    "print(\"Finished training the model\")"
   ]
  },
  {
   "cell_type": "markdown",
   "metadata": {},
   "source": [
    "**Now create and train your model using the function that was defined earlier. Notice that the model is fit using a larger than default batch size of 2048, this is important to ensure that each batch has a decent chance of containing a few positive samples. If the batch size was too small, they would likely have no fraudulent transactions to learn from.**\n",
    "\n",
    "\n",
    "**Note: Fitting this model will not handle the class imbalance efficiently. You will improve it later in this tutorial.**"
   ]
  },
  {
   "cell_type": "code",
   "execution_count": 35,
   "metadata": {},
   "outputs": [],
   "source": [
    "EPOCHS = 100\n",
    "BATCH_SIZE = 512\n",
    "\n",
    "early_stopping = tf.keras.callbacks.EarlyStopping(\n",
    "    monitor='val_prc', \n",
    "    verbose=1,\n",
    "    patience=10,\n",
    "    mode='max',\n",
    "    restore_best_weights=True)"
   ]
  },
  {
   "cell_type": "code",
   "execution_count": 36,
   "metadata": {},
   "outputs": [
    {
     "name": "stdout",
     "output_type": "stream",
     "text": [
      "Model: \"sequential\"\n",
      "_________________________________________________________________\n",
      " Layer (type)                Output Shape              Param #   \n",
      "=================================================================\n",
      " dense (Dense)               (None, 16)                240       \n",
      "                                                                 \n",
      " dropout (Dropout)           (None, 16)                0         \n",
      "                                                                 \n",
      " dense_1 (Dense)             (None, 1)                 17        \n",
      "                                                                 \n",
      "=================================================================\n",
      "Total params: 257 (1.00 KB)\n",
      "Trainable params: 257 (1.00 KB)\n",
      "Non-trainable params: 0 (0.00 Byte)\n",
      "_________________________________________________________________\n"
     ]
    }
   ],
   "source": [
    "model = make_model()\n",
    "model.summary()"
   ]
  },
  {
   "cell_type": "markdown",
   "metadata": {},
   "source": [
    "## Initial Bias"
   ]
  },
  {
   "cell_type": "markdown",
   "metadata": {},
   "source": [
    "**Simple test run of the model.**"
   ]
  },
  {
   "cell_type": "code",
   "execution_count": 37,
   "metadata": {},
   "outputs": [
    {
     "name": "stdout",
     "output_type": "stream",
     "text": [
      "1/1 [==============================] - 0s 72ms/step\n"
     ]
    },
    {
     "data": {
      "text/plain": [
       "array([[0.29429442],\n",
       "       [0.15500385],\n",
       "       [0.2873292 ],\n",
       "       [0.40990108],\n",
       "       [0.48384622],\n",
       "       [0.39892542],\n",
       "       [0.4207629 ],\n",
       "       [0.25876626]], dtype=float32)"
      ]
     },
     "execution_count": 37,
     "metadata": {},
     "output_type": "execute_result"
    }
   ],
   "source": [
    "model.predict(X_train[:8])"
   ]
  },
  {
   "cell_type": "markdown",
   "metadata": {},
   "source": [
    "These initial guesses are not great. You know the dataset is imbalanced. Set the output layer's bias to reflect that, see [A Recipe for Training Neural Networks: \"init well\"](http://karpathy.github.io/2019/04/25/recipe/#2-set-up-the-end-to-end-trainingevaluation-skeleton--get-dumb-baselines). This can help with initial convergence."
   ]
  },
  {
   "cell_type": "markdown",
   "metadata": {},
   "source": [
    "With the default bias initialization the loss should be about `math.log(2) = 0.69314` ***????????***"
   ]
  },
  {
   "cell_type": "code",
   "execution_count": 38,
   "metadata": {},
   "outputs": [
    {
     "name": "stdout",
     "output_type": "stream",
     "text": [
      "Loss: 0.7959\n"
     ]
    }
   ],
   "source": [
    "results = model.evaluate(X_train, y_train, batch_size=BATCH_SIZE, verbose=0)\n",
    "print(\"Loss: {:0.4f}\".format(results[0])) ## THIS IS NOT THE 0.69314 ABOVE.  WHY?"
   ]
  },
  {
   "cell_type": "markdown",
   "metadata": {},
   "source": [
    "The correct bias to set can be derived from:\n",
    "\n",
    "$$ p_0 = pos/(pos + neg) = 1/(1+e^{-b_0}) $$\n",
    "$$ b_0 = -log_e(1/p_0 - 1) $$\n",
    "$$ b_0 = log_e(pos/neg)$$"
   ]
  },
  {
   "cell_type": "code",
   "execution_count": 39,
   "metadata": {},
   "outputs": [
    {
     "data": {
      "text/plain": [
       "array([-1.65332834])"
      ]
     },
     "execution_count": 39,
     "metadata": {},
     "output_type": "execute_result"
    }
   ],
   "source": [
    "initial_bias = np.log([pos/neg])\n",
    "initial_bias"
   ]
  },
  {
   "cell_type": "markdown",
   "metadata": {},
   "source": [
    "Set that as the initial bias, and the model will give much more reasonable initial guesses. \n",
    "\n",
    "It should be near: `pos/total = 0.1607`"
   ]
  },
  {
   "cell_type": "code",
   "execution_count": 40,
   "metadata": {},
   "outputs": [
    {
     "name": "stdout",
     "output_type": "stream",
     "text": [
      "1/1 [==============================] - 0s 19ms/step\n"
     ]
    },
    {
     "data": {
      "text/plain": [
       "array([[0.04464932],\n",
       "       [0.05201925],\n",
       "       [0.1049118 ],\n",
       "       [0.11193893],\n",
       "       [0.38782716],\n",
       "       [0.23295133],\n",
       "       [0.2058657 ],\n",
       "       [0.16918322]], dtype=float32)"
      ]
     },
     "execution_count": 40,
     "metadata": {},
     "output_type": "execute_result"
    }
   ],
   "source": [
    "model = make_model(output_bias=initial_bias)\n",
    "model.predict(X_train[:8])"
   ]
  },
  {
   "cell_type": "markdown",
   "metadata": {},
   "source": [
    "**This is occuring -- see 0.1433044 is close to the 0.1607.**"
   ]
  },
  {
   "cell_type": "markdown",
   "metadata": {},
   "source": [
    "With this initialization the initial loss should be approximately:\n",
    "\n",
    "$$-p_0log(p_0)-(1-p_0)log(1-p_0) = 0.4408$$"
   ]
  },
  {
   "cell_type": "raw",
   "metadata": {},
   "source": [
    "p_not = pos/(pos+neg)\n",
    "init_loss = (-p_not*np.log(p_not))-((1-p_not)*np.log(1-p_not))\n",
    "print(\"Loss: {:0.4f}\".format(init_loss))"
   ]
  },
  {
   "cell_type": "code",
   "execution_count": 41,
   "metadata": {},
   "outputs": [
    {
     "name": "stdout",
     "output_type": "stream",
     "text": [
      "Loss: 0.5139\n"
     ]
    }
   ],
   "source": [
    "results = model.evaluate(X_train, y_train, batch_size=BATCH_SIZE, verbose=0)\n",
    "print(\"Loss: {:0.4f}\".format(results[0]))"
   ]
  },
  {
   "cell_type": "markdown",
   "metadata": {},
   "source": [
    "This is happening as well.  The new loss of 0.4496 is close to the 0.4408.\n",
    "\n",
    "This way the model doesn't need to spend the first few epochs just learning that positive examples are unlikely. It also makes it easier to read plots of the loss during training."
   ]
  },
  {
   "cell_type": "markdown",
   "metadata": {},
   "source": [
    "## Save initial weights and check for improved model"
   ]
  },
  {
   "cell_type": "code",
   "execution_count": 42,
   "metadata": {},
   "outputs": [],
   "source": [
    "initial_weights = os.path.join(tempfile.mkdtemp(), 'initial_weights')\n",
    "model.save_weights(initial_weights)"
   ]
  },
  {
   "cell_type": "code",
   "execution_count": 43,
   "metadata": {},
   "outputs": [],
   "source": [
    "# No initial bias\n",
    "model = make_model()\n",
    "model.load_weights(initial_weights)\n",
    "model.layers[-1].bias.assign([0.0])\n",
    "zero_bias_history = model.fit(\n",
    "    X_train,\n",
    "    y_train,\n",
    "    batch_size=BATCH_SIZE,\n",
    "    epochs=20,\n",
    "    validation_data=(X_val, y_val), \n",
    "    verbose=0)"
   ]
  },
  {
   "cell_type": "code",
   "execution_count": 44,
   "metadata": {},
   "outputs": [],
   "source": [
    "# With initial bias\n",
    "model = make_model()\n",
    "model.load_weights(initial_weights)\n",
    "careful_bias_history = model.fit(\n",
    "    X_train,\n",
    "    y_train,\n",
    "    batch_size=BATCH_SIZE,\n",
    "    epochs=20,\n",
    "    validation_data=(X_val, y_val), \n",
    "    verbose=0)"
   ]
  },
  {
   "cell_type": "code",
   "execution_count": 45,
   "metadata": {},
   "outputs": [],
   "source": [
    "#colors = plt.rcParams['axes.prop_cycle'].by_key()['color']"
   ]
  },
  {
   "cell_type": "code",
   "execution_count": 46,
   "metadata": {},
   "outputs": [],
   "source": [
    "def plot_loss(history, label, n):\n",
    "  # Use a log scale on y-axis to show the wide range of values.\n",
    "  plt.semilogy(history.epoch, history.history['loss'],\n",
    "               color=colors[n], label='Train ' + label)\n",
    "  plt.semilogy(history.epoch, history.history['val_loss'],\n",
    "               color=colors[n], label='Val ' + label,\n",
    "               linestyle=\"--\")\n",
    "  plt.xlabel('Epoch')\n",
    "  plt.ylabel('Loss')\n",
    "  plt.legend()"
   ]
  },
  {
   "cell_type": "code",
   "execution_count": 47,
   "metadata": {},
   "outputs": [
    {
     "data": {
      "image/png": "[encoded data removed]",
      "text/plain": [
       "<Figure size 1200x1000 with 1 Axes>"
      ]
     },
     "metadata": {},
     "output_type": "display_data"
    }
   ],
   "source": [
    "plot_loss(zero_bias_history, \"Zero Bias\", 0)\n",
    "plot_loss(careful_bias_history, \"Careful Bias\", 1)"
   ]
  },
  {
   "cell_type": "markdown",
   "metadata": {},
   "source": [
    "The above figure makes it clear: In terms of validation loss, on this problem, this careful initialization gives a clear advantage. "
   ]
  },
  {
   "cell_type": "markdown",
   "metadata": {},
   "source": [
    "## Train the Model"
   ]
  },
  {
   "cell_type": "code",
   "execution_count": 48,
   "metadata": {},
   "outputs": [
    {
     "name": "stdout",
     "output_type": "stream",
     "text": [
      "Epoch 1/100\n",
      "10/10 [==============================] - 1s 21ms/step - loss: 0.5396 - cross entropy: 0.4547 - Brier score: 0.1423 - tp: 97.0000 - fp: 331.0000 - tn: 6469.0000 - fn: 1204.0000 - accuracy: 0.8105 - precision: 0.2266 - recall: 0.0746 - auc: 0.6623 - prc: 0.2386 - val_loss: 0.4874 - val_cross entropy: 0.4874 - val_Brier score: 0.1567 - val_tp: 1.0000 - val_fp: 132.0000 - val_tn: 2418.0000 - val_fn: 487.0000 - val_accuracy: 0.7962 - val_precision: 0.0075 - val_recall: 0.0020 - val_auc: 0.5523 - val_prc: 0.1623\n",
      "Epoch 2/100\n",
      "10/10 [==============================] - 0s 3ms/step - loss: 0.5080 - cross entropy: 0.5080 - Brier score: 0.1598 - tp: 14.0000 - fp: 242.0000 - tn: 4008.0000 - fn: 799.0000 - accuracy: 0.7944 - precision: 0.0547 - recall: 0.0172 - auc: 0.5317 - prc: 0.1613 - val_loss: 0.4669 - val_cross entropy: 0.4669 - val_Brier score: 0.1490 - val_tp: 1.0000 - val_fp: 92.0000 - val_tn: 2458.0000 - val_fn: 487.0000 - val_accuracy: 0.8094 - val_precision: 0.0108 - val_recall: 0.0020 - val_auc: 0.5964 - val_prc: 0.1807\n",
      "Epoch 3/100\n",
      "10/10 [==============================] - 0s 4ms/step - loss: 0.4897 - cross entropy: 0.4897 - Brier score: 0.1539 - tp: 10.0000 - fp: 204.0000 - tn: 4046.0000 - fn: 803.0000 - accuracy: 0.8011 - precision: 0.0467 - recall: 0.0123 - auc: 0.5640 - prc: 0.1765 - val_loss: 0.4488 - val_cross entropy: 0.4488 - val_Brier score: 0.1423 - val_tp: 0.0000e+00 - val_fp: 57.0000 - val_tn: 2493.0000 - val_fn: 488.0000 - val_accuracy: 0.8206 - val_precision: 0.0000e+00 - val_recall: 0.0000e+00 - val_auc: 0.6372 - val_prc: 0.2020\n",
      "Epoch 4/100\n",
      "10/10 [==============================] - 0s 4ms/step - loss: 0.4746 - cross entropy: 0.4746 - Brier score: 0.1491 - tp: 10.0000 - fp: 170.0000 - tn: 4080.0000 - fn: 803.0000 - accuracy: 0.8078 - precision: 0.0556 - recall: 0.0123 - auc: 0.5819 - prc: 0.1839 - val_loss: 0.4332 - val_cross entropy: 0.4332 - val_Brier score: 0.1365 - val_tp: 0.0000e+00 - val_fp: 39.0000 - val_tn: 2511.0000 - val_fn: 488.0000 - val_accuracy: 0.8265 - val_precision: 0.0000e+00 - val_recall: 0.0000e+00 - val_auc: 0.6721 - val_prc: 0.2247\n",
      "Epoch 5/100\n",
      "10/10 [==============================] - 0s 3ms/step - loss: 0.4579 - cross entropy: 0.4579 - Brier score: 0.1438 - tp: 18.0000 - fp: 143.0000 - tn: 4107.0000 - fn: 795.0000 - accuracy: 0.8147 - precision: 0.1118 - recall: 0.0221 - auc: 0.6082 - prc: 0.1990 - val_loss: 0.4196 - val_cross entropy: 0.4196 - val_Brier score: 0.1315 - val_tp: 0.0000e+00 - val_fp: 24.0000 - val_tn: 2526.0000 - val_fn: 488.0000 - val_accuracy: 0.8315 - val_precision: 0.0000e+00 - val_recall: 0.0000e+00 - val_auc: 0.7032 - val_prc: 0.2523\n",
      "Epoch 6/100\n",
      "10/10 [==============================] - 0s 4ms/step - loss: 0.4407 - cross entropy: 0.4407 - Brier score: 0.1373 - tp: 21.0000 - fp: 107.0000 - tn: 4143.0000 - fn: 792.0000 - accuracy: 0.8224 - precision: 0.1641 - recall: 0.0258 - auc: 0.6407 - prc: 0.2265 - val_loss: 0.4077 - val_cross entropy: 0.4077 - val_Brier score: 0.1273 - val_tp: 0.0000e+00 - val_fp: 7.0000 - val_tn: 2543.0000 - val_fn: 488.0000 - val_accuracy: 0.8371 - val_precision: 0.0000e+00 - val_recall: 0.0000e+00 - val_auc: 0.7314 - val_prc: 0.2893\n",
      "Epoch 7/100\n",
      "10/10 [==============================] - 0s 4ms/step - loss: 0.4212 - cross entropy: 0.4212 - Brier score: 0.1305 - tp: 35.0000 - fp: 92.0000 - tn: 4158.0000 - fn: 778.0000 - accuracy: 0.8282 - precision: 0.2756 - recall: 0.0431 - auc: 0.6782 - prc: 0.2669 - val_loss: 0.3969 - val_cross entropy: 0.3969 - val_Brier score: 0.1235 - val_tp: 0.0000e+00 - val_fp: 6.0000 - val_tn: 2544.0000 - val_fn: 488.0000 - val_accuracy: 0.8374 - val_precision: 0.0000e+00 - val_recall: 0.0000e+00 - val_auc: 0.7578 - val_prc: 0.3437\n",
      "Epoch 8/100\n",
      "10/10 [==============================] - 0s 3ms/step - loss: 0.4106 - cross entropy: 0.4106 - Brier score: 0.1270 - tp: 50.0000 - fp: 68.0000 - tn: 4182.0000 - fn: 763.0000 - accuracy: 0.8359 - precision: 0.4237 - recall: 0.0615 - auc: 0.6996 - prc: 0.2921 - val_loss: 0.3870 - val_cross entropy: 0.3870 - val_Brier score: 0.1201 - val_tp: 0.0000e+00 - val_fp: 4.0000 - val_tn: 2546.0000 - val_fn: 488.0000 - val_accuracy: 0.8381 - val_precision: 0.0000e+00 - val_recall: 0.0000e+00 - val_auc: 0.7813 - val_prc: 0.4127\n",
      "Epoch 9/100\n",
      "10/10 [==============================] - 0s 4ms/step - loss: 0.4107 - cross entropy: 0.4107 - Brier score: 0.1269 - tp: 52.0000 - fp: 70.0000 - tn: 4180.0000 - fn: 761.0000 - accuracy: 0.8359 - precision: 0.4262 - recall: 0.0640 - auc: 0.6966 - prc: 0.2913 - val_loss: 0.3776 - val_cross entropy: 0.3776 - val_Brier score: 0.1170 - val_tp: 0.0000e+00 - val_fp: 3.0000 - val_tn: 2547.0000 - val_fn: 488.0000 - val_accuracy: 0.8384 - val_precision: 0.0000e+00 - val_recall: 0.0000e+00 - val_auc: 0.8013 - val_prc: 0.4852\n",
      "Epoch 10/100\n",
      "10/10 [==============================] - 0s 3ms/step - loss: 0.3900 - cross entropy: 0.3900 - Brier score: 0.1197 - tp: 74.0000 - fp: 45.0000 - tn: 4205.0000 - fn: 739.0000 - accuracy: 0.8452 - precision: 0.6218 - recall: 0.0910 - auc: 0.7401 - prc: 0.3660 - val_loss: 0.3690 - val_cross entropy: 0.3690 - val_Brier score: 0.1140 - val_tp: 0.0000e+00 - val_fp: 3.0000 - val_tn: 2547.0000 - val_fn: 488.0000 - val_accuracy: 0.8384 - val_precision: 0.0000e+00 - val_recall: 0.0000e+00 - val_auc: 0.8160 - val_prc: 0.5409\n",
      "Epoch 11/100\n",
      "10/10 [==============================] - 0s 4ms/step - loss: 0.3853 - cross entropy: 0.3853 - Brier score: 0.1181 - tp: 94.0000 - fp: 42.0000 - tn: 4208.0000 - fn: 719.0000 - accuracy: 0.8497 - precision: 0.6912 - recall: 0.1156 - auc: 0.7438 - prc: 0.3883 - val_loss: 0.3611 - val_cross entropy: 0.3611 - val_Brier score: 0.1113 - val_tp: 0.0000e+00 - val_fp: 1.0000 - val_tn: 2549.0000 - val_fn: 488.0000 - val_accuracy: 0.8390 - val_precision: 0.0000e+00 - val_recall: 0.0000e+00 - val_auc: 0.8272 - val_prc: 0.5766\n",
      "Epoch 12/100\n",
      "10/10 [==============================] - 0s 3ms/step - loss: 0.3793 - cross entropy: 0.3793 - Brier score: 0.1168 - tp: 98.0000 - fp: 50.0000 - tn: 4200.0000 - fn: 715.0000 - accuracy: 0.8489 - precision: 0.6622 - recall: 0.1205 - auc: 0.7601 - prc: 0.4056 - val_loss: 0.3540 - val_cross entropy: 0.3540 - val_Brier score: 0.1089 - val_tp: 1.0000 - val_fp: 1.0000 - val_tn: 2549.0000 - val_fn: 487.0000 - val_accuracy: 0.8394 - val_precision: 0.5000 - val_recall: 0.0020 - val_auc: 0.8357 - val_prc: 0.6027\n",
      "Epoch 13/100\n",
      "10/10 [==============================] - 0s 4ms/step - loss: 0.3703 - cross entropy: 0.3703 - Brier score: 0.1131 - tp: 135.0000 - fp: 60.0000 - tn: 4190.0000 - fn: 678.0000 - accuracy: 0.8542 - precision: 0.6923 - recall: 0.1661 - auc: 0.7748 - prc: 0.4398 - val_loss: 0.3472 - val_cross entropy: 0.3472 - val_Brier score: 0.1065 - val_tp: 8.0000 - val_fp: 0.0000e+00 - val_tn: 2550.0000 - val_fn: 480.0000 - val_accuracy: 0.8420 - val_precision: 1.0000 - val_recall: 0.0164 - val_auc: 0.8432 - val_prc: 0.6250\n",
      "Epoch 14/100\n",
      "10/10 [==============================] - 0s 3ms/step - loss: 0.3684 - cross entropy: 0.3684 - Brier score: 0.1125 - tp: 128.0000 - fp: 53.0000 - tn: 4197.0000 - fn: 685.0000 - accuracy: 0.8542 - precision: 0.7072 - recall: 0.1574 - auc: 0.7779 - prc: 0.4489 - val_loss: 0.3410 - val_cross entropy: 0.3410 - val_Brier score: 0.1043 - val_tp: 15.0000 - val_fp: 0.0000e+00 - val_tn: 2550.0000 - val_fn: 473.0000 - val_accuracy: 0.8443 - val_precision: 1.0000 - val_recall: 0.0307 - val_auc: 0.8484 - val_prc: 0.6389\n",
      "Epoch 15/100\n",
      "10/10 [==============================] - 0s 3ms/step - loss: 0.3616 - cross entropy: 0.3616 - Brier score: 0.1104 - tp: 145.0000 - fp: 64.0000 - tn: 4186.0000 - fn: 668.0000 - accuracy: 0.8554 - precision: 0.6938 - recall: 0.1784 - auc: 0.7920 - prc: 0.4665 - val_loss: 0.3354 - val_cross entropy: 0.3354 - val_Brier score: 0.1023 - val_tp: 24.0000 - val_fp: 0.0000e+00 - val_tn: 2550.0000 - val_fn: 464.0000 - val_accuracy: 0.8473 - val_precision: 1.0000 - val_recall: 0.0492 - val_auc: 0.8531 - val_prc: 0.6494\n",
      "Epoch 16/100\n",
      "10/10 [==============================] - 0s 3ms/step - loss: 0.3566 - cross entropy: 0.3566 - Brier score: 0.1087 - tp: 167.0000 - fp: 64.0000 - tn: 4186.0000 - fn: 646.0000 - accuracy: 0.8598 - precision: 0.7229 - recall: 0.2054 - auc: 0.7935 - prc: 0.4852 - val_loss: 0.3302 - val_cross entropy: 0.3302 - val_Brier score: 0.1004 - val_tp: 32.0000 - val_fp: 1.0000 - val_tn: 2549.0000 - val_fn: 456.0000 - val_accuracy: 0.8496 - val_precision: 0.9697 - val_recall: 0.0656 - val_auc: 0.8571 - val_prc: 0.6583\n"
     ]
    },
    {
     "name": "stdout",
     "output_type": "stream",
     "text": [
      "Epoch 17/100\n",
      "10/10 [==============================] - 0s 3ms/step - loss: 0.3618 - cross entropy: 0.3618 - Brier score: 0.1110 - tp: 146.0000 - fp: 60.0000 - tn: 4190.0000 - fn: 667.0000 - accuracy: 0.8564 - precision: 0.7087 - recall: 0.1796 - auc: 0.7868 - prc: 0.4594 - val_loss: 0.3256 - val_cross entropy: 0.3256 - val_Brier score: 0.0988 - val_tp: 42.0000 - val_fp: 1.0000 - val_tn: 2549.0000 - val_fn: 446.0000 - val_accuracy: 0.8529 - val_precision: 0.9767 - val_recall: 0.0861 - val_auc: 0.8605 - val_prc: 0.6659\n",
      "Epoch 18/100\n",
      "10/10 [==============================] - 0s 3ms/step - loss: 0.3557 - cross entropy: 0.3557 - Brier score: 0.1085 - tp: 175.0000 - fp: 83.0000 - tn: 4167.0000 - fn: 638.0000 - accuracy: 0.8576 - precision: 0.6783 - recall: 0.2153 - auc: 0.7994 - prc: 0.4873 - val_loss: 0.3215 - val_cross entropy: 0.3215 - val_Brier score: 0.0973 - val_tp: 54.0000 - val_fp: 3.0000 - val_tn: 2547.0000 - val_fn: 434.0000 - val_accuracy: 0.8562 - val_precision: 0.9474 - val_recall: 0.1107 - val_auc: 0.8633 - val_prc: 0.6709\n",
      "Epoch 19/100\n",
      "10/10 [==============================] - 0s 4ms/step - loss: 0.3434 - cross entropy: 0.3434 - Brier score: 0.1042 - tp: 201.0000 - fp: 79.0000 - tn: 4171.0000 - fn: 612.0000 - accuracy: 0.8635 - precision: 0.7179 - recall: 0.2472 - auc: 0.8140 - prc: 0.5237 - val_loss: 0.3173 - val_cross entropy: 0.3173 - val_Brier score: 0.0958 - val_tp: 62.0000 - val_fp: 3.0000 - val_tn: 2547.0000 - val_fn: 426.0000 - val_accuracy: 0.8588 - val_precision: 0.9538 - val_recall: 0.1270 - val_auc: 0.8662 - val_prc: 0.6765\n",
      "Epoch 20/100\n",
      "10/10 [==============================] - 0s 3ms/step - loss: 0.3460 - cross entropy: 0.3460 - Brier score: 0.1055 - tp: 189.0000 - fp: 82.0000 - tn: 4168.0000 - fn: 624.0000 - accuracy: 0.8606 - precision: 0.6974 - recall: 0.2325 - auc: 0.8124 - prc: 0.5092 - val_loss: 0.3137 - val_cross entropy: 0.3137 - val_Brier score: 0.0945 - val_tp: 75.0000 - val_fp: 6.0000 - val_tn: 2544.0000 - val_fn: 413.0000 - val_accuracy: 0.8621 - val_precision: 0.9259 - val_recall: 0.1537 - val_auc: 0.8689 - val_prc: 0.6822\n",
      "Epoch 21/100\n",
      "10/10 [==============================] - 0s 3ms/step - loss: 0.3347 - cross entropy: 0.3347 - Brier score: 0.1014 - tp: 198.0000 - fp: 58.0000 - tn: 4192.0000 - fn: 615.0000 - accuracy: 0.8671 - precision: 0.7734 - recall: 0.2435 - auc: 0.8259 - prc: 0.5499 - val_loss: 0.3098 - val_cross entropy: 0.3098 - val_Brier score: 0.0931 - val_tp: 92.0000 - val_fp: 7.0000 - val_tn: 2543.0000 - val_fn: 396.0000 - val_accuracy: 0.8673 - val_precision: 0.9293 - val_recall: 0.1885 - val_auc: 0.8713 - val_prc: 0.6861\n",
      "Epoch 22/100\n",
      "10/10 [==============================] - 0s 3ms/step - loss: 0.3392 - cross entropy: 0.3392 - Brier score: 0.1031 - tp: 191.0000 - fp: 79.0000 - tn: 4171.0000 - fn: 622.0000 - accuracy: 0.8615 - precision: 0.7074 - recall: 0.2349 - auc: 0.8221 - prc: 0.5310 - val_loss: 0.3062 - val_cross entropy: 0.3062 - val_Brier score: 0.0918 - val_tp: 102.0000 - val_fp: 11.0000 - val_tn: 2539.0000 - val_fn: 386.0000 - val_accuracy: 0.8693 - val_precision: 0.9027 - val_recall: 0.2090 - val_auc: 0.8731 - val_prc: 0.6902\n",
      "Epoch 23/100\n",
      "10/10 [==============================] - 0s 3ms/step - loss: 0.3364 - cross entropy: 0.3364 - Brier score: 0.1023 - tp: 198.0000 - fp: 90.0000 - tn: 4160.0000 - fn: 615.0000 - accuracy: 0.8608 - precision: 0.6875 - recall: 0.2435 - auc: 0.8260 - prc: 0.5336 - val_loss: 0.3032 - val_cross entropy: 0.3032 - val_Brier score: 0.0907 - val_tp: 118.0000 - val_fp: 15.0000 - val_tn: 2535.0000 - val_fn: 370.0000 - val_accuracy: 0.8733 - val_precision: 0.8872 - val_recall: 0.2418 - val_auc: 0.8752 - val_prc: 0.6934\n",
      "Epoch 24/100\n",
      "10/10 [==============================] - 0s 3ms/step - loss: 0.3310 - cross entropy: 0.3310 - Brier score: 0.1010 - tp: 227.0000 - fp: 103.0000 - tn: 4147.0000 - fn: 586.0000 - accuracy: 0.8639 - precision: 0.6879 - recall: 0.2792 - auc: 0.8351 - prc: 0.5447 - val_loss: 0.3006 - val_cross entropy: 0.3006 - val_Brier score: 0.0898 - val_tp: 129.0000 - val_fp: 15.0000 - val_tn: 2535.0000 - val_fn: 359.0000 - val_accuracy: 0.8769 - val_precision: 0.8958 - val_recall: 0.2643 - val_auc: 0.8771 - val_prc: 0.6965\n",
      "Epoch 25/100\n",
      "10/10 [==============================] - 0s 3ms/step - loss: 0.3241 - cross entropy: 0.3241 - Brier score: 0.0984 - tp: 237.0000 - fp: 97.0000 - tn: 4153.0000 - fn: 576.0000 - accuracy: 0.8671 - precision: 0.7096 - recall: 0.2915 - auc: 0.8407 - prc: 0.5715 - val_loss: 0.2979 - val_cross entropy: 0.2979 - val_Brier score: 0.0888 - val_tp: 136.0000 - val_fp: 17.0000 - val_tn: 2533.0000 - val_fn: 352.0000 - val_accuracy: 0.8785 - val_precision: 0.8889 - val_recall: 0.2787 - val_auc: 0.8784 - val_prc: 0.6993\n",
      "Epoch 26/100\n",
      "10/10 [==============================] - 0s 3ms/step - loss: 0.3255 - cross entropy: 0.3255 - Brier score: 0.0992 - tp: 230.0000 - fp: 96.0000 - tn: 4154.0000 - fn: 583.0000 - accuracy: 0.8659 - precision: 0.7055 - recall: 0.2829 - auc: 0.8404 - prc: 0.5530 - val_loss: 0.2955 - val_cross entropy: 0.2955 - val_Brier score: 0.0880 - val_tp: 143.0000 - val_fp: 17.0000 - val_tn: 2533.0000 - val_fn: 345.0000 - val_accuracy: 0.8808 - val_precision: 0.8938 - val_recall: 0.2930 - val_auc: 0.8803 - val_prc: 0.7031\n",
      "Epoch 27/100\n",
      "10/10 [==============================] - 0s 3ms/step - loss: 0.3249 - cross entropy: 0.3249 - Brier score: 0.0990 - tp: 227.0000 - fp: 89.0000 - tn: 4161.0000 - fn: 586.0000 - accuracy: 0.8667 - precision: 0.7184 - recall: 0.2792 - auc: 0.8431 - prc: 0.5602 - val_loss: 0.2932 - val_cross entropy: 0.2932 - val_Brier score: 0.0872 - val_tp: 150.0000 - val_fp: 18.0000 - val_tn: 2532.0000 - val_fn: 338.0000 - val_accuracy: 0.8828 - val_precision: 0.8929 - val_recall: 0.3074 - val_auc: 0.8818 - val_prc: 0.7050\n",
      "Epoch 28/100\n",
      "10/10 [==============================] - 0s 3ms/step - loss: 0.3212 - cross entropy: 0.3212 - Brier score: 0.0968 - tp: 249.0000 - fp: 87.0000 - tn: 4163.0000 - fn: 564.0000 - accuracy: 0.8714 - precision: 0.7411 - recall: 0.3063 - auc: 0.8431 - prc: 0.5827 - val_loss: 0.2909 - val_cross entropy: 0.2909 - val_Brier score: 0.0864 - val_tp: 155.0000 - val_fp: 20.0000 - val_tn: 2530.0000 - val_fn: 333.0000 - val_accuracy: 0.8838 - val_precision: 0.8857 - val_recall: 0.3176 - val_auc: 0.8833 - val_prc: 0.7075\n",
      "Epoch 29/100\n",
      "10/10 [==============================] - 0s 3ms/step - loss: 0.3228 - cross entropy: 0.3228 - Brier score: 0.0983 - tp: 244.0000 - fp: 96.0000 - tn: 4154.0000 - fn: 569.0000 - accuracy: 0.8687 - precision: 0.7176 - recall: 0.3001 - auc: 0.8439 - prc: 0.5680 - val_loss: 0.2885 - val_cross entropy: 0.2885 - val_Brier score: 0.0855 - val_tp: 158.0000 - val_fp: 20.0000 - val_tn: 2530.0000 - val_fn: 330.0000 - val_accuracy: 0.8848 - val_precision: 0.8876 - val_recall: 0.3238 - val_auc: 0.8847 - val_prc: 0.7100\n",
      "Epoch 30/100\n",
      "10/10 [==============================] - 0s 3ms/step - loss: 0.3162 - cross entropy: 0.3162 - Brier score: 0.0965 - tp: 262.0000 - fp: 88.0000 - tn: 4162.0000 - fn: 551.0000 - accuracy: 0.8738 - precision: 0.7486 - recall: 0.3223 - auc: 0.8493 - prc: 0.5795 - val_loss: 0.2864 - val_cross entropy: 0.2864 - val_Brier score: 0.0848 - val_tp: 167.0000 - val_fp: 22.0000 - val_tn: 2528.0000 - val_fn: 321.0000 - val_accuracy: 0.8871 - val_precision: 0.8836 - val_recall: 0.3422 - val_auc: 0.8859 - val_prc: 0.7124\n",
      "Epoch 31/100\n",
      "10/10 [==============================] - 0s 3ms/step - loss: 0.3123 - cross entropy: 0.3123 - Brier score: 0.0947 - tp: 271.0000 - fp: 98.0000 - tn: 4152.0000 - fn: 542.0000 - accuracy: 0.8736 - precision: 0.7344 - recall: 0.3333 - auc: 0.8556 - prc: 0.5927 - val_loss: 0.2845 - val_cross entropy: 0.2845 - val_Brier score: 0.0842 - val_tp: 173.0000 - val_fp: 23.0000 - val_tn: 2527.0000 - val_fn: 315.0000 - val_accuracy: 0.8887 - val_precision: 0.8827 - val_recall: 0.3545 - val_auc: 0.8871 - val_prc: 0.7143\n",
      "Epoch 32/100\n",
      "10/10 [==============================] - 0s 3ms/step - loss: 0.3163 - cross entropy: 0.3163 - Brier score: 0.0965 - tp: 266.0000 - fp: 104.0000 - tn: 4146.0000 - fn: 547.0000 - accuracy: 0.8714 - precision: 0.7189 - recall: 0.3272 - auc: 0.8520 - prc: 0.5792 - val_loss: 0.2828 - val_cross entropy: 0.2828 - val_Brier score: 0.0836 - val_tp: 177.0000 - val_fp: 25.0000 - val_tn: 2525.0000 - val_fn: 311.0000 - val_accuracy: 0.8894 - val_precision: 0.8762 - val_recall: 0.3627 - val_auc: 0.8884 - val_prc: 0.7163\n"
     ]
    },
    {
     "name": "stdout",
     "output_type": "stream",
     "text": [
      "Epoch 33/100\n",
      "10/10 [==============================] - 0s 3ms/step - loss: 0.3116 - cross entropy: 0.3116 - Brier score: 0.0951 - tp: 258.0000 - fp: 104.0000 - tn: 4146.0000 - fn: 555.0000 - accuracy: 0.8698 - precision: 0.7127 - recall: 0.3173 - auc: 0.8576 - prc: 0.5951 - val_loss: 0.2812 - val_cross entropy: 0.2812 - val_Brier score: 0.0831 - val_tp: 180.0000 - val_fp: 25.0000 - val_tn: 2525.0000 - val_fn: 308.0000 - val_accuracy: 0.8904 - val_precision: 0.8780 - val_recall: 0.3689 - val_auc: 0.8896 - val_prc: 0.7182\n",
      "Epoch 34/100\n",
      "10/10 [==============================] - 0s 3ms/step - loss: 0.3045 - cross entropy: 0.3045 - Brier score: 0.0922 - tp: 268.0000 - fp: 86.0000 - tn: 4164.0000 - fn: 545.0000 - accuracy: 0.8754 - precision: 0.7571 - recall: 0.3296 - auc: 0.8655 - prc: 0.6128 - val_loss: 0.2794 - val_cross entropy: 0.2794 - val_Brier score: 0.0826 - val_tp: 183.0000 - val_fp: 26.0000 - val_tn: 2524.0000 - val_fn: 305.0000 - val_accuracy: 0.8910 - val_precision: 0.8756 - val_recall: 0.3750 - val_auc: 0.8907 - val_prc: 0.7193\n",
      "Epoch 35/100\n",
      "10/10 [==============================] - 0s 3ms/step - loss: 0.3060 - cross entropy: 0.3060 - Brier score: 0.0934 - tp: 267.0000 - fp: 100.0000 - tn: 4150.0000 - fn: 546.0000 - accuracy: 0.8724 - precision: 0.7275 - recall: 0.3284 - auc: 0.8617 - prc: 0.6058 - val_loss: 0.2776 - val_cross entropy: 0.2776 - val_Brier score: 0.0820 - val_tp: 189.0000 - val_fp: 29.0000 - val_tn: 2521.0000 - val_fn: 299.0000 - val_accuracy: 0.8920 - val_precision: 0.8670 - val_recall: 0.3873 - val_auc: 0.8916 - val_prc: 0.7209\n",
      "Epoch 36/100\n",
      "10/10 [==============================] - 0s 3ms/step - loss: 0.3080 - cross entropy: 0.3080 - Brier score: 0.0941 - tp: 263.0000 - fp: 102.0000 - tn: 4148.0000 - fn: 550.0000 - accuracy: 0.8712 - precision: 0.7205 - recall: 0.3235 - auc: 0.8620 - prc: 0.6009 - val_loss: 0.2761 - val_cross entropy: 0.2761 - val_Brier score: 0.0815 - val_tp: 192.0000 - val_fp: 29.0000 - val_tn: 2521.0000 - val_fn: 296.0000 - val_accuracy: 0.8930 - val_precision: 0.8688 - val_recall: 0.3934 - val_auc: 0.8928 - val_prc: 0.7226\n",
      "Epoch 37/100\n",
      "10/10 [==============================] - 0s 3ms/step - loss: 0.3060 - cross entropy: 0.3060 - Brier score: 0.0939 - tp: 274.0000 - fp: 116.0000 - tn: 4134.0000 - fn: 539.0000 - accuracy: 0.8706 - precision: 0.7026 - recall: 0.3370 - auc: 0.8653 - prc: 0.6014 - val_loss: 0.2748 - val_cross entropy: 0.2748 - val_Brier score: 0.0811 - val_tp: 196.0000 - val_fp: 29.0000 - val_tn: 2521.0000 - val_fn: 292.0000 - val_accuracy: 0.8943 - val_precision: 0.8711 - val_recall: 0.4016 - val_auc: 0.8938 - val_prc: 0.7238\n",
      "Epoch 38/100\n",
      "10/10 [==============================] - 0s 3ms/step - loss: 0.3080 - cross entropy: 0.3080 - Brier score: 0.0935 - tp: 290.0000 - fp: 123.0000 - tn: 4127.0000 - fn: 523.0000 - accuracy: 0.8724 - precision: 0.7022 - recall: 0.3567 - auc: 0.8642 - prc: 0.5957 - val_loss: 0.2740 - val_cross entropy: 0.2740 - val_Brier score: 0.0810 - val_tp: 193.0000 - val_fp: 30.0000 - val_tn: 2520.0000 - val_fn: 295.0000 - val_accuracy: 0.8930 - val_precision: 0.8655 - val_recall: 0.3955 - val_auc: 0.8950 - val_prc: 0.7256\n",
      "Epoch 39/100\n",
      "10/10 [==============================] - 0s 3ms/step - loss: 0.3029 - cross entropy: 0.3029 - Brier score: 0.0927 - tp: 296.0000 - fp: 121.0000 - tn: 4129.0000 - fn: 517.0000 - accuracy: 0.8740 - precision: 0.7098 - recall: 0.3641 - auc: 0.8670 - prc: 0.6115 - val_loss: 0.2731 - val_cross entropy: 0.2731 - val_Brier score: 0.0807 - val_tp: 195.0000 - val_fp: 30.0000 - val_tn: 2520.0000 - val_fn: 293.0000 - val_accuracy: 0.8937 - val_precision: 0.8667 - val_recall: 0.3996 - val_auc: 0.8962 - val_prc: 0.7271\n",
      "Epoch 40/100\n",
      "10/10 [==============================] - 0s 3ms/step - loss: 0.2966 - cross entropy: 0.2966 - Brier score: 0.0902 - tp: 285.0000 - fp: 105.0000 - tn: 4145.0000 - fn: 528.0000 - accuracy: 0.8750 - precision: 0.7308 - recall: 0.3506 - auc: 0.8762 - prc: 0.6242 - val_loss: 0.2720 - val_cross entropy: 0.2720 - val_Brier score: 0.0804 - val_tp: 198.0000 - val_fp: 30.0000 - val_tn: 2520.0000 - val_fn: 290.0000 - val_accuracy: 0.8947 - val_precision: 0.8684 - val_recall: 0.4057 - val_auc: 0.8969 - val_prc: 0.7283\n",
      "Epoch 41/100\n",
      "10/10 [==============================] - 0s 3ms/step - loss: 0.2996 - cross entropy: 0.2996 - Brier score: 0.0917 - tp: 288.0000 - fp: 119.0000 - tn: 4131.0000 - fn: 525.0000 - accuracy: 0.8728 - precision: 0.7076 - recall: 0.3542 - auc: 0.8711 - prc: 0.6169 - val_loss: 0.2708 - val_cross entropy: 0.2708 - val_Brier score: 0.0800 - val_tp: 202.0000 - val_fp: 30.0000 - val_tn: 2520.0000 - val_fn: 286.0000 - val_accuracy: 0.8960 - val_precision: 0.8707 - val_recall: 0.4139 - val_auc: 0.8979 - val_prc: 0.7296\n",
      "Epoch 42/100\n",
      "10/10 [==============================] - 0s 3ms/step - loss: 0.2954 - cross entropy: 0.2954 - Brier score: 0.0905 - tp: 291.0000 - fp: 112.0000 - tn: 4138.0000 - fn: 522.0000 - accuracy: 0.8748 - precision: 0.7221 - recall: 0.3579 - auc: 0.8756 - prc: 0.6253 - val_loss: 0.2696 - val_cross entropy: 0.2696 - val_Brier score: 0.0797 - val_tp: 205.0000 - val_fp: 31.0000 - val_tn: 2519.0000 - val_fn: 283.0000 - val_accuracy: 0.8966 - val_precision: 0.8686 - val_recall: 0.4201 - val_auc: 0.8987 - val_prc: 0.7308\n",
      "Epoch 43/100\n",
      "10/10 [==============================] - 0s 3ms/step - loss: 0.2945 - cross entropy: 0.2945 - Brier score: 0.0896 - tp: 288.0000 - fp: 104.0000 - tn: 4146.0000 - fn: 525.0000 - accuracy: 0.8758 - precision: 0.7347 - recall: 0.3542 - auc: 0.8760 - prc: 0.6346 - val_loss: 0.2683 - val_cross entropy: 0.2683 - val_Brier score: 0.0792 - val_tp: 209.0000 - val_fp: 34.0000 - val_tn: 2516.0000 - val_fn: 279.0000 - val_accuracy: 0.8970 - val_precision: 0.8601 - val_recall: 0.4283 - val_auc: 0.8995 - val_prc: 0.7323\n",
      "Epoch 44/100\n",
      "10/10 [==============================] - 0s 3ms/step - loss: 0.2941 - cross entropy: 0.2941 - Brier score: 0.0897 - tp: 292.0000 - fp: 115.0000 - tn: 4135.0000 - fn: 521.0000 - accuracy: 0.8744 - precision: 0.7174 - recall: 0.3592 - auc: 0.8774 - prc: 0.6323 - val_loss: 0.2671 - val_cross entropy: 0.2671 - val_Brier score: 0.0789 - val_tp: 214.0000 - val_fp: 36.0000 - val_tn: 2514.0000 - val_fn: 274.0000 - val_accuracy: 0.8980 - val_precision: 0.8560 - val_recall: 0.4385 - val_auc: 0.9000 - val_prc: 0.7333\n",
      "Epoch 45/100\n",
      "10/10 [==============================] - 0s 3ms/step - loss: 0.2952 - cross entropy: 0.2952 - Brier score: 0.0899 - tp: 309.0000 - fp: 113.0000 - tn: 4137.0000 - fn: 504.0000 - accuracy: 0.8781 - precision: 0.7322 - recall: 0.3801 - auc: 0.8778 - prc: 0.6235 - val_loss: 0.2661 - val_cross entropy: 0.2661 - val_Brier score: 0.0786 - val_tp: 216.0000 - val_fp: 37.0000 - val_tn: 2513.0000 - val_fn: 272.0000 - val_accuracy: 0.8983 - val_precision: 0.8538 - val_recall: 0.4426 - val_auc: 0.9008 - val_prc: 0.7338\n",
      "Epoch 46/100\n",
      "10/10 [==============================] - 0s 3ms/step - loss: 0.2934 - cross entropy: 0.2934 - Brier score: 0.0897 - tp: 298.0000 - fp: 114.0000 - tn: 4136.0000 - fn: 515.0000 - accuracy: 0.8758 - precision: 0.7233 - recall: 0.3665 - auc: 0.8788 - prc: 0.6314 - val_loss: 0.2652 - val_cross entropy: 0.2652 - val_Brier score: 0.0783 - val_tp: 217.0000 - val_fp: 37.0000 - val_tn: 2513.0000 - val_fn: 271.0000 - val_accuracy: 0.8986 - val_precision: 0.8543 - val_recall: 0.4447 - val_auc: 0.9018 - val_prc: 0.7352\n",
      "Epoch 47/100\n",
      "10/10 [==============================] - 0s 3ms/step - loss: 0.2889 - cross entropy: 0.2889 - Brier score: 0.0884 - tp: 303.0000 - fp: 98.0000 - tn: 4152.0000 - fn: 510.0000 - accuracy: 0.8799 - precision: 0.7556 - recall: 0.3727 - auc: 0.8840 - prc: 0.6393 - val_loss: 0.2641 - val_cross entropy: 0.2641 - val_Brier score: 0.0780 - val_tp: 222.0000 - val_fp: 37.0000 - val_tn: 2513.0000 - val_fn: 266.0000 - val_accuracy: 0.9003 - val_precision: 0.8571 - val_recall: 0.4549 - val_auc: 0.9023 - val_prc: 0.7358\n",
      "Epoch 48/100\n",
      "10/10 [==============================] - 0s 3ms/step - loss: 0.2865 - cross entropy: 0.2865 - Brier score: 0.0870 - tp: 326.0000 - fp: 102.0000 - tn: 4148.0000 - fn: 487.0000 - accuracy: 0.8837 - precision: 0.7617 - recall: 0.4010 - auc: 0.8832 - prc: 0.6521 - val_loss: 0.2627 - val_cross entropy: 0.2627 - val_Brier score: 0.0775 - val_tp: 226.0000 - val_fp: 38.0000 - val_tn: 2512.0000 - val_fn: 262.0000 - val_accuracy: 0.9013 - val_precision: 0.8561 - val_recall: 0.4631 - val_auc: 0.9031 - val_prc: 0.7373\n"
     ]
    },
    {
     "name": "stdout",
     "output_type": "stream",
     "text": [
      "Epoch 49/100\n",
      "10/10 [==============================] - 0s 3ms/step - loss: 0.2910 - cross entropy: 0.2910 - Brier score: 0.0883 - tp: 315.0000 - fp: 124.0000 - tn: 4126.0000 - fn: 498.0000 - accuracy: 0.8771 - precision: 0.7175 - recall: 0.3875 - auc: 0.8807 - prc: 0.6346 - val_loss: 0.2618 - val_cross entropy: 0.2618 - val_Brier score: 0.0773 - val_tp: 227.0000 - val_fp: 38.0000 - val_tn: 2512.0000 - val_fn: 261.0000 - val_accuracy: 0.9016 - val_precision: 0.8566 - val_recall: 0.4652 - val_auc: 0.9038 - val_prc: 0.7383\n",
      "Epoch 50/100\n",
      "10/10 [==============================] - 0s 3ms/step - loss: 0.2861 - cross entropy: 0.2861 - Brier score: 0.0875 - tp: 299.0000 - fp: 119.0000 - tn: 4131.0000 - fn: 514.0000 - accuracy: 0.8750 - precision: 0.7153 - recall: 0.3678 - auc: 0.8863 - prc: 0.6494 - val_loss: 0.2612 - val_cross entropy: 0.2612 - val_Brier score: 0.0772 - val_tp: 227.0000 - val_fp: 37.0000 - val_tn: 2513.0000 - val_fn: 261.0000 - val_accuracy: 0.9019 - val_precision: 0.8598 - val_recall: 0.4652 - val_auc: 0.9047 - val_prc: 0.7395\n",
      "Epoch 51/100\n",
      "10/10 [==============================] - 0s 3ms/step - loss: 0.2812 - cross entropy: 0.2812 - Brier score: 0.0852 - tp: 329.0000 - fp: 108.0000 - tn: 4142.0000 - fn: 484.0000 - accuracy: 0.8831 - precision: 0.7529 - recall: 0.4047 - auc: 0.8879 - prc: 0.6643 - val_loss: 0.2601 - val_cross entropy: 0.2601 - val_Brier score: 0.0769 - val_tp: 229.0000 - val_fp: 38.0000 - val_tn: 2512.0000 - val_fn: 259.0000 - val_accuracy: 0.9022 - val_precision: 0.8577 - val_recall: 0.4693 - val_auc: 0.9054 - val_prc: 0.7405\n",
      "Epoch 52/100\n",
      "10/10 [==============================] - 0s 3ms/step - loss: 0.2848 - cross entropy: 0.2848 - Brier score: 0.0872 - tp: 310.0000 - fp: 119.0000 - tn: 4131.0000 - fn: 503.0000 - accuracy: 0.8771 - precision: 0.7226 - recall: 0.3813 - auc: 0.8900 - prc: 0.6440 - val_loss: 0.2593 - val_cross entropy: 0.2593 - val_Brier score: 0.0766 - val_tp: 229.0000 - val_fp: 39.0000 - val_tn: 2511.0000 - val_fn: 259.0000 - val_accuracy: 0.9019 - val_precision: 0.8545 - val_recall: 0.4693 - val_auc: 0.9062 - val_prc: 0.7418\n",
      "Epoch 53/100\n",
      "10/10 [==============================] - 0s 3ms/step - loss: 0.2864 - cross entropy: 0.2864 - Brier score: 0.0873 - tp: 310.0000 - fp: 115.0000 - tn: 4135.0000 - fn: 503.0000 - accuracy: 0.8779 - precision: 0.7294 - recall: 0.3813 - auc: 0.8845 - prc: 0.6499 - val_loss: 0.2584 - val_cross entropy: 0.2584 - val_Brier score: 0.0764 - val_tp: 229.0000 - val_fp: 39.0000 - val_tn: 2511.0000 - val_fn: 259.0000 - val_accuracy: 0.9019 - val_precision: 0.8545 - val_recall: 0.4693 - val_auc: 0.9073 - val_prc: 0.7437\n",
      "Epoch 54/100\n",
      "10/10 [==============================] - 0s 3ms/step - loss: 0.2831 - cross entropy: 0.2831 - Brier score: 0.0861 - tp: 328.0000 - fp: 103.0000 - tn: 4147.0000 - fn: 485.0000 - accuracy: 0.8839 - precision: 0.7610 - recall: 0.4034 - auc: 0.8862 - prc: 0.6590 - val_loss: 0.2574 - val_cross entropy: 0.2574 - val_Brier score: 0.0762 - val_tp: 229.0000 - val_fp: 39.0000 - val_tn: 2511.0000 - val_fn: 259.0000 - val_accuracy: 0.9019 - val_precision: 0.8545 - val_recall: 0.4693 - val_auc: 0.9082 - val_prc: 0.7451\n",
      "Epoch 55/100\n",
      "10/10 [==============================] - 0s 3ms/step - loss: 0.2816 - cross entropy: 0.2816 - Brier score: 0.0859 - tp: 339.0000 - fp: 121.0000 - tn: 4129.0000 - fn: 474.0000 - accuracy: 0.8825 - precision: 0.7370 - recall: 0.4170 - auc: 0.8886 - prc: 0.6594 - val_loss: 0.2566 - val_cross entropy: 0.2566 - val_Brier score: 0.0760 - val_tp: 229.0000 - val_fp: 39.0000 - val_tn: 2511.0000 - val_fn: 259.0000 - val_accuracy: 0.9019 - val_precision: 0.8545 - val_recall: 0.4693 - val_auc: 0.9089 - val_prc: 0.7458\n",
      "Epoch 56/100\n",
      "10/10 [==============================] - 0s 3ms/step - loss: 0.2850 - cross entropy: 0.2850 - Brier score: 0.0872 - tp: 321.0000 - fp: 128.0000 - tn: 4122.0000 - fn: 492.0000 - accuracy: 0.8775 - precision: 0.7149 - recall: 0.3948 - auc: 0.8880 - prc: 0.6435 - val_loss: 0.2559 - val_cross entropy: 0.2559 - val_Brier score: 0.0758 - val_tp: 229.0000 - val_fp: 37.0000 - val_tn: 2513.0000 - val_fn: 259.0000 - val_accuracy: 0.9026 - val_precision: 0.8609 - val_recall: 0.4693 - val_auc: 0.9096 - val_prc: 0.7472\n",
      "Epoch 57/100\n",
      "10/10 [==============================] - 0s 3ms/step - loss: 0.2769 - cross entropy: 0.2769 - Brier score: 0.0846 - tp: 326.0000 - fp: 109.0000 - tn: 4141.0000 - fn: 487.0000 - accuracy: 0.8823 - precision: 0.7494 - recall: 0.4010 - auc: 0.8943 - prc: 0.6682 - val_loss: 0.2552 - val_cross entropy: 0.2552 - val_Brier score: 0.0756 - val_tp: 231.0000 - val_fp: 36.0000 - val_tn: 2514.0000 - val_fn: 257.0000 - val_accuracy: 0.9036 - val_precision: 0.8652 - val_recall: 0.4734 - val_auc: 0.9102 - val_prc: 0.7482\n",
      "Epoch 58/100\n",
      "10/10 [==============================] - 0s 3ms/step - loss: 0.2805 - cross entropy: 0.2805 - Brier score: 0.0859 - tp: 316.0000 - fp: 116.0000 - tn: 4134.0000 - fn: 497.0000 - accuracy: 0.8789 - precision: 0.7315 - recall: 0.3887 - auc: 0.8899 - prc: 0.6615 - val_loss: 0.2543 - val_cross entropy: 0.2543 - val_Brier score: 0.0754 - val_tp: 231.0000 - val_fp: 37.0000 - val_tn: 2513.0000 - val_fn: 257.0000 - val_accuracy: 0.9032 - val_precision: 0.8619 - val_recall: 0.4734 - val_auc: 0.9111 - val_prc: 0.7488\n",
      "Epoch 59/100\n",
      "10/10 [==============================] - 0s 3ms/step - loss: 0.2804 - cross entropy: 0.2804 - Brier score: 0.0859 - tp: 309.0000 - fp: 117.0000 - tn: 4133.0000 - fn: 504.0000 - accuracy: 0.8773 - precision: 0.7254 - recall: 0.3801 - auc: 0.8914 - prc: 0.6592 - val_loss: 0.2536 - val_cross entropy: 0.2536 - val_Brier score: 0.0752 - val_tp: 231.0000 - val_fp: 37.0000 - val_tn: 2513.0000 - val_fn: 257.0000 - val_accuracy: 0.9032 - val_precision: 0.8619 - val_recall: 0.4734 - val_auc: 0.9118 - val_prc: 0.7497\n",
      "Epoch 60/100\n",
      "10/10 [==============================] - 0s 3ms/step - loss: 0.2790 - cross entropy: 0.2790 - Brier score: 0.0853 - tp: 330.0000 - fp: 123.0000 - tn: 4127.0000 - fn: 483.0000 - accuracy: 0.8803 - precision: 0.7285 - recall: 0.4059 - auc: 0.8939 - prc: 0.6598 - val_loss: 0.2525 - val_cross entropy: 0.2525 - val_Brier score: 0.0749 - val_tp: 234.0000 - val_fp: 38.0000 - val_tn: 2512.0000 - val_fn: 254.0000 - val_accuracy: 0.9039 - val_precision: 0.8603 - val_recall: 0.4795 - val_auc: 0.9125 - val_prc: 0.7509\n",
      "Epoch 61/100\n",
      "10/10 [==============================] - 0s 3ms/step - loss: 0.2809 - cross entropy: 0.2809 - Brier score: 0.0856 - tp: 330.0000 - fp: 115.0000 - tn: 4135.0000 - fn: 483.0000 - accuracy: 0.8819 - precision: 0.7416 - recall: 0.4059 - auc: 0.8928 - prc: 0.6531 - val_loss: 0.2515 - val_cross entropy: 0.2515 - val_Brier score: 0.0746 - val_tp: 235.0000 - val_fp: 40.0000 - val_tn: 2510.0000 - val_fn: 253.0000 - val_accuracy: 0.9036 - val_precision: 0.8545 - val_recall: 0.4816 - val_auc: 0.9134 - val_prc: 0.7523\n",
      "Epoch 62/100\n",
      "10/10 [==============================] - 0s 3ms/step - loss: 0.2789 - cross entropy: 0.2789 - Brier score: 0.0850 - tp: 336.0000 - fp: 117.0000 - tn: 4133.0000 - fn: 477.0000 - accuracy: 0.8827 - precision: 0.7417 - recall: 0.4133 - auc: 0.8933 - prc: 0.6602 - val_loss: 0.2507 - val_cross entropy: 0.2507 - val_Brier score: 0.0744 - val_tp: 235.0000 - val_fp: 40.0000 - val_tn: 2510.0000 - val_fn: 253.0000 - val_accuracy: 0.9036 - val_precision: 0.8545 - val_recall: 0.4816 - val_auc: 0.9139 - val_prc: 0.7532\n",
      "Epoch 63/100\n",
      "10/10 [==============================] - 0s 3ms/step - loss: 0.2801 - cross entropy: 0.2801 - Brier score: 0.0854 - tp: 332.0000 - fp: 109.0000 - tn: 4141.0000 - fn: 481.0000 - accuracy: 0.8835 - precision: 0.7528 - recall: 0.4084 - auc: 0.8907 - prc: 0.6622 - val_loss: 0.2503 - val_cross entropy: 0.2503 - val_Brier score: 0.0743 - val_tp: 235.0000 - val_fp: 38.0000 - val_tn: 2512.0000 - val_fn: 253.0000 - val_accuracy: 0.9042 - val_precision: 0.8608 - val_recall: 0.4816 - val_auc: 0.9147 - val_prc: 0.7543\n",
      "Epoch 64/100\n",
      "10/10 [==============================] - 0s 3ms/step - loss: 0.2796 - cross entropy: 0.2796 - Brier score: 0.0853 - tp: 336.0000 - fp: 125.0000 - tn: 4125.0000 - fn: 477.0000 - accuracy: 0.8811 - precision: 0.7289 - recall: 0.4133 - auc: 0.8935 - prc: 0.6561 - val_loss: 0.2496 - val_cross entropy: 0.2496 - val_Brier score: 0.0742 - val_tp: 235.0000 - val_fp: 38.0000 - val_tn: 2512.0000 - val_fn: 253.0000 - val_accuracy: 0.9042 - val_precision: 0.8608 - val_recall: 0.4816 - val_auc: 0.9154 - val_prc: 0.7553\n"
     ]
    },
    {
     "name": "stdout",
     "output_type": "stream",
     "text": [
      "Epoch 65/100\n",
      "10/10 [==============================] - 0s 3ms/step - loss: 0.2734 - cross entropy: 0.2734 - Brier score: 0.0833 - tp: 344.0000 - fp: 120.0000 - tn: 4130.0000 - fn: 469.0000 - accuracy: 0.8837 - precision: 0.7414 - recall: 0.4231 - auc: 0.8982 - prc: 0.6747 - val_loss: 0.2489 - val_cross entropy: 0.2489 - val_Brier score: 0.0740 - val_tp: 235.0000 - val_fp: 38.0000 - val_tn: 2512.0000 - val_fn: 253.0000 - val_accuracy: 0.9042 - val_precision: 0.8608 - val_recall: 0.4816 - val_auc: 0.9157 - val_prc: 0.7561\n",
      "Epoch 66/100\n",
      "10/10 [==============================] - 0s 3ms/step - loss: 0.2710 - cross entropy: 0.2710 - Brier score: 0.0836 - tp: 326.0000 - fp: 113.0000 - tn: 4137.0000 - fn: 487.0000 - accuracy: 0.8815 - precision: 0.7426 - recall: 0.4010 - auc: 0.8995 - prc: 0.6772 - val_loss: 0.2480 - val_cross entropy: 0.2480 - val_Brier score: 0.0738 - val_tp: 235.0000 - val_fp: 38.0000 - val_tn: 2512.0000 - val_fn: 253.0000 - val_accuracy: 0.9042 - val_precision: 0.8608 - val_recall: 0.4816 - val_auc: 0.9169 - val_prc: 0.7572\n",
      "Epoch 67/100\n",
      "10/10 [==============================] - 0s 3ms/step - loss: 0.2737 - cross entropy: 0.2737 - Brier score: 0.0841 - tp: 319.0000 - fp: 107.0000 - tn: 4143.0000 - fn: 494.0000 - accuracy: 0.8813 - precision: 0.7488 - recall: 0.3924 - auc: 0.8996 - prc: 0.6708 - val_loss: 0.2472 - val_cross entropy: 0.2472 - val_Brier score: 0.0735 - val_tp: 235.0000 - val_fp: 39.0000 - val_tn: 2511.0000 - val_fn: 253.0000 - val_accuracy: 0.9039 - val_precision: 0.8577 - val_recall: 0.4816 - val_auc: 0.9175 - val_prc: 0.7582\n",
      "Epoch 68/100\n",
      "10/10 [==============================] - 0s 3ms/step - loss: 0.2740 - cross entropy: 0.2740 - Brier score: 0.0841 - tp: 336.0000 - fp: 135.0000 - tn: 4115.0000 - fn: 477.0000 - accuracy: 0.8791 - precision: 0.7134 - recall: 0.4133 - auc: 0.8973 - prc: 0.6704 - val_loss: 0.2463 - val_cross entropy: 0.2463 - val_Brier score: 0.0733 - val_tp: 235.0000 - val_fp: 40.0000 - val_tn: 2510.0000 - val_fn: 253.0000 - val_accuracy: 0.9036 - val_precision: 0.8545 - val_recall: 0.4816 - val_auc: 0.9184 - val_prc: 0.7596\n",
      "Epoch 69/100\n",
      "10/10 [==============================] - 0s 3ms/step - loss: 0.2712 - cross entropy: 0.2712 - Brier score: 0.0829 - tp: 341.0000 - fp: 105.0000 - tn: 4145.0000 - fn: 472.0000 - accuracy: 0.8860 - precision: 0.7646 - recall: 0.4194 - auc: 0.8999 - prc: 0.6783 - val_loss: 0.2454 - val_cross entropy: 0.2454 - val_Brier score: 0.0730 - val_tp: 238.0000 - val_fp: 40.0000 - val_tn: 2510.0000 - val_fn: 250.0000 - val_accuracy: 0.9045 - val_precision: 0.8561 - val_recall: 0.4877 - val_auc: 0.9190 - val_prc: 0.7612\n",
      "Epoch 70/100\n",
      "10/10 [==============================] - 0s 3ms/step - loss: 0.2709 - cross entropy: 0.2709 - Brier score: 0.0829 - tp: 337.0000 - fp: 104.0000 - tn: 4146.0000 - fn: 476.0000 - accuracy: 0.8854 - precision: 0.7642 - recall: 0.4145 - auc: 0.9020 - prc: 0.6738 - val_loss: 0.2444 - val_cross entropy: 0.2444 - val_Brier score: 0.0728 - val_tp: 240.0000 - val_fp: 41.0000 - val_tn: 2509.0000 - val_fn: 248.0000 - val_accuracy: 0.9049 - val_precision: 0.8541 - val_recall: 0.4918 - val_auc: 0.9198 - val_prc: 0.7628\n",
      "Epoch 71/100\n",
      "10/10 [==============================] - 0s 3ms/step - loss: 0.2697 - cross entropy: 0.2697 - Brier score: 0.0826 - tp: 359.0000 - fp: 132.0000 - tn: 4118.0000 - fn: 454.0000 - accuracy: 0.8843 - precision: 0.7312 - recall: 0.4416 - auc: 0.9020 - prc: 0.6790 - val_loss: 0.2436 - val_cross entropy: 0.2436 - val_Brier score: 0.0726 - val_tp: 239.0000 - val_fp: 40.0000 - val_tn: 2510.0000 - val_fn: 249.0000 - val_accuracy: 0.9049 - val_precision: 0.8566 - val_recall: 0.4898 - val_auc: 0.9207 - val_prc: 0.7642\n",
      "Epoch 72/100\n",
      "10/10 [==============================] - 0s 3ms/step - loss: 0.2695 - cross entropy: 0.2695 - Brier score: 0.0825 - tp: 339.0000 - fp: 112.0000 - tn: 4138.0000 - fn: 474.0000 - accuracy: 0.8843 - precision: 0.7517 - recall: 0.4170 - auc: 0.9005 - prc: 0.6851 - val_loss: 0.2428 - val_cross entropy: 0.2428 - val_Brier score: 0.0724 - val_tp: 239.0000 - val_fp: 40.0000 - val_tn: 2510.0000 - val_fn: 249.0000 - val_accuracy: 0.9049 - val_precision: 0.8566 - val_recall: 0.4898 - val_auc: 0.9214 - val_prc: 0.7652\n",
      "Epoch 73/100\n",
      "10/10 [==============================] - 0s 3ms/step - loss: 0.2678 - cross entropy: 0.2678 - Brier score: 0.0823 - tp: 332.0000 - fp: 104.0000 - tn: 4146.0000 - fn: 481.0000 - accuracy: 0.8845 - precision: 0.7615 - recall: 0.4084 - auc: 0.9037 - prc: 0.6843 - val_loss: 0.2420 - val_cross entropy: 0.2420 - val_Brier score: 0.0721 - val_tp: 241.0000 - val_fp: 42.0000 - val_tn: 2508.0000 - val_fn: 247.0000 - val_accuracy: 0.9049 - val_precision: 0.8516 - val_recall: 0.4939 - val_auc: 0.9220 - val_prc: 0.7659\n",
      "Epoch 74/100\n",
      "10/10 [==============================] - 0s 3ms/step - loss: 0.2660 - cross entropy: 0.2660 - Brier score: 0.0818 - tp: 348.0000 - fp: 128.0000 - tn: 4122.0000 - fn: 465.0000 - accuracy: 0.8829 - precision: 0.7311 - recall: 0.4280 - auc: 0.9063 - prc: 0.6863 - val_loss: 0.2409 - val_cross entropy: 0.2409 - val_Brier score: 0.0718 - val_tp: 242.0000 - val_fp: 43.0000 - val_tn: 2507.0000 - val_fn: 246.0000 - val_accuracy: 0.9049 - val_precision: 0.8491 - val_recall: 0.4959 - val_auc: 0.9224 - val_prc: 0.7666\n",
      "Epoch 75/100\n",
      "10/10 [==============================] - 0s 3ms/step - loss: 0.2661 - cross entropy: 0.2661 - Brier score: 0.0818 - tp: 356.0000 - fp: 119.0000 - tn: 4131.0000 - fn: 457.0000 - accuracy: 0.8862 - precision: 0.7495 - recall: 0.4379 - auc: 0.9054 - prc: 0.6859 - val_loss: 0.2402 - val_cross entropy: 0.2402 - val_Brier score: 0.0716 - val_tp: 242.0000 - val_fp: 43.0000 - val_tn: 2507.0000 - val_fn: 246.0000 - val_accuracy: 0.9049 - val_precision: 0.8491 - val_recall: 0.4959 - val_auc: 0.9228 - val_prc: 0.7675\n",
      "Epoch 76/100\n",
      "10/10 [==============================] - 0s 3ms/step - loss: 0.2662 - cross entropy: 0.2662 - Brier score: 0.0818 - tp: 351.0000 - fp: 128.0000 - tn: 4122.0000 - fn: 462.0000 - accuracy: 0.8835 - precision: 0.7328 - recall: 0.4317 - auc: 0.9039 - prc: 0.6891 - val_loss: 0.2397 - val_cross entropy: 0.2397 - val_Brier score: 0.0715 - val_tp: 241.0000 - val_fp: 43.0000 - val_tn: 2507.0000 - val_fn: 247.0000 - val_accuracy: 0.9045 - val_precision: 0.8486 - val_recall: 0.4939 - val_auc: 0.9236 - val_prc: 0.7692\n",
      "Epoch 77/100\n",
      "10/10 [==============================] - 0s 3ms/step - loss: 0.2666 - cross entropy: 0.2666 - Brier score: 0.0817 - tp: 349.0000 - fp: 117.0000 - tn: 4133.0000 - fn: 464.0000 - accuracy: 0.8852 - precision: 0.7489 - recall: 0.4293 - auc: 0.9051 - prc: 0.6851 - val_loss: 0.2392 - val_cross entropy: 0.2392 - val_Brier score: 0.0714 - val_tp: 241.0000 - val_fp: 40.0000 - val_tn: 2510.0000 - val_fn: 247.0000 - val_accuracy: 0.9055 - val_precision: 0.8577 - val_recall: 0.4939 - val_auc: 0.9244 - val_prc: 0.7706\n",
      "Epoch 78/100\n",
      "10/10 [==============================] - 0s 3ms/step - loss: 0.2630 - cross entropy: 0.2630 - Brier score: 0.0803 - tp: 352.0000 - fp: 107.0000 - tn: 4143.0000 - fn: 461.0000 - accuracy: 0.8878 - precision: 0.7669 - recall: 0.4330 - auc: 0.9078 - prc: 0.6957 - val_loss: 0.2386 - val_cross entropy: 0.2386 - val_Brier score: 0.0713 - val_tp: 242.0000 - val_fp: 42.0000 - val_tn: 2508.0000 - val_fn: 246.0000 - val_accuracy: 0.9052 - val_precision: 0.8521 - val_recall: 0.4959 - val_auc: 0.9247 - val_prc: 0.7711\n",
      "Epoch 79/100\n",
      "10/10 [==============================] - 0s 4ms/step - loss: 0.2601 - cross entropy: 0.2601 - Brier score: 0.0801 - tp: 357.0000 - fp: 117.0000 - tn: 4133.0000 - fn: 456.0000 - accuracy: 0.8868 - precision: 0.7532 - recall: 0.4391 - auc: 0.9107 - prc: 0.6980 - val_loss: 0.2378 - val_cross entropy: 0.2378 - val_Brier score: 0.0710 - val_tp: 242.0000 - val_fp: 43.0000 - val_tn: 2507.0000 - val_fn: 246.0000 - val_accuracy: 0.9049 - val_precision: 0.8491 - val_recall: 0.4959 - val_auc: 0.9254 - val_prc: 0.7719\n",
      "Epoch 80/100\n",
      "10/10 [==============================] - 0s 3ms/step - loss: 0.2623 - cross entropy: 0.2623 - Brier score: 0.0803 - tp: 357.0000 - fp: 119.0000 - tn: 4131.0000 - fn: 456.0000 - accuracy: 0.8864 - precision: 0.7500 - recall: 0.4391 - auc: 0.9096 - prc: 0.6926 - val_loss: 0.2369 - val_cross entropy: 0.2369 - val_Brier score: 0.0708 - val_tp: 243.0000 - val_fp: 44.0000 - val_tn: 2506.0000 - val_fn: 245.0000 - val_accuracy: 0.9049 - val_precision: 0.8467 - val_recall: 0.4980 - val_auc: 0.9257 - val_prc: 0.7726\n"
     ]
    },
    {
     "name": "stdout",
     "output_type": "stream",
     "text": [
      "Epoch 81/100\n",
      "10/10 [==============================] - 0s 3ms/step - loss: 0.2625 - cross entropy: 0.2625 - Brier score: 0.0808 - tp: 362.0000 - fp: 124.0000 - tn: 4126.0000 - fn: 451.0000 - accuracy: 0.8864 - precision: 0.7449 - recall: 0.4453 - auc: 0.9082 - prc: 0.6931 - val_loss: 0.2366 - val_cross entropy: 0.2366 - val_Brier score: 0.0707 - val_tp: 243.0000 - val_fp: 43.0000 - val_tn: 2507.0000 - val_fn: 245.0000 - val_accuracy: 0.9052 - val_precision: 0.8497 - val_recall: 0.4980 - val_auc: 0.9260 - val_prc: 0.7728\n",
      "Epoch 82/100\n",
      "10/10 [==============================] - 0s 3ms/step - loss: 0.2557 - cross entropy: 0.2557 - Brier score: 0.0785 - tp: 360.0000 - fp: 118.0000 - tn: 4132.0000 - fn: 453.0000 - accuracy: 0.8872 - precision: 0.7531 - recall: 0.4428 - auc: 0.9145 - prc: 0.7090 - val_loss: 0.2359 - val_cross entropy: 0.2359 - val_Brier score: 0.0705 - val_tp: 245.0000 - val_fp: 44.0000 - val_tn: 2506.0000 - val_fn: 243.0000 - val_accuracy: 0.9055 - val_precision: 0.8478 - val_recall: 0.5020 - val_auc: 0.9265 - val_prc: 0.7736\n",
      "Epoch 83/100\n",
      "10/10 [==============================] - 0s 3ms/step - loss: 0.2561 - cross entropy: 0.2561 - Brier score: 0.0784 - tp: 358.0000 - fp: 105.0000 - tn: 4145.0000 - fn: 455.0000 - accuracy: 0.8894 - precision: 0.7732 - recall: 0.4403 - auc: 0.9146 - prc: 0.7101 - val_loss: 0.2351 - val_cross entropy: 0.2351 - val_Brier score: 0.0703 - val_tp: 246.0000 - val_fp: 46.0000 - val_tn: 2504.0000 - val_fn: 242.0000 - val_accuracy: 0.9052 - val_precision: 0.8425 - val_recall: 0.5041 - val_auc: 0.9270 - val_prc: 0.7740\n",
      "Epoch 84/100\n",
      "10/10 [==============================] - 0s 3ms/step - loss: 0.2575 - cross entropy: 0.2575 - Brier score: 0.0783 - tp: 378.0000 - fp: 117.0000 - tn: 4133.0000 - fn: 435.0000 - accuracy: 0.8910 - precision: 0.7636 - recall: 0.4649 - auc: 0.9098 - prc: 0.7106 - val_loss: 0.2342 - val_cross entropy: 0.2342 - val_Brier score: 0.0701 - val_tp: 250.0000 - val_fp: 46.0000 - val_tn: 2504.0000 - val_fn: 238.0000 - val_accuracy: 0.9065 - val_precision: 0.8446 - val_recall: 0.5123 - val_auc: 0.9274 - val_prc: 0.7747\n",
      "Epoch 85/100\n",
      "10/10 [==============================] - 0s 3ms/step - loss: 0.2571 - cross entropy: 0.2571 - Brier score: 0.0788 - tp: 368.0000 - fp: 116.0000 - tn: 4134.0000 - fn: 445.0000 - accuracy: 0.8892 - precision: 0.7603 - recall: 0.4526 - auc: 0.9128 - prc: 0.7059 - val_loss: 0.2336 - val_cross entropy: 0.2336 - val_Brier score: 0.0699 - val_tp: 251.0000 - val_fp: 46.0000 - val_tn: 2504.0000 - val_fn: 237.0000 - val_accuracy: 0.9068 - val_precision: 0.8451 - val_recall: 0.5143 - val_auc: 0.9282 - val_prc: 0.7756\n",
      "Epoch 86/100\n",
      "10/10 [==============================] - 0s 3ms/step - loss: 0.2617 - cross entropy: 0.2617 - Brier score: 0.0804 - tp: 359.0000 - fp: 114.0000 - tn: 4136.0000 - fn: 454.0000 - accuracy: 0.8878 - precision: 0.7590 - recall: 0.4416 - auc: 0.9095 - prc: 0.6959 - val_loss: 0.2327 - val_cross entropy: 0.2327 - val_Brier score: 0.0697 - val_tp: 252.0000 - val_fp: 46.0000 - val_tn: 2504.0000 - val_fn: 236.0000 - val_accuracy: 0.9072 - val_precision: 0.8456 - val_recall: 0.5164 - val_auc: 0.9292 - val_prc: 0.7772\n",
      "Epoch 87/100\n",
      "10/10 [==============================] - 0s 3ms/step - loss: 0.2534 - cross entropy: 0.2534 - Brier score: 0.0772 - tp: 369.0000 - fp: 107.0000 - tn: 4143.0000 - fn: 444.0000 - accuracy: 0.8912 - precision: 0.7752 - recall: 0.4539 - auc: 0.9138 - prc: 0.7191 - val_loss: 0.2319 - val_cross entropy: 0.2319 - val_Brier score: 0.0695 - val_tp: 254.0000 - val_fp: 46.0000 - val_tn: 2504.0000 - val_fn: 234.0000 - val_accuracy: 0.9078 - val_precision: 0.8467 - val_recall: 0.5205 - val_auc: 0.9298 - val_prc: 0.7781\n",
      "Epoch 88/100\n",
      "10/10 [==============================] - 0s 3ms/step - loss: 0.2546 - cross entropy: 0.2546 - Brier score: 0.0776 - tp: 375.0000 - fp: 109.0000 - tn: 4141.0000 - fn: 438.0000 - accuracy: 0.8920 - precision: 0.7748 - recall: 0.4613 - auc: 0.9142 - prc: 0.7154 - val_loss: 0.2312 - val_cross entropy: 0.2312 - val_Brier score: 0.0693 - val_tp: 254.0000 - val_fp: 48.0000 - val_tn: 2502.0000 - val_fn: 234.0000 - val_accuracy: 0.9072 - val_precision: 0.8411 - val_recall: 0.5205 - val_auc: 0.9304 - val_prc: 0.7791\n",
      "Epoch 89/100\n",
      "10/10 [==============================] - 0s 3ms/step - loss: 0.2590 - cross entropy: 0.2590 - Brier score: 0.0794 - tp: 374.0000 - fp: 132.0000 - tn: 4118.0000 - fn: 439.0000 - accuracy: 0.8872 - precision: 0.7391 - recall: 0.4600 - auc: 0.9111 - prc: 0.6995 - val_loss: 0.2303 - val_cross entropy: 0.2303 - val_Brier score: 0.0690 - val_tp: 255.0000 - val_fp: 48.0000 - val_tn: 2502.0000 - val_fn: 233.0000 - val_accuracy: 0.9075 - val_precision: 0.8416 - val_recall: 0.5225 - val_auc: 0.9310 - val_prc: 0.7803\n",
      "Epoch 90/100\n",
      "10/10 [==============================] - 0s 3ms/step - loss: 0.2491 - cross entropy: 0.2491 - Brier score: 0.0760 - tp: 390.0000 - fp: 118.0000 - tn: 4132.0000 - fn: 423.0000 - accuracy: 0.8931 - precision: 0.7677 - recall: 0.4797 - auc: 0.9186 - prc: 0.7246 - val_loss: 0.2296 - val_cross entropy: 0.2296 - val_Brier score: 0.0688 - val_tp: 255.0000 - val_fp: 48.0000 - val_tn: 2502.0000 - val_fn: 233.0000 - val_accuracy: 0.9075 - val_precision: 0.8416 - val_recall: 0.5225 - val_auc: 0.9313 - val_prc: 0.7810\n",
      "Epoch 91/100\n",
      "10/10 [==============================] - 0s 3ms/step - loss: 0.2523 - cross entropy: 0.2523 - Brier score: 0.0771 - tp: 384.0000 - fp: 115.0000 - tn: 4135.0000 - fn: 429.0000 - accuracy: 0.8926 - precision: 0.7695 - recall: 0.4723 - auc: 0.9167 - prc: 0.7115 - val_loss: 0.2291 - val_cross entropy: 0.2291 - val_Brier score: 0.0687 - val_tp: 254.0000 - val_fp: 48.0000 - val_tn: 2502.0000 - val_fn: 234.0000 - val_accuracy: 0.9072 - val_precision: 0.8411 - val_recall: 0.5205 - val_auc: 0.9319 - val_prc: 0.7819\n",
      "Epoch 92/100\n",
      "10/10 [==============================] - 0s 3ms/step - loss: 0.2599 - cross entropy: 0.2599 - Brier score: 0.0802 - tp: 364.0000 - fp: 136.0000 - tn: 4114.0000 - fn: 449.0000 - accuracy: 0.8845 - precision: 0.7280 - recall: 0.4477 - auc: 0.9110 - prc: 0.6956 - val_loss: 0.2289 - val_cross entropy: 0.2289 - val_Brier score: 0.0687 - val_tp: 253.0000 - val_fp: 47.0000 - val_tn: 2503.0000 - val_fn: 235.0000 - val_accuracy: 0.9072 - val_precision: 0.8433 - val_recall: 0.5184 - val_auc: 0.9325 - val_prc: 0.7829\n",
      "Epoch 93/100\n",
      "10/10 [==============================] - 0s 3ms/step - loss: 0.2573 - cross entropy: 0.2573 - Brier score: 0.0788 - tp: 378.0000 - fp: 131.0000 - tn: 4119.0000 - fn: 435.0000 - accuracy: 0.8882 - precision: 0.7426 - recall: 0.4649 - auc: 0.9144 - prc: 0.7014 - val_loss: 0.2283 - val_cross entropy: 0.2283 - val_Brier score: 0.0686 - val_tp: 253.0000 - val_fp: 47.0000 - val_tn: 2503.0000 - val_fn: 235.0000 - val_accuracy: 0.9072 - val_precision: 0.8433 - val_recall: 0.5184 - val_auc: 0.9330 - val_prc: 0.7840\n",
      "Epoch 94/100\n",
      "10/10 [==============================] - 0s 3ms/step - loss: 0.2516 - cross entropy: 0.2516 - Brier score: 0.0776 - tp: 354.0000 - fp: 104.0000 - tn: 4146.0000 - fn: 459.0000 - accuracy: 0.8888 - precision: 0.7729 - recall: 0.4354 - auc: 0.9175 - prc: 0.7176 - val_loss: 0.2276 - val_cross entropy: 0.2276 - val_Brier score: 0.0684 - val_tp: 255.0000 - val_fp: 48.0000 - val_tn: 2502.0000 - val_fn: 233.0000 - val_accuracy: 0.9075 - val_precision: 0.8416 - val_recall: 0.5225 - val_auc: 0.9332 - val_prc: 0.7846\n",
      "Epoch 95/100\n",
      "10/10 [==============================] - 0s 3ms/step - loss: 0.2553 - cross entropy: 0.2553 - Brier score: 0.0787 - tp: 374.0000 - fp: 127.0000 - tn: 4123.0000 - fn: 439.0000 - accuracy: 0.8882 - precision: 0.7465 - recall: 0.4600 - auc: 0.9150 - prc: 0.7067 - val_loss: 0.2269 - val_cross entropy: 0.2269 - val_Brier score: 0.0682 - val_tp: 255.0000 - val_fp: 48.0000 - val_tn: 2502.0000 - val_fn: 233.0000 - val_accuracy: 0.9075 - val_precision: 0.8416 - val_recall: 0.5225 - val_auc: 0.9337 - val_prc: 0.7854\n",
      "Epoch 96/100\n",
      "10/10 [==============================] - 0s 3ms/step - loss: 0.2502 - cross entropy: 0.2502 - Brier score: 0.0758 - tp: 389.0000 - fp: 109.0000 - tn: 4141.0000 - fn: 424.0000 - accuracy: 0.8947 - precision: 0.7811 - recall: 0.4785 - auc: 0.9182 - prc: 0.7208 - val_loss: 0.2262 - val_cross entropy: 0.2262 - val_Brier score: 0.0680 - val_tp: 257.0000 - val_fp: 47.0000 - val_tn: 2503.0000 - val_fn: 231.0000 - val_accuracy: 0.9085 - val_precision: 0.8454 - val_recall: 0.5266 - val_auc: 0.9340 - val_prc: 0.7865\n"
     ]
    },
    {
     "name": "stdout",
     "output_type": "stream",
     "text": [
      "Epoch 97/100\n",
      "10/10 [==============================] - 0s 3ms/step - loss: 0.2490 - cross entropy: 0.2490 - Brier score: 0.0766 - tp: 386.0000 - fp: 120.0000 - tn: 4130.0000 - fn: 427.0000 - accuracy: 0.8920 - precision: 0.7628 - recall: 0.4748 - auc: 0.9201 - prc: 0.7213 - val_loss: 0.2255 - val_cross entropy: 0.2255 - val_Brier score: 0.0678 - val_tp: 258.0000 - val_fp: 47.0000 - val_tn: 2503.0000 - val_fn: 230.0000 - val_accuracy: 0.9088 - val_precision: 0.8459 - val_recall: 0.5287 - val_auc: 0.9345 - val_prc: 0.7874\n",
      "Epoch 98/100\n",
      "10/10 [==============================] - 0s 3ms/step - loss: 0.2481 - cross entropy: 0.2481 - Brier score: 0.0755 - tp: 384.0000 - fp: 114.0000 - tn: 4136.0000 - fn: 429.0000 - accuracy: 0.8928 - precision: 0.7711 - recall: 0.4723 - auc: 0.9206 - prc: 0.7224 - val_loss: 0.2249 - val_cross entropy: 0.2249 - val_Brier score: 0.0676 - val_tp: 259.0000 - val_fp: 47.0000 - val_tn: 2503.0000 - val_fn: 229.0000 - val_accuracy: 0.9092 - val_precision: 0.8464 - val_recall: 0.5307 - val_auc: 0.9349 - val_prc: 0.7886\n",
      "Epoch 99/100\n",
      "10/10 [==============================] - 0s 3ms/step - loss: 0.2515 - cross entropy: 0.2515 - Brier score: 0.0771 - tp: 386.0000 - fp: 125.0000 - tn: 4125.0000 - fn: 427.0000 - accuracy: 0.8910 - precision: 0.7554 - recall: 0.4748 - auc: 0.9184 - prc: 0.7122 - val_loss: 0.2244 - val_cross entropy: 0.2244 - val_Brier score: 0.0675 - val_tp: 260.0000 - val_fp: 47.0000 - val_tn: 2503.0000 - val_fn: 228.0000 - val_accuracy: 0.9095 - val_precision: 0.8469 - val_recall: 0.5328 - val_auc: 0.9353 - val_prc: 0.7888\n",
      "Epoch 100/100\n",
      "10/10 [==============================] - 0s 3ms/step - loss: 0.2475 - cross entropy: 0.2475 - Brier score: 0.0756 - tp: 386.0000 - fp: 122.0000 - tn: 4128.0000 - fn: 427.0000 - accuracy: 0.8916 - precision: 0.7598 - recall: 0.4748 - auc: 0.9196 - prc: 0.7280 - val_loss: 0.2240 - val_cross entropy: 0.2240 - val_Brier score: 0.0674 - val_tp: 261.0000 - val_fp: 47.0000 - val_tn: 2503.0000 - val_fn: 227.0000 - val_accuracy: 0.9098 - val_precision: 0.8474 - val_recall: 0.5348 - val_auc: 0.9355 - val_prc: 0.7892\n"
     ]
    }
   ],
   "source": [
    "model = make_model()\n",
    "model.load_weights(initial_weights)\n",
    "baseline_history = model.fit(\n",
    "    X_train,\n",
    "    y_train,\n",
    "    batch_size=BATCH_SIZE,\n",
    "    epochs=EPOCHS,\n",
    "    callbacks=[early_stopping],\n",
    "    validation_data=(X_val, y_val))"
   ]
  },
  {
   "cell_type": "markdown",
   "metadata": {},
   "source": [
    "### Check training history\n",
    "\n",
    "In this section, you will produce plots of your model's accuracy and loss on the training and validation set. These are useful to check for overfitting, which you can learn more about in the [Overfit and underfit](https://www.tensorflow.org/tutorials/keras/overfit_and_underfit) tutorial.\n",
    "\n",
    "Additionally, you can produce these plots for any of the metrics you created above. False negatives are included as an example."
   ]
  },
  {
   "cell_type": "code",
   "execution_count": 49,
   "metadata": {},
   "outputs": [],
   "source": [
    "def plot_metrics(history):\n",
    "  metrics = ['loss', 'prc', 'precision', 'recall']\n",
    "  for n, metric in enumerate(metrics):\n",
    "    name = metric.replace(\"_\",\" \").capitalize()\n",
    "    plt.subplot(2,2,n+1)\n",
    "    plt.plot(history.epoch, history.history[metric], color=colors[0], label='Train')\n",
    "    plt.plot(history.epoch, history.history['val_'+ metric],\n",
    "             color=colors[0], linestyle=\"--\", label='Val')\n",
    "    plt.xlabel('Epoch')\n",
    "    plt.ylabel(name)\n",
    "    if metric == 'loss':\n",
    "      plt.ylim([0, plt.ylim()[1]])\n",
    "    elif metric == 'auc':\n",
    "      plt.ylim([0.8,1])\n",
    "    else:\n",
    "      plt.ylim([0,1])\n",
    "\n",
    "    plt.legend()"
   ]
  },
  {
   "cell_type": "code",
   "execution_count": 50,
   "metadata": {},
   "outputs": [
    {
     "data": {
      "image/png": "[encoded data removed]",
      "text/plain": [
       "<Figure size 1200x1000 with 4 Axes>"
      ]
     },
     "metadata": {},
     "output_type": "display_data"
    }
   ],
   "source": [
    "plot_metrics(baseline_history)"
   ]
  },
  {
   "cell_type": "code",
   "execution_count": 51,
   "metadata": {},
   "outputs": [
    {
     "name": "stdout",
     "output_type": "stream",
     "text": [
      "10/10 [==============================] - 0s 651us/step\n",
      "4/4 [==============================] - 0s 723us/step\n"
     ]
    }
   ],
   "source": [
    "train_predictions_baseline = model.predict(X_train, batch_size=BATCH_SIZE)\n",
    "test_predictions_baseline = model.predict(X_test, batch_size=BATCH_SIZE)"
   ]
  },
  {
   "cell_type": "markdown",
   "metadata": {},
   "source": [
    "**Function for plotting confusion matrix and some important statistics.**"
   ]
  },
  {
   "cell_type": "code",
   "execution_count": 52,
   "metadata": {},
   "outputs": [],
   "source": [
    "def plot_cm(labels, predictions, threshold=0.5):\n",
    "  cm = confusion_matrix(labels, predictions > threshold)\n",
    "  plt.figure(figsize=(5,5))\n",
    "  sns.heatmap(cm, annot=True, fmt=\"d\")\n",
    "  plt.title('Confusion matrix @{:.2f}'.format(threshold))\n",
    "  plt.ylabel('Actual label')\n",
    "  plt.xlabel('Predicted label')\n",
    "\n",
    "  print('Legitimate Transactions Detected (True Negatives): ', cm[0][0])\n",
    "  print('Legitimate Transactions Incorrectly Detected (False Positives): ', cm[0][1])\n",
    "  print('Fraudulent Transactions Missed (False Negatives): ', cm[1][0])\n",
    "  print('Fraudulent Transactions Detected (True Positives): ', cm[1][1])\n",
    "  print('Total Fraudulent Transactions: ', np.sum(cm[1]))\n",
    "\n",
    "  p = cm[1][1]/(cm[1][1] + cm[0][1])\n",
    "  r = cm[1][1]/(cm[1][1] + cm[1][0])\n",
    "  print('Recall: ', r)\n",
    "  print('F1 Score: ', 2*((p*r)/(p+r)))"
   ]
  },
  {
   "cell_type": "markdown",
   "metadata": {},
   "source": [
    "**See the results of baseline model, i.e., no weighted.**"
   ]
  },
  {
   "cell_type": "code",
   "execution_count": 53,
   "metadata": {},
   "outputs": [
    {
     "name": "stdout",
     "output_type": "stream",
     "text": [
      "loss :  0.21933716535568237\n",
      "cross entropy :  0.21933716535568237\n",
      "Brier score :  0.06477195769548416\n",
      "tp :  177.0\n",
      "fp :  31.0\n",
      "tn :  1669.0\n",
      "fn :  149.0\n",
      "accuracy :  0.9111549854278564\n",
      "precision :  0.8509615659713745\n",
      "recall :  0.5429447889328003\n",
      "auc :  0.9377246499061584\n",
      "prc :  0.8081866502761841\n",
      "\n",
      "Legitimate Transactions Detected (True Negatives):  1669\n",
      "Legitimate Transactions Incorrectly Detected (False Positives):  31\n",
      "Fraudulent Transactions Missed (False Negatives):  149\n",
      "Fraudulent Transactions Detected (True Positives):  177\n",
      "Total Fraudulent Transactions:  326\n",
      "Recall:  0.5429447852760736\n",
      "F1 Score:  0.6629213483146066\n"
     ]
    },
    {
     "data": {
      "image/png": "[encoded data removed]",
      "text/plain": [
       "<Figure size 500x500 with 2 Axes>"
      ]
     },
     "metadata": {},
     "output_type": "display_data"
    }
   ],
   "source": [
    "baseline_results = model.evaluate(X_test, y_test,\n",
    "                                  batch_size=BATCH_SIZE, verbose=0)\n",
    "for name, value in zip(model.metrics_names, baseline_results):\n",
    "  print(name, ': ', value)\n",
    "print()\n",
    "\n",
    "plot_cm(y_test, test_predictions_baseline)"
   ]
  },
  {
   "cell_type": "markdown",
   "metadata": {},
   "source": [
    "**Change the threshold for when to mark a customer attritioned.**"
   ]
  },
  {
   "cell_type": "code",
   "execution_count": 54,
   "metadata": {},
   "outputs": [
    {
     "name": "stdout",
     "output_type": "stream",
     "text": [
      "Legitimate Transactions Detected (True Negatives):  1627\n",
      "Legitimate Transactions Incorrectly Detected (False Positives):  73\n",
      "Fraudulent Transactions Missed (False Negatives):  98\n",
      "Fraudulent Transactions Detected (True Positives):  228\n",
      "Total Fraudulent Transactions:  326\n",
      "Recall:  0.6993865030674846\n",
      "F1 Score:  0.7272727272727272\n"
     ]
    },
    {
     "data": {
      "image/png": "[encoded data removed]",
      "text/plain": [
       "<Figure size 500x500 with 2 Axes>"
      ]
     },
     "metadata": {},
     "output_type": "display_data"
    }
   ],
   "source": [
    "plot_cm(y_test, test_predictions_baseline, threshold=0.35)\n",
    "#plot_cm(y_test, test_predictions_baseline, threshold=0.9)"
   ]
  },
  {
   "cell_type": "markdown",
   "metadata": {
    "id": "OzOa9FGA6WtG"
   },
   "source": [
    "## Weighted Model Building"
   ]
  },
  {
   "cell_type": "markdown",
   "metadata": {},
   "source": [
    "**Build weights for each attrited value.**"
   ]
  },
  {
   "cell_type": "code",
   "execution_count": 55,
   "metadata": {},
   "outputs": [
    {
     "name": "stdout",
     "output_type": "stream",
     "text": [
      "Weight for class 0: 0.60\n",
      "Weight for class 1: 3.11\n"
     ]
    }
   ],
   "source": [
    "# Scaling by total/2 helps keep the loss to a similar magnitude.\n",
    "# The sum of the weights of all examples stays the same.\n",
    "weight_for_0 = (1 / neg) * (total / 2.0)\n",
    "weight_for_1 = (1 / pos) * (total / 2.0)\n",
    "\n",
    "class_weight = {0: weight_for_0, 1: weight_for_1}\n",
    "\n",
    "print('Weight for class 0: {:.2f}'.format(weight_for_0))\n",
    "print('Weight for class 1: {:.2f}'.format(weight_for_1))"
   ]
  },
  {
   "cell_type": "code",
   "execution_count": 56,
   "metadata": {},
   "outputs": [
    {
     "name": "stdout",
     "output_type": "stream",
     "text": [
      "Epoch 1/100\n",
      "10/10 [==============================] - 1s 21ms/step - loss: 1.0836 - cross entropy: 0.4544 - Brier score: 0.1419 - tp: 192.0000 - fp: 345.0000 - tn: 5605.0000 - fn: 947.0000 - accuracy: 0.8177 - precision: 0.3575 - recall: 0.1686 - auc: 0.6635 - prc: 0.2607 - val_loss: 0.4944 - val_cross entropy: 0.4944 - val_Brier score: 0.1598 - val_tp: 1.0000 - val_fp: 161.0000 - val_tn: 2389.0000 - val_fn: 487.0000 - val_accuracy: 0.7867 - val_precision: 0.0062 - val_recall: 0.0020 - val_auc: 0.5423 - val_prc: 0.1588\n",
      "Epoch 2/100\n",
      "10/10 [==============================] - 0s 3ms/step - loss: 1.0158 - cross entropy: 0.5227 - Brier score: 0.1658 - tp: 23.0000 - fp: 302.0000 - tn: 3948.0000 - fn: 790.0000 - accuracy: 0.7843 - precision: 0.0708 - recall: 0.0283 - auc: 0.5307 - prc: 0.1598 - val_loss: 0.4811 - val_cross entropy: 0.4811 - val_Brier score: 0.1552 - val_tp: 1.0000 - val_fp: 136.0000 - val_tn: 2414.0000 - val_fn: 487.0000 - val_accuracy: 0.7949 - val_precision: 0.0073 - val_recall: 0.0020 - val_auc: 0.5748 - val_prc: 0.1711\n",
      "Epoch 3/100\n",
      "10/10 [==============================] - 0s 3ms/step - loss: 0.9786 - cross entropy: 0.5115 - Brier score: 0.1623 - tp: 34.0000 - fp: 279.0000 - tn: 3971.0000 - fn: 779.0000 - accuracy: 0.7910 - precision: 0.1086 - recall: 0.0418 - auc: 0.5471 - prc: 0.1685 - val_loss: 0.4705 - val_cross entropy: 0.4705 - val_Brier score: 0.1514 - val_tp: 1.0000 - val_fp: 123.0000 - val_tn: 2427.0000 - val_fn: 487.0000 - val_accuracy: 0.7992 - val_precision: 0.0081 - val_recall: 0.0020 - val_auc: 0.6040 - val_prc: 0.1841\n",
      "Epoch 4/100\n",
      "10/10 [==============================] - 0s 3ms/step - loss: 0.9509 - cross entropy: 0.5078 - Brier score: 0.1615 - tp: 27.0000 - fp: 293.0000 - tn: 3957.0000 - fn: 786.0000 - accuracy: 0.7869 - precision: 0.0844 - recall: 0.0332 - auc: 0.5611 - prc: 0.1749 - val_loss: 0.4608 - val_cross entropy: 0.4608 - val_Brier score: 0.1475 - val_tp: 1.0000 - val_fp: 111.0000 - val_tn: 2439.0000 - val_fn: 487.0000 - val_accuracy: 0.8032 - val_precision: 0.0089 - val_recall: 0.0020 - val_auc: 0.6295 - val_prc: 0.1975\n",
      "Epoch 5/100\n",
      "10/10 [==============================] - 0s 4ms/step - loss: 0.9161 - cross entropy: 0.4976 - Brier score: 0.1591 - tp: 42.0000 - fp: 303.0000 - tn: 3947.0000 - fn: 771.0000 - accuracy: 0.7879 - precision: 0.1217 - recall: 0.0517 - auc: 0.5710 - prc: 0.1812 - val_loss: 0.4535 - val_cross entropy: 0.4535 - val_Brier score: 0.1444 - val_tp: 2.0000 - val_fp: 101.0000 - val_tn: 2449.0000 - val_fn: 486.0000 - val_accuracy: 0.8068 - val_precision: 0.0194 - val_recall: 0.0041 - val_auc: 0.6530 - val_prc: 0.2117\n",
      "Epoch 6/100\n",
      "10/10 [==============================] - 0s 3ms/step - loss: 0.8708 - cross entropy: 0.4888 - Brier score: 0.1568 - tp: 71.0000 - fp: 293.0000 - tn: 3957.0000 - fn: 742.0000 - accuracy: 0.7956 - precision: 0.1951 - recall: 0.0873 - auc: 0.5882 - prc: 0.1927 - val_loss: 0.4464 - val_cross entropy: 0.4464 - val_Brier score: 0.1411 - val_tp: 4.0000 - val_fp: 92.0000 - val_tn: 2458.0000 - val_fn: 484.0000 - val_accuracy: 0.8104 - val_precision: 0.0417 - val_recall: 0.0082 - val_auc: 0.6746 - val_prc: 0.2284\n",
      "Epoch 7/100\n",
      "10/10 [==============================] - 0s 3ms/step - loss: 0.8189 - cross entropy: 0.4780 - Brier score: 0.1519 - tp: 116.0000 - fp: 304.0000 - tn: 3946.0000 - fn: 697.0000 - accuracy: 0.8023 - precision: 0.2762 - recall: 0.1427 - auc: 0.6311 - prc: 0.2225 - val_loss: 0.4405 - val_cross entropy: 0.4405 - val_Brier score: 0.1382 - val_tp: 6.0000 - val_fp: 80.0000 - val_tn: 2470.0000 - val_fn: 482.0000 - val_accuracy: 0.8150 - val_precision: 0.0698 - val_recall: 0.0123 - val_auc: 0.6964 - val_prc: 0.2509\n",
      "Epoch 8/100\n",
      "10/10 [==============================] - 0s 4ms/step - loss: 0.8002 - cross entropy: 0.4780 - Brier score: 0.1528 - tp: 138.0000 - fp: 341.0000 - tn: 3909.0000 - fn: 675.0000 - accuracy: 0.7993 - precision: 0.2881 - recall: 0.1697 - auc: 0.6349 - prc: 0.2248 - val_loss: 0.4356 - val_cross entropy: 0.4356 - val_Brier score: 0.1357 - val_tp: 19.0000 - val_fp: 77.0000 - val_tn: 2473.0000 - val_fn: 469.0000 - val_accuracy: 0.8203 - val_precision: 0.1979 - val_recall: 0.0389 - val_auc: 0.7183 - val_prc: 0.2824\n",
      "Epoch 9/100\n",
      "10/10 [==============================] - 0s 4ms/step - loss: 0.7756 - cross entropy: 0.4761 - Brier score: 0.1521 - tp: 168.0000 - fp: 362.0000 - tn: 3888.0000 - fn: 645.0000 - accuracy: 0.8011 - precision: 0.3170 - recall: 0.2066 - auc: 0.6454 - prc: 0.2459 - val_loss: 0.4323 - val_cross entropy: 0.4323 - val_Brier score: 0.1337 - val_tp: 42.0000 - val_fp: 78.0000 - val_tn: 2472.0000 - val_fn: 446.0000 - val_accuracy: 0.8275 - val_precision: 0.3500 - val_recall: 0.0861 - val_auc: 0.7391 - val_prc: 0.3220\n",
      "Epoch 10/100\n",
      "10/10 [==============================] - 0s 3ms/step - loss: 0.7452 - cross entropy: 0.4822 - Brier score: 0.1548 - tp: 206.0000 - fp: 431.0000 - tn: 3819.0000 - fn: 607.0000 - accuracy: 0.7950 - precision: 0.3234 - recall: 0.2534 - auc: 0.6605 - prc: 0.2578 - val_loss: 0.4289 - val_cross entropy: 0.4289 - val_Brier score: 0.1317 - val_tp: 83.0000 - val_fp: 84.0000 - val_tn: 2466.0000 - val_fn: 405.0000 - val_accuracy: 0.8390 - val_precision: 0.4970 - val_recall: 0.1701 - val_auc: 0.7591 - val_prc: 0.3770\n",
      "Epoch 11/100\n",
      "10/10 [==============================] - 0s 4ms/step - loss: 0.7108 - cross entropy: 0.4727 - Brier score: 0.1514 - tp: 240.0000 - fp: 459.0000 - tn: 3791.0000 - fn: 573.0000 - accuracy: 0.7962 - precision: 0.3433 - recall: 0.2952 - auc: 0.6868 - prc: 0.2974 - val_loss: 0.4275 - val_cross entropy: 0.4275 - val_Brier score: 0.1307 - val_tp: 132.0000 - val_fp: 99.0000 - val_tn: 2451.0000 - val_fn: 356.0000 - val_accuracy: 0.8502 - val_precision: 0.5714 - val_recall: 0.2705 - val_auc: 0.7755 - val_prc: 0.4365\n",
      "Epoch 12/100\n",
      "10/10 [==============================] - 0s 3ms/step - loss: 0.6848 - cross entropy: 0.4795 - Brier score: 0.1537 - tp: 299.0000 - fp: 526.0000 - tn: 3724.0000 - fn: 514.0000 - accuracy: 0.7946 - precision: 0.3624 - recall: 0.3678 - auc: 0.7020 - prc: 0.3231 - val_loss: 0.4278 - val_cross entropy: 0.4278 - val_Brier score: 0.1305 - val_tp: 188.0000 - val_fp: 112.0000 - val_tn: 2438.0000 - val_fn: 300.0000 - val_accuracy: 0.8644 - val_precision: 0.6267 - val_recall: 0.3852 - val_auc: 0.7903 - val_prc: 0.4933\n",
      "Epoch 13/100\n",
      "10/10 [==============================] - 0s 4ms/step - loss: 0.6504 - cross entropy: 0.4741 - Brier score: 0.1518 - tp: 330.0000 - fp: 560.0000 - tn: 3690.0000 - fn: 483.0000 - accuracy: 0.7940 - precision: 0.3708 - recall: 0.4059 - auc: 0.7262 - prc: 0.3746 - val_loss: 0.4276 - val_cross entropy: 0.4276 - val_Brier score: 0.1302 - val_tp: 224.0000 - val_fp: 142.0000 - val_tn: 2408.0000 - val_fn: 264.0000 - val_accuracy: 0.8664 - val_precision: 0.6120 - val_recall: 0.4590 - val_auc: 0.8022 - val_prc: 0.5444\n",
      "Epoch 14/100\n",
      "10/10 [==============================] - 0s 3ms/step - loss: 0.6501 - cross entropy: 0.4854 - Brier score: 0.1567 - tp: 338.0000 - fp: 627.0000 - tn: 3623.0000 - fn: 475.0000 - accuracy: 0.7823 - precision: 0.3503 - recall: 0.4157 - auc: 0.7238 - prc: 0.3615 - val_loss: 0.4280 - val_cross entropy: 0.4280 - val_Brier score: 0.1305 - val_tp: 257.0000 - val_fp: 178.0000 - val_tn: 2372.0000 - val_fn: 231.0000 - val_accuracy: 0.8654 - val_precision: 0.5908 - val_recall: 0.5266 - val_auc: 0.8122 - val_prc: 0.5816\n",
      "Epoch 15/100\n",
      "10/10 [==============================] - 0s 4ms/step - loss: 0.6133 - cross entropy: 0.4755 - Brier score: 0.1523 - tp: 392.0000 - fp: 604.0000 - tn: 3646.0000 - fn: 421.0000 - accuracy: 0.7976 - precision: 0.3936 - recall: 0.4822 - auc: 0.7516 - prc: 0.4218 - val_loss: 0.4286 - val_cross entropy: 0.4286 - val_Brier score: 0.1309 - val_tp: 285.0000 - val_fp: 214.0000 - val_tn: 2336.0000 - val_fn: 203.0000 - val_accuracy: 0.8627 - val_precision: 0.5711 - val_recall: 0.5840 - val_auc: 0.8209 - val_prc: 0.6086\n",
      "Epoch 16/100\n",
      "10/10 [==============================] - 0s 3ms/step - loss: 0.6145 - cross entropy: 0.4866 - Brier score: 0.1574 - tp: 397.0000 - fp: 690.0000 - tn: 3560.0000 - fn: 416.0000 - accuracy: 0.7816 - precision: 0.3652 - recall: 0.4883 - auc: 0.7495 - prc: 0.4100 - val_loss: 0.4298 - val_cross entropy: 0.4298 - val_Brier score: 0.1317 - val_tp: 298.0000 - val_fp: 253.0000 - val_tn: 2297.0000 - val_fn: 190.0000 - val_accuracy: 0.8542 - val_precision: 0.5408 - val_recall: 0.6107 - val_auc: 0.8280 - val_prc: 0.6271\n"
     ]
    },
    {
     "name": "stdout",
     "output_type": "stream",
     "text": [
      "Epoch 17/100\n",
      "10/10 [==============================] - 0s 4ms/step - loss: 0.6001 - cross entropy: 0.4919 - Brier score: 0.1594 - tp: 424.0000 - fp: 721.0000 - tn: 3529.0000 - fn: 389.0000 - accuracy: 0.7808 - precision: 0.3703 - recall: 0.5215 - auc: 0.7598 - prc: 0.4190 - val_loss: 0.4314 - val_cross entropy: 0.4314 - val_Brier score: 0.1328 - val_tp: 312.0000 - val_fp: 287.0000 - val_tn: 2263.0000 - val_fn: 176.0000 - val_accuracy: 0.8476 - val_precision: 0.5209 - val_recall: 0.6393 - val_auc: 0.8342 - val_prc: 0.6416\n",
      "Epoch 18/100\n",
      "10/10 [==============================] - 0s 3ms/step - loss: 0.5875 - cross entropy: 0.4983 - Brier score: 0.1613 - tp: 463.0000 - fp: 789.0000 - tn: 3461.0000 - fn: 350.0000 - accuracy: 0.7750 - precision: 0.3698 - recall: 0.5695 - auc: 0.7680 - prc: 0.4522 - val_loss: 0.4320 - val_cross entropy: 0.4320 - val_Brier score: 0.1334 - val_tp: 320.0000 - val_fp: 322.0000 - val_tn: 2228.0000 - val_fn: 168.0000 - val_accuracy: 0.8387 - val_precision: 0.4984 - val_recall: 0.6557 - val_auc: 0.8394 - val_prc: 0.6521\n",
      "Epoch 19/100\n",
      "10/10 [==============================] - 0s 20ms/step - loss: 0.5767 - cross entropy: 0.4903 - Brier score: 0.1591 - tp: 459.0000 - fp: 760.0000 - tn: 3490.0000 - fn: 354.0000 - accuracy: 0.7800 - precision: 0.3765 - recall: 0.5646 - auc: 0.7746 - prc: 0.4714 - val_loss: 0.4326 - val_cross entropy: 0.4326 - val_Brier score: 0.1340 - val_tp: 335.0000 - val_fp: 340.0000 - val_tn: 2210.0000 - val_fn: 153.0000 - val_accuracy: 0.8377 - val_precision: 0.4963 - val_recall: 0.6865 - val_auc: 0.8440 - val_prc: 0.6603\n",
      "Epoch 20/100\n",
      "10/10 [==============================] - 0s 3ms/step - loss: 0.5494 - cross entropy: 0.4873 - Brier score: 0.1582 - tp: 510.0000 - fp: 831.0000 - tn: 3419.0000 - fn: 303.0000 - accuracy: 0.7760 - precision: 0.3803 - recall: 0.6273 - auc: 0.7952 - prc: 0.5170 - val_loss: 0.4319 - val_cross entropy: 0.4319 - val_Brier score: 0.1340 - val_tp: 337.0000 - val_fp: 356.0000 - val_tn: 2194.0000 - val_fn: 151.0000 - val_accuracy: 0.8331 - val_precision: 0.4863 - val_recall: 0.6906 - val_auc: 0.8475 - val_prc: 0.6662\n",
      "Epoch 21/100\n",
      "10/10 [==============================] - 0s 3ms/step - loss: 0.5573 - cross entropy: 0.4942 - Brier score: 0.1601 - tp: 499.0000 - fp: 831.0000 - tn: 3419.0000 - fn: 314.0000 - accuracy: 0.7738 - precision: 0.3752 - recall: 0.6138 - auc: 0.7904 - prc: 0.4954 - val_loss: 0.4312 - val_cross entropy: 0.4312 - val_Brier score: 0.1340 - val_tp: 341.0000 - val_fp: 363.0000 - val_tn: 2187.0000 - val_fn: 147.0000 - val_accuracy: 0.8321 - val_precision: 0.4844 - val_recall: 0.6988 - val_auc: 0.8513 - val_prc: 0.6712\n",
      "Epoch 22/100\n",
      "10/10 [==============================] - 0s 3ms/step - loss: 0.5363 - cross entropy: 0.4897 - Brier score: 0.1580 - tp: 522.0000 - fp: 827.0000 - tn: 3423.0000 - fn: 291.0000 - accuracy: 0.7792 - precision: 0.3870 - recall: 0.6421 - auc: 0.8087 - prc: 0.5042 - val_loss: 0.4295 - val_cross entropy: 0.4295 - val_Brier score: 0.1336 - val_tp: 344.0000 - val_fp: 369.0000 - val_tn: 2181.0000 - val_fn: 144.0000 - val_accuracy: 0.8311 - val_precision: 0.4825 - val_recall: 0.7049 - val_auc: 0.8542 - val_prc: 0.6755\n",
      "Epoch 23/100\n",
      "10/10 [==============================] - 0s 4ms/step - loss: 0.5325 - cross entropy: 0.4838 - Brier score: 0.1559 - tp: 525.0000 - fp: 803.0000 - tn: 3447.0000 - fn: 288.0000 - accuracy: 0.7845 - precision: 0.3953 - recall: 0.6458 - auc: 0.8097 - prc: 0.5189 - val_loss: 0.4282 - val_cross entropy: 0.4282 - val_Brier score: 0.1334 - val_tp: 349.0000 - val_fp: 377.0000 - val_tn: 2173.0000 - val_fn: 139.0000 - val_accuracy: 0.8302 - val_precision: 0.4807 - val_recall: 0.7152 - val_auc: 0.8573 - val_prc: 0.6792\n",
      "Epoch 24/100\n",
      "10/10 [==============================] - 0s 3ms/step - loss: 0.5195 - cross entropy: 0.4780 - Brier score: 0.1528 - tp: 544.0000 - fp: 787.0000 - tn: 3463.0000 - fn: 269.0000 - accuracy: 0.7914 - precision: 0.4087 - recall: 0.6691 - auc: 0.8217 - prc: 0.5384 - val_loss: 0.4266 - val_cross entropy: 0.4266 - val_Brier score: 0.1330 - val_tp: 355.0000 - val_fp: 378.0000 - val_tn: 2172.0000 - val_fn: 133.0000 - val_accuracy: 0.8318 - val_precision: 0.4843 - val_recall: 0.7275 - val_auc: 0.8598 - val_prc: 0.6822\n",
      "Epoch 25/100\n",
      "10/10 [==============================] - 0s 3ms/step - loss: 0.5148 - cross entropy: 0.4815 - Brier score: 0.1547 - tp: 544.0000 - fp: 807.0000 - tn: 3443.0000 - fn: 269.0000 - accuracy: 0.7875 - precision: 0.4027 - recall: 0.6691 - auc: 0.8248 - prc: 0.5340 - val_loss: 0.4250 - val_cross entropy: 0.4250 - val_Brier score: 0.1326 - val_tp: 357.0000 - val_fp: 384.0000 - val_tn: 2166.0000 - val_fn: 131.0000 - val_accuracy: 0.8305 - val_precision: 0.4818 - val_recall: 0.7316 - val_auc: 0.8624 - val_prc: 0.6849\n",
      "Epoch 26/100\n",
      "10/10 [==============================] - 0s 3ms/step - loss: 0.5065 - cross entropy: 0.4786 - Brier score: 0.1527 - tp: 559.0000 - fp: 815.0000 - tn: 3435.0000 - fn: 254.0000 - accuracy: 0.7889 - precision: 0.4068 - recall: 0.6876 - auc: 0.8324 - prc: 0.5516 - val_loss: 0.4231 - val_cross entropy: 0.4231 - val_Brier score: 0.1320 - val_tp: 358.0000 - val_fp: 388.0000 - val_tn: 2162.0000 - val_fn: 130.0000 - val_accuracy: 0.8295 - val_precision: 0.4799 - val_recall: 0.7336 - val_auc: 0.8649 - val_prc: 0.6879\n",
      "Epoch 27/100\n",
      "10/10 [==============================] - 0s 3ms/step - loss: 0.5120 - cross entropy: 0.4748 - Brier score: 0.1523 - tp: 553.0000 - fp: 799.0000 - tn: 3451.0000 - fn: 260.0000 - accuracy: 0.7908 - precision: 0.4090 - recall: 0.6802 - auc: 0.8257 - prc: 0.5632 - val_loss: 0.4211 - val_cross entropy: 0.4211 - val_Brier score: 0.1314 - val_tp: 357.0000 - val_fp: 393.0000 - val_tn: 2157.0000 - val_fn: 131.0000 - val_accuracy: 0.8275 - val_precision: 0.4760 - val_recall: 0.7316 - val_auc: 0.8669 - val_prc: 0.6909\n",
      "Epoch 28/100\n",
      "10/10 [==============================] - 0s 3ms/step - loss: 0.5079 - cross entropy: 0.4758 - Brier score: 0.1510 - tp: 553.0000 - fp: 780.0000 - tn: 3470.0000 - fn: 260.0000 - accuracy: 0.7946 - precision: 0.4149 - recall: 0.6802 - auc: 0.8314 - prc: 0.5563 - val_loss: 0.4183 - val_cross entropy: 0.4183 - val_Brier score: 0.1305 - val_tp: 359.0000 - val_fp: 395.0000 - val_tn: 2155.0000 - val_fn: 129.0000 - val_accuracy: 0.8275 - val_precision: 0.4761 - val_recall: 0.7357 - val_auc: 0.8689 - val_prc: 0.6932\n",
      "Epoch 29/100\n",
      "10/10 [==============================] - 0s 3ms/step - loss: 0.5022 - cross entropy: 0.4748 - Brier score: 0.1515 - tp: 560.0000 - fp: 809.0000 - tn: 3441.0000 - fn: 253.0000 - accuracy: 0.7902 - precision: 0.4091 - recall: 0.6888 - auc: 0.8353 - prc: 0.5658 - val_loss: 0.4145 - val_cross entropy: 0.4145 - val_Brier score: 0.1291 - val_tp: 362.0000 - val_fp: 394.0000 - val_tn: 2156.0000 - val_fn: 126.0000 - val_accuracy: 0.8288 - val_precision: 0.4788 - val_recall: 0.7418 - val_auc: 0.8710 - val_prc: 0.6953\n",
      "Epoch 30/100\n",
      "10/10 [==============================] - 0s 4ms/step - loss: 0.5052 - cross entropy: 0.4720 - Brier score: 0.1506 - tp: 554.0000 - fp: 785.0000 - tn: 3465.0000 - fn: 259.0000 - accuracy: 0.7938 - precision: 0.4137 - recall: 0.6814 - auc: 0.8332 - prc: 0.5612 - val_loss: 0.4128 - val_cross entropy: 0.4128 - val_Brier score: 0.1285 - val_tp: 362.0000 - val_fp: 392.0000 - val_tn: 2158.0000 - val_fn: 126.0000 - val_accuracy: 0.8295 - val_precision: 0.4801 - val_recall: 0.7418 - val_auc: 0.8725 - val_prc: 0.6969\n",
      "Epoch 31/100\n",
      "10/10 [==============================] - 0s 3ms/step - loss: 0.4981 - cross entropy: 0.4731 - Brier score: 0.1503 - tp: 567.0000 - fp: 780.0000 - tn: 3470.0000 - fn: 246.0000 - accuracy: 0.7974 - precision: 0.4209 - recall: 0.6974 - auc: 0.8388 - prc: 0.5708 - val_loss: 0.4109 - val_cross entropy: 0.4109 - val_Brier score: 0.1279 - val_tp: 363.0000 - val_fp: 393.0000 - val_tn: 2157.0000 - val_fn: 125.0000 - val_accuracy: 0.8295 - val_precision: 0.4802 - val_recall: 0.7439 - val_auc: 0.8743 - val_prc: 0.6983\n",
      "Epoch 32/100\n",
      "10/10 [==============================] - 0s 3ms/step - loss: 0.4739 - cross entropy: 0.4550 - Brier score: 0.1443 - tp: 580.0000 - fp: 762.0000 - tn: 3488.0000 - fn: 233.0000 - accuracy: 0.8035 - precision: 0.4322 - recall: 0.7134 - auc: 0.8530 - prc: 0.6127 - val_loss: 0.4080 - val_cross entropy: 0.4080 - val_Brier score: 0.1269 - val_tp: 367.0000 - val_fp: 393.0000 - val_tn: 2157.0000 - val_fn: 121.0000 - val_accuracy: 0.8308 - val_precision: 0.4829 - val_recall: 0.7520 - val_auc: 0.8760 - val_prc: 0.7005\n"
     ]
    },
    {
     "name": "stdout",
     "output_type": "stream",
     "text": [
      "Epoch 33/100\n",
      "10/10 [==============================] - 0s 3ms/step - loss: 0.4763 - cross entropy: 0.4478 - Brier score: 0.1405 - tp: 576.0000 - fp: 739.0000 - tn: 3511.0000 - fn: 237.0000 - accuracy: 0.8072 - precision: 0.4380 - recall: 0.7085 - auc: 0.8543 - prc: 0.5941 - val_loss: 0.4056 - val_cross entropy: 0.4056 - val_Brier score: 0.1261 - val_tp: 368.0000 - val_fp: 393.0000 - val_tn: 2157.0000 - val_fn: 120.0000 - val_accuracy: 0.8311 - val_precision: 0.4836 - val_recall: 0.7541 - val_auc: 0.8776 - val_prc: 0.7021\n",
      "Epoch 34/100\n",
      "10/10 [==============================] - 0s 3ms/step - loss: 0.4821 - cross entropy: 0.4642 - Brier score: 0.1472 - tp: 575.0000 - fp: 796.0000 - tn: 3454.0000 - fn: 238.0000 - accuracy: 0.7958 - precision: 0.4194 - recall: 0.7073 - auc: 0.8504 - prc: 0.5933 - val_loss: 0.4038 - val_cross entropy: 0.4038 - val_Brier score: 0.1255 - val_tp: 366.0000 - val_fp: 393.0000 - val_tn: 2157.0000 - val_fn: 122.0000 - val_accuracy: 0.8305 - val_precision: 0.4822 - val_recall: 0.7500 - val_auc: 0.8790 - val_prc: 0.7036\n",
      "Epoch 35/100\n",
      "10/10 [==============================] - 0s 4ms/step - loss: 0.4813 - cross entropy: 0.4580 - Brier score: 0.1431 - tp: 580.0000 - fp: 742.0000 - tn: 3508.0000 - fn: 233.0000 - accuracy: 0.8074 - precision: 0.4387 - recall: 0.7134 - auc: 0.8526 - prc: 0.5827 - val_loss: 0.4026 - val_cross entropy: 0.4026 - val_Brier score: 0.1251 - val_tp: 365.0000 - val_fp: 394.0000 - val_tn: 2156.0000 - val_fn: 123.0000 - val_accuracy: 0.8298 - val_precision: 0.4809 - val_recall: 0.7480 - val_auc: 0.8804 - val_prc: 0.7047\n",
      "Epoch 36/100\n",
      "10/10 [==============================] - 0s 3ms/step - loss: 0.4794 - cross entropy: 0.4517 - Brier score: 0.1422 - tp: 570.0000 - fp: 738.0000 - tn: 3512.0000 - fn: 243.0000 - accuracy: 0.8062 - precision: 0.4358 - recall: 0.7011 - auc: 0.8517 - prc: 0.6002 - val_loss: 0.4022 - val_cross entropy: 0.4022 - val_Brier score: 0.1251 - val_tp: 367.0000 - val_fp: 394.0000 - val_tn: 2156.0000 - val_fn: 121.0000 - val_accuracy: 0.8305 - val_precision: 0.4823 - val_recall: 0.7520 - val_auc: 0.8816 - val_prc: 0.7059\n",
      "Epoch 37/100\n",
      "10/10 [==============================] - 0s 3ms/step - loss: 0.4642 - cross entropy: 0.4446 - Brier score: 0.1393 - tp: 594.0000 - fp: 728.0000 - tn: 3522.0000 - fn: 219.0000 - accuracy: 0.8130 - precision: 0.4493 - recall: 0.7306 - auc: 0.8631 - prc: 0.6122 - val_loss: 0.4006 - val_cross entropy: 0.4006 - val_Brier score: 0.1245 - val_tp: 368.0000 - val_fp: 392.0000 - val_tn: 2158.0000 - val_fn: 120.0000 - val_accuracy: 0.8315 - val_precision: 0.4842 - val_recall: 0.7541 - val_auc: 0.8828 - val_prc: 0.7066\n",
      "Epoch 38/100\n",
      "10/10 [==============================] - 0s 3ms/step - loss: 0.4715 - cross entropy: 0.4452 - Brier score: 0.1402 - tp: 587.0000 - fp: 749.0000 - tn: 3501.0000 - fn: 226.0000 - accuracy: 0.8074 - precision: 0.4394 - recall: 0.7220 - auc: 0.8569 - prc: 0.6101 - val_loss: 0.3989 - val_cross entropy: 0.3989 - val_Brier score: 0.1239 - val_tp: 369.0000 - val_fp: 390.0000 - val_tn: 2160.0000 - val_fn: 119.0000 - val_accuracy: 0.8325 - val_precision: 0.4862 - val_recall: 0.7561 - val_auc: 0.8840 - val_prc: 0.7080\n",
      "Epoch 39/100\n",
      "10/10 [==============================] - 0s 3ms/step - loss: 0.4649 - cross entropy: 0.4423 - Brier score: 0.1391 - tp: 590.0000 - fp: 739.0000 - tn: 3511.0000 - fn: 223.0000 - accuracy: 0.8100 - precision: 0.4439 - recall: 0.7257 - auc: 0.8614 - prc: 0.6151 - val_loss: 0.3971 - val_cross entropy: 0.3971 - val_Brier score: 0.1233 - val_tp: 370.0000 - val_fp: 384.0000 - val_tn: 2166.0000 - val_fn: 118.0000 - val_accuracy: 0.8348 - val_precision: 0.4907 - val_recall: 0.7582 - val_auc: 0.8852 - val_prc: 0.7096\n",
      "Epoch 40/100\n",
      "10/10 [==============================] - 0s 4ms/step - loss: 0.4683 - cross entropy: 0.4510 - Brier score: 0.1402 - tp: 601.0000 - fp: 738.0000 - tn: 3512.0000 - fn: 212.0000 - accuracy: 0.8124 - precision: 0.4488 - recall: 0.7392 - auc: 0.8611 - prc: 0.6048 - val_loss: 0.3948 - val_cross entropy: 0.3948 - val_Brier score: 0.1225 - val_tp: 368.0000 - val_fp: 377.0000 - val_tn: 2173.0000 - val_fn: 120.0000 - val_accuracy: 0.8364 - val_precision: 0.4940 - val_recall: 0.7541 - val_auc: 0.8863 - val_prc: 0.7110\n",
      "Epoch 41/100\n",
      "10/10 [==============================] - 0s 3ms/step - loss: 0.4593 - cross entropy: 0.4422 - Brier score: 0.1397 - tp: 593.0000 - fp: 735.0000 - tn: 3515.0000 - fn: 220.0000 - accuracy: 0.8114 - precision: 0.4465 - recall: 0.7294 - auc: 0.8644 - prc: 0.6200 - val_loss: 0.3933 - val_cross entropy: 0.3933 - val_Brier score: 0.1220 - val_tp: 368.0000 - val_fp: 378.0000 - val_tn: 2172.0000 - val_fn: 120.0000 - val_accuracy: 0.8361 - val_precision: 0.4933 - val_recall: 0.7541 - val_auc: 0.8874 - val_prc: 0.7118\n",
      "Epoch 42/100\n",
      "10/10 [==============================] - 0s 3ms/step - loss: 0.4572 - cross entropy: 0.4408 - Brier score: 0.1379 - tp: 595.0000 - fp: 736.0000 - tn: 3514.0000 - fn: 218.0000 - accuracy: 0.8116 - precision: 0.4470 - recall: 0.7319 - auc: 0.8667 - prc: 0.6187 - val_loss: 0.3904 - val_cross entropy: 0.3904 - val_Brier score: 0.1209 - val_tp: 369.0000 - val_fp: 374.0000 - val_tn: 2176.0000 - val_fn: 119.0000 - val_accuracy: 0.8377 - val_precision: 0.4966 - val_recall: 0.7561 - val_auc: 0.8885 - val_prc: 0.7128\n",
      "Epoch 43/100\n",
      "10/10 [==============================] - 0s 3ms/step - loss: 0.4574 - cross entropy: 0.4404 - Brier score: 0.1384 - tp: 600.0000 - fp: 741.0000 - tn: 3509.0000 - fn: 213.0000 - accuracy: 0.8116 - precision: 0.4474 - recall: 0.7380 - auc: 0.8668 - prc: 0.6199 - val_loss: 0.3884 - val_cross entropy: 0.3884 - val_Brier score: 0.1202 - val_tp: 368.0000 - val_fp: 373.0000 - val_tn: 2177.0000 - val_fn: 120.0000 - val_accuracy: 0.8377 - val_precision: 0.4966 - val_recall: 0.7541 - val_auc: 0.8894 - val_prc: 0.7136\n",
      "Epoch 44/100\n",
      "10/10 [==============================] - 0s 3ms/step - loss: 0.4613 - cross entropy: 0.4428 - Brier score: 0.1389 - tp: 587.0000 - fp: 736.0000 - tn: 3514.0000 - fn: 226.0000 - accuracy: 0.8100 - precision: 0.4437 - recall: 0.7220 - auc: 0.8651 - prc: 0.6081 - val_loss: 0.3858 - val_cross entropy: 0.3858 - val_Brier score: 0.1192 - val_tp: 370.0000 - val_fp: 370.0000 - val_tn: 2180.0000 - val_fn: 118.0000 - val_accuracy: 0.8394 - val_precision: 0.5000 - val_recall: 0.7582 - val_auc: 0.8905 - val_prc: 0.7146\n",
      "Epoch 45/100\n",
      "10/10 [==============================] - 0s 3ms/step - loss: 0.4565 - cross entropy: 0.4347 - Brier score: 0.1352 - tp: 599.0000 - fp: 703.0000 - tn: 3547.0000 - fn: 214.0000 - accuracy: 0.8189 - precision: 0.4601 - recall: 0.7368 - auc: 0.8683 - prc: 0.6137 - val_loss: 0.3843 - val_cross entropy: 0.3843 - val_Brier score: 0.1187 - val_tp: 370.0000 - val_fp: 370.0000 - val_tn: 2180.0000 - val_fn: 118.0000 - val_accuracy: 0.8394 - val_precision: 0.5000 - val_recall: 0.7582 - val_auc: 0.8913 - val_prc: 0.7149\n",
      "Epoch 46/100\n",
      "10/10 [==============================] - 0s 3ms/step - loss: 0.4493 - cross entropy: 0.4234 - Brier score: 0.1321 - tp: 595.0000 - fp: 677.0000 - tn: 3573.0000 - fn: 218.0000 - accuracy: 0.8232 - precision: 0.4678 - recall: 0.7319 - auc: 0.8726 - prc: 0.6298 - val_loss: 0.3848 - val_cross entropy: 0.3848 - val_Brier score: 0.1189 - val_tp: 371.0000 - val_fp: 373.0000 - val_tn: 2177.0000 - val_fn: 117.0000 - val_accuracy: 0.8387 - val_precision: 0.4987 - val_recall: 0.7602 - val_auc: 0.8921 - val_prc: 0.7160\n",
      "Epoch 47/100\n",
      "10/10 [==============================] - 0s 3ms/step - loss: 0.4558 - cross entropy: 0.4364 - Brier score: 0.1354 - tp: 591.0000 - fp: 695.0000 - tn: 3555.0000 - fn: 222.0000 - accuracy: 0.8189 - precision: 0.4596 - recall: 0.7269 - auc: 0.8704 - prc: 0.6193 - val_loss: 0.3842 - val_cross entropy: 0.3842 - val_Brier score: 0.1188 - val_tp: 371.0000 - val_fp: 373.0000 - val_tn: 2177.0000 - val_fn: 117.0000 - val_accuracy: 0.8387 - val_precision: 0.4987 - val_recall: 0.7602 - val_auc: 0.8929 - val_prc: 0.7170\n",
      "Epoch 48/100\n",
      "10/10 [==============================] - 0s 4ms/step - loss: 0.4517 - cross entropy: 0.4307 - Brier score: 0.1327 - tp: 602.0000 - fp: 684.0000 - tn: 3566.0000 - fn: 211.0000 - accuracy: 0.8232 - precision: 0.4681 - recall: 0.7405 - auc: 0.8734 - prc: 0.6100 - val_loss: 0.3847 - val_cross entropy: 0.3847 - val_Brier score: 0.1190 - val_tp: 371.0000 - val_fp: 380.0000 - val_tn: 2170.0000 - val_fn: 117.0000 - val_accuracy: 0.8364 - val_precision: 0.4940 - val_recall: 0.7602 - val_auc: 0.8938 - val_prc: 0.7164\n"
     ]
    },
    {
     "name": "stdout",
     "output_type": "stream",
     "text": [
      "Epoch 49/100\n",
      "10/10 [==============================] - 0s 4ms/step - loss: 0.4476 - cross entropy: 0.4361 - Brier score: 0.1353 - tp: 615.0000 - fp: 719.0000 - tn: 3531.0000 - fn: 198.0000 - accuracy: 0.8189 - precision: 0.4610 - recall: 0.7565 - auc: 0.8744 - prc: 0.6229 - val_loss: 0.3837 - val_cross entropy: 0.3837 - val_Brier score: 0.1186 - val_tp: 371.0000 - val_fp: 377.0000 - val_tn: 2173.0000 - val_fn: 117.0000 - val_accuracy: 0.8374 - val_precision: 0.4960 - val_recall: 0.7602 - val_auc: 0.8945 - val_prc: 0.7172\n",
      "Epoch 50/100\n",
      "10/10 [==============================] - 0s 4ms/step - loss: 0.4520 - cross entropy: 0.4384 - Brier score: 0.1368 - tp: 605.0000 - fp: 723.0000 - tn: 3527.0000 - fn: 208.0000 - accuracy: 0.8161 - precision: 0.4556 - recall: 0.7442 - auc: 0.8710 - prc: 0.6147 - val_loss: 0.3810 - val_cross entropy: 0.3810 - val_Brier score: 0.1177 - val_tp: 371.0000 - val_fp: 374.0000 - val_tn: 2176.0000 - val_fn: 117.0000 - val_accuracy: 0.8384 - val_precision: 0.4980 - val_recall: 0.7602 - val_auc: 0.8954 - val_prc: 0.7183\n",
      "Epoch 51/100\n",
      "10/10 [==============================] - 0s 3ms/step - loss: 0.4426 - cross entropy: 0.4281 - Brier score: 0.1330 - tp: 610.0000 - fp: 695.0000 - tn: 3555.0000 - fn: 203.0000 - accuracy: 0.8226 - precision: 0.4674 - recall: 0.7503 - auc: 0.8772 - prc: 0.6313 - val_loss: 0.3773 - val_cross entropy: 0.3773 - val_Brier score: 0.1164 - val_tp: 371.0000 - val_fp: 367.0000 - val_tn: 2183.0000 - val_fn: 117.0000 - val_accuracy: 0.8407 - val_precision: 0.5027 - val_recall: 0.7602 - val_auc: 0.8965 - val_prc: 0.7199\n",
      "Epoch 52/100\n",
      "10/10 [==============================] - 0s 4ms/step - loss: 0.4436 - cross entropy: 0.4221 - Brier score: 0.1312 - tp: 603.0000 - fp: 675.0000 - tn: 3575.0000 - fn: 210.0000 - accuracy: 0.8252 - precision: 0.4718 - recall: 0.7417 - auc: 0.8757 - prc: 0.6445 - val_loss: 0.3747 - val_cross entropy: 0.3747 - val_Brier score: 0.1154 - val_tp: 370.0000 - val_fp: 363.0000 - val_tn: 2187.0000 - val_fn: 118.0000 - val_accuracy: 0.8417 - val_precision: 0.5048 - val_recall: 0.7582 - val_auc: 0.8975 - val_prc: 0.7205\n",
      "Epoch 53/100\n",
      "10/10 [==============================] - 0s 3ms/step - loss: 0.4341 - cross entropy: 0.4138 - Brier score: 0.1282 - tp: 601.0000 - fp: 649.0000 - tn: 3601.0000 - fn: 212.0000 - accuracy: 0.8299 - precision: 0.4808 - recall: 0.7392 - auc: 0.8837 - prc: 0.6430 - val_loss: 0.3739 - val_cross entropy: 0.3739 - val_Brier score: 0.1152 - val_tp: 372.0000 - val_fp: 364.0000 - val_tn: 2186.0000 - val_fn: 116.0000 - val_accuracy: 0.8420 - val_precision: 0.5054 - val_recall: 0.7623 - val_auc: 0.8984 - val_prc: 0.7219\n",
      "Epoch 54/100\n",
      "10/10 [==============================] - 0s 3ms/step - loss: 0.4469 - cross entropy: 0.4222 - Brier score: 0.1315 - tp: 593.0000 - fp: 674.0000 - tn: 3576.0000 - fn: 220.0000 - accuracy: 0.8234 - precision: 0.4680 - recall: 0.7294 - auc: 0.8752 - prc: 0.6289 - val_loss: 0.3733 - val_cross entropy: 0.3733 - val_Brier score: 0.1150 - val_tp: 372.0000 - val_fp: 366.0000 - val_tn: 2184.0000 - val_fn: 116.0000 - val_accuracy: 0.8413 - val_precision: 0.5041 - val_recall: 0.7623 - val_auc: 0.8993 - val_prc: 0.7232\n",
      "Epoch 55/100\n",
      "10/10 [==============================] - 0s 3ms/step - loss: 0.4382 - cross entropy: 0.4205 - Brier score: 0.1296 - tp: 603.0000 - fp: 658.0000 - tn: 3592.0000 - fn: 210.0000 - accuracy: 0.8286 - precision: 0.4782 - recall: 0.7417 - auc: 0.8810 - prc: 0.6280 - val_loss: 0.3730 - val_cross entropy: 0.3730 - val_Brier score: 0.1149 - val_tp: 373.0000 - val_fp: 366.0000 - val_tn: 2184.0000 - val_fn: 115.0000 - val_accuracy: 0.8417 - val_precision: 0.5047 - val_recall: 0.7643 - val_auc: 0.9000 - val_prc: 0.7241\n",
      "Epoch 56/100\n",
      "10/10 [==============================] - 0s 4ms/step - loss: 0.4468 - cross entropy: 0.4234 - Brier score: 0.1306 - tp: 594.0000 - fp: 651.0000 - tn: 3599.0000 - fn: 219.0000 - accuracy: 0.8282 - precision: 0.4771 - recall: 0.7306 - auc: 0.8761 - prc: 0.6203 - val_loss: 0.3729 - val_cross entropy: 0.3729 - val_Brier score: 0.1150 - val_tp: 373.0000 - val_fp: 367.0000 - val_tn: 2183.0000 - val_fn: 115.0000 - val_accuracy: 0.8413 - val_precision: 0.5041 - val_recall: 0.7643 - val_auc: 0.9009 - val_prc: 0.7254\n",
      "Epoch 57/100\n",
      "10/10 [==============================] - 0s 3ms/step - loss: 0.4378 - cross entropy: 0.4215 - Brier score: 0.1297 - tp: 604.0000 - fp: 659.0000 - tn: 3591.0000 - fn: 209.0000 - accuracy: 0.8286 - precision: 0.4782 - recall: 0.7429 - auc: 0.8826 - prc: 0.6272 - val_loss: 0.3716 - val_cross entropy: 0.3716 - val_Brier score: 0.1145 - val_tp: 374.0000 - val_fp: 364.0000 - val_tn: 2186.0000 - val_fn: 114.0000 - val_accuracy: 0.8427 - val_precision: 0.5068 - val_recall: 0.7664 - val_auc: 0.9015 - val_prc: 0.7251\n",
      "Epoch 58/100\n",
      "10/10 [==============================] - 0s 3ms/step - loss: 0.4278 - cross entropy: 0.4121 - Brier score: 0.1272 - tp: 618.0000 - fp: 663.0000 - tn: 3587.0000 - fn: 195.0000 - accuracy: 0.8305 - precision: 0.4824 - recall: 0.7601 - auc: 0.8869 - prc: 0.6498 - val_loss: 0.3709 - val_cross entropy: 0.3709 - val_Brier score: 0.1143 - val_tp: 375.0000 - val_fp: 364.0000 - val_tn: 2186.0000 - val_fn: 113.0000 - val_accuracy: 0.8430 - val_precision: 0.5074 - val_recall: 0.7684 - val_auc: 0.9023 - val_prc: 0.7257\n",
      "Epoch 59/100\n",
      "10/10 [==============================] - 0s 3ms/step - loss: 0.4288 - cross entropy: 0.4123 - Brier score: 0.1277 - tp: 614.0000 - fp: 653.0000 - tn: 3597.0000 - fn: 199.0000 - accuracy: 0.8317 - precision: 0.4846 - recall: 0.7552 - auc: 0.8851 - prc: 0.6594 - val_loss: 0.3700 - val_cross entropy: 0.3700 - val_Brier score: 0.1140 - val_tp: 375.0000 - val_fp: 364.0000 - val_tn: 2186.0000 - val_fn: 113.0000 - val_accuracy: 0.8430 - val_precision: 0.5074 - val_recall: 0.7684 - val_auc: 0.9030 - val_prc: 0.7267\n",
      "Epoch 60/100\n",
      "10/10 [==============================] - 0s 3ms/step - loss: 0.4317 - cross entropy: 0.4110 - Brier score: 0.1274 - tp: 611.0000 - fp: 670.0000 - tn: 3580.0000 - fn: 202.0000 - accuracy: 0.8278 - precision: 0.4770 - recall: 0.7515 - auc: 0.8834 - prc: 0.6446 - val_loss: 0.3686 - val_cross entropy: 0.3686 - val_Brier score: 0.1135 - val_tp: 375.0000 - val_fp: 361.0000 - val_tn: 2189.0000 - val_fn: 113.0000 - val_accuracy: 0.8440 - val_precision: 0.5095 - val_recall: 0.7684 - val_auc: 0.9038 - val_prc: 0.7277\n",
      "Epoch 61/100\n",
      "10/10 [==============================] - 0s 3ms/step - loss: 0.4272 - cross entropy: 0.4106 - Brier score: 0.1268 - tp: 630.0000 - fp: 678.0000 - tn: 3572.0000 - fn: 183.0000 - accuracy: 0.8299 - precision: 0.4817 - recall: 0.7749 - auc: 0.8860 - prc: 0.6605 - val_loss: 0.3664 - val_cross entropy: 0.3664 - val_Brier score: 0.1127 - val_tp: 374.0000 - val_fp: 354.0000 - val_tn: 2196.0000 - val_fn: 114.0000 - val_accuracy: 0.8460 - val_precision: 0.5137 - val_recall: 0.7664 - val_auc: 0.9045 - val_prc: 0.7284\n",
      "Epoch 62/100\n",
      "10/10 [==============================] - 0s 3ms/step - loss: 0.4281 - cross entropy: 0.4128 - Brier score: 0.1272 - tp: 610.0000 - fp: 670.0000 - tn: 3580.0000 - fn: 203.0000 - accuracy: 0.8276 - precision: 0.4766 - recall: 0.7503 - auc: 0.8873 - prc: 0.6419 - val_loss: 0.3648 - val_cross entropy: 0.3648 - val_Brier score: 0.1121 - val_tp: 376.0000 - val_fp: 351.0000 - val_tn: 2199.0000 - val_fn: 112.0000 - val_accuracy: 0.8476 - val_precision: 0.5172 - val_recall: 0.7705 - val_auc: 0.9052 - val_prc: 0.7292\n",
      "Epoch 63/100\n",
      "10/10 [==============================] - 0s 3ms/step - loss: 0.4309 - cross entropy: 0.4143 - Brier score: 0.1267 - tp: 608.0000 - fp: 657.0000 - tn: 3593.0000 - fn: 205.0000 - accuracy: 0.8297 - precision: 0.4806 - recall: 0.7478 - auc: 0.8866 - prc: 0.6422 - val_loss: 0.3641 - val_cross entropy: 0.3641 - val_Brier score: 0.1119 - val_tp: 376.0000 - val_fp: 353.0000 - val_tn: 2197.0000 - val_fn: 112.0000 - val_accuracy: 0.8469 - val_precision: 0.5158 - val_recall: 0.7705 - val_auc: 0.9059 - val_prc: 0.7302\n",
      "Epoch 64/100\n",
      "10/10 [==============================] - 0s 3ms/step - loss: 0.4252 - cross entropy: 0.4151 - Brier score: 0.1275 - tp: 614.0000 - fp: 659.0000 - tn: 3591.0000 - fn: 199.0000 - accuracy: 0.8305 - precision: 0.4823 - recall: 0.7552 - auc: 0.8894 - prc: 0.6424 - val_loss: 0.3628 - val_cross entropy: 0.3628 - val_Brier score: 0.1114 - val_tp: 377.0000 - val_fp: 348.0000 - val_tn: 2202.0000 - val_fn: 111.0000 - val_accuracy: 0.8489 - val_precision: 0.5200 - val_recall: 0.7725 - val_auc: 0.9065 - val_prc: 0.7310\n"
     ]
    },
    {
     "name": "stdout",
     "output_type": "stream",
     "text": [
      "Epoch 65/100\n",
      "10/10 [==============================] - 0s 3ms/step - loss: 0.4286 - cross entropy: 0.4116 - Brier score: 0.1268 - tp: 611.0000 - fp: 691.0000 - tn: 3559.0000 - fn: 202.0000 - accuracy: 0.8236 - precision: 0.4693 - recall: 0.7515 - auc: 0.8858 - prc: 0.6491 - val_loss: 0.3614 - val_cross entropy: 0.3614 - val_Brier score: 0.1109 - val_tp: 377.0000 - val_fp: 344.0000 - val_tn: 2206.0000 - val_fn: 111.0000 - val_accuracy: 0.8502 - val_precision: 0.5229 - val_recall: 0.7725 - val_auc: 0.9072 - val_prc: 0.7324\n",
      "Epoch 66/100\n",
      "10/10 [==============================] - 0s 3ms/step - loss: 0.4280 - cross entropy: 0.4029 - Brier score: 0.1245 - tp: 600.0000 - fp: 641.0000 - tn: 3609.0000 - fn: 213.0000 - accuracy: 0.8313 - precision: 0.4835 - recall: 0.7380 - auc: 0.8868 - prc: 0.6445 - val_loss: 0.3602 - val_cross entropy: 0.3602 - val_Brier score: 0.1105 - val_tp: 376.0000 - val_fp: 344.0000 - val_tn: 2206.0000 - val_fn: 112.0000 - val_accuracy: 0.8499 - val_precision: 0.5222 - val_recall: 0.7705 - val_auc: 0.9078 - val_prc: 0.7328\n",
      "Epoch 67/100\n",
      "10/10 [==============================] - 0s 3ms/step - loss: 0.4243 - cross entropy: 0.4131 - Brier score: 0.1266 - tp: 625.0000 - fp: 669.0000 - tn: 3581.0000 - fn: 188.0000 - accuracy: 0.8307 - precision: 0.4830 - recall: 0.7688 - auc: 0.8896 - prc: 0.6444 - val_loss: 0.3590 - val_cross entropy: 0.3590 - val_Brier score: 0.1101 - val_tp: 376.0000 - val_fp: 342.0000 - val_tn: 2208.0000 - val_fn: 112.0000 - val_accuracy: 0.8506 - val_precision: 0.5237 - val_recall: 0.7705 - val_auc: 0.9087 - val_prc: 0.7335\n",
      "Epoch 68/100\n",
      "10/10 [==============================] - 0s 3ms/step - loss: 0.4211 - cross entropy: 0.4050 - Brier score: 0.1250 - tp: 623.0000 - fp: 635.0000 - tn: 3615.0000 - fn: 190.0000 - accuracy: 0.8371 - precision: 0.4952 - recall: 0.7663 - auc: 0.8899 - prc: 0.6590 - val_loss: 0.3585 - val_cross entropy: 0.3585 - val_Brier score: 0.1099 - val_tp: 376.0000 - val_fp: 344.0000 - val_tn: 2206.0000 - val_fn: 112.0000 - val_accuracy: 0.8499 - val_precision: 0.5222 - val_recall: 0.7705 - val_auc: 0.9090 - val_prc: 0.7340\n",
      "Epoch 69/100\n",
      "10/10 [==============================] - 0s 3ms/step - loss: 0.4245 - cross entropy: 0.4055 - Brier score: 0.1246 - tp: 615.0000 - fp: 614.0000 - tn: 3636.0000 - fn: 198.0000 - accuracy: 0.8396 - precision: 0.5004 - recall: 0.7565 - auc: 0.8888 - prc: 0.6565 - val_loss: 0.3585 - val_cross entropy: 0.3585 - val_Brier score: 0.1100 - val_tp: 376.0000 - val_fp: 344.0000 - val_tn: 2206.0000 - val_fn: 112.0000 - val_accuracy: 0.8499 - val_precision: 0.5222 - val_recall: 0.7705 - val_auc: 0.9098 - val_prc: 0.7356\n",
      "Epoch 70/100\n",
      "10/10 [==============================] - 0s 3ms/step - loss: 0.4157 - cross entropy: 0.4004 - Brier score: 0.1225 - tp: 617.0000 - fp: 638.0000 - tn: 3612.0000 - fn: 196.0000 - accuracy: 0.8353 - precision: 0.4916 - recall: 0.7589 - auc: 0.8938 - prc: 0.6591 - val_loss: 0.3577 - val_cross entropy: 0.3577 - val_Brier score: 0.1097 - val_tp: 376.0000 - val_fp: 343.0000 - val_tn: 2207.0000 - val_fn: 112.0000 - val_accuracy: 0.8502 - val_precision: 0.5229 - val_recall: 0.7705 - val_auc: 0.9105 - val_prc: 0.7364\n",
      "Epoch 71/100\n",
      "10/10 [==============================] - 0s 3ms/step - loss: 0.4147 - cross entropy: 0.4055 - Brier score: 0.1234 - tp: 619.0000 - fp: 645.0000 - tn: 3605.0000 - fn: 194.0000 - accuracy: 0.8343 - precision: 0.4897 - recall: 0.7614 - auc: 0.8961 - prc: 0.6525 - val_loss: 0.3563 - val_cross entropy: 0.3563 - val_Brier score: 0.1092 - val_tp: 376.0000 - val_fp: 342.0000 - val_tn: 2208.0000 - val_fn: 112.0000 - val_accuracy: 0.8506 - val_precision: 0.5237 - val_recall: 0.7705 - val_auc: 0.9112 - val_prc: 0.7360\n",
      "Epoch 72/100\n",
      "10/10 [==============================] - 0s 3ms/step - loss: 0.4182 - cross entropy: 0.3996 - Brier score: 0.1220 - tp: 612.0000 - fp: 622.0000 - tn: 3628.0000 - fn: 201.0000 - accuracy: 0.8374 - precision: 0.4959 - recall: 0.7528 - auc: 0.8941 - prc: 0.6550 - val_loss: 0.3559 - val_cross entropy: 0.3559 - val_Brier score: 0.1091 - val_tp: 377.0000 - val_fp: 343.0000 - val_tn: 2207.0000 - val_fn: 111.0000 - val_accuracy: 0.8506 - val_precision: 0.5236 - val_recall: 0.7725 - val_auc: 0.9119 - val_prc: 0.7369\n",
      "Epoch 73/100\n",
      "10/10 [==============================] - 0s 3ms/step - loss: 0.4049 - cross entropy: 0.3952 - Brier score: 0.1217 - tp: 623.0000 - fp: 637.0000 - tn: 3613.0000 - fn: 190.0000 - accuracy: 0.8367 - precision: 0.4944 - recall: 0.7663 - auc: 0.8999 - prc: 0.6733 - val_loss: 0.3555 - val_cross entropy: 0.3555 - val_Brier score: 0.1089 - val_tp: 378.0000 - val_fp: 347.0000 - val_tn: 2203.0000 - val_fn: 110.0000 - val_accuracy: 0.8496 - val_precision: 0.5214 - val_recall: 0.7746 - val_auc: 0.9126 - val_prc: 0.7379\n",
      "Epoch 74/100\n",
      "10/10 [==============================] - 0s 3ms/step - loss: 0.4109 - cross entropy: 0.3992 - Brier score: 0.1217 - tp: 632.0000 - fp: 633.0000 - tn: 3617.0000 - fn: 181.0000 - accuracy: 0.8392 - precision: 0.4996 - recall: 0.7774 - auc: 0.8970 - prc: 0.6636 - val_loss: 0.3545 - val_cross entropy: 0.3545 - val_Brier score: 0.1086 - val_tp: 379.0000 - val_fp: 346.0000 - val_tn: 2204.0000 - val_fn: 109.0000 - val_accuracy: 0.8502 - val_precision: 0.5228 - val_recall: 0.7766 - val_auc: 0.9133 - val_prc: 0.7388\n",
      "Epoch 75/100\n",
      "10/10 [==============================] - 0s 3ms/step - loss: 0.4120 - cross entropy: 0.4042 - Brier score: 0.1240 - tp: 625.0000 - fp: 659.0000 - tn: 3591.0000 - fn: 188.0000 - accuracy: 0.8327 - precision: 0.4868 - recall: 0.7688 - auc: 0.8957 - prc: 0.6675 - val_loss: 0.3531 - val_cross entropy: 0.3531 - val_Brier score: 0.1081 - val_tp: 378.0000 - val_fp: 342.0000 - val_tn: 2208.0000 - val_fn: 110.0000 - val_accuracy: 0.8512 - val_precision: 0.5250 - val_recall: 0.7746 - val_auc: 0.9139 - val_prc: 0.7393\n",
      "Epoch 76/100\n",
      "10/10 [==============================] - 0s 3ms/step - loss: 0.4099 - cross entropy: 0.3972 - Brier score: 0.1209 - tp: 636.0000 - fp: 616.0000 - tn: 3634.0000 - fn: 177.0000 - accuracy: 0.8434 - precision: 0.5080 - recall: 0.7823 - auc: 0.8976 - prc: 0.6638 - val_loss: 0.3518 - val_cross entropy: 0.3518 - val_Brier score: 0.1076 - val_tp: 378.0000 - val_fp: 341.0000 - val_tn: 2209.0000 - val_fn: 110.0000 - val_accuracy: 0.8515 - val_precision: 0.5257 - val_recall: 0.7746 - val_auc: 0.9147 - val_prc: 0.7403\n",
      "Epoch 77/100\n",
      "10/10 [==============================] - 0s 3ms/step - loss: 0.4083 - cross entropy: 0.3944 - Brier score: 0.1204 - tp: 624.0000 - fp: 623.0000 - tn: 3627.0000 - fn: 189.0000 - accuracy: 0.8396 - precision: 0.5004 - recall: 0.7675 - auc: 0.8981 - prc: 0.6628 - val_loss: 0.3498 - val_cross entropy: 0.3498 - val_Brier score: 0.1069 - val_tp: 378.0000 - val_fp: 336.0000 - val_tn: 2214.0000 - val_fn: 110.0000 - val_accuracy: 0.8532 - val_precision: 0.5294 - val_recall: 0.7746 - val_auc: 0.9152 - val_prc: 0.7414\n",
      "Epoch 78/100\n",
      "10/10 [==============================] - 0s 3ms/step - loss: 0.4022 - cross entropy: 0.3936 - Brier score: 0.1213 - tp: 633.0000 - fp: 650.0000 - tn: 3600.0000 - fn: 180.0000 - accuracy: 0.8361 - precision: 0.4934 - recall: 0.7786 - auc: 0.9015 - prc: 0.6701 - val_loss: 0.3496 - val_cross entropy: 0.3496 - val_Brier score: 0.1069 - val_tp: 378.0000 - val_fp: 336.0000 - val_tn: 2214.0000 - val_fn: 110.0000 - val_accuracy: 0.8532 - val_precision: 0.5294 - val_recall: 0.7746 - val_auc: 0.9157 - val_prc: 0.7420\n",
      "Epoch 79/100\n",
      "10/10 [==============================] - 0s 4ms/step - loss: 0.4110 - cross entropy: 0.4009 - Brier score: 0.1229 - tp: 631.0000 - fp: 648.0000 - tn: 3602.0000 - fn: 182.0000 - accuracy: 0.8361 - precision: 0.4934 - recall: 0.7761 - auc: 0.8972 - prc: 0.6548 - val_loss: 0.3477 - val_cross entropy: 0.3477 - val_Brier score: 0.1063 - val_tp: 378.0000 - val_fp: 335.0000 - val_tn: 2215.0000 - val_fn: 110.0000 - val_accuracy: 0.8535 - val_precision: 0.5302 - val_recall: 0.7746 - val_auc: 0.9162 - val_prc: 0.7427\n",
      "Epoch 80/100\n",
      "10/10 [==============================] - 0s 3ms/step - loss: 0.3973 - cross entropy: 0.3901 - Brier score: 0.1190 - tp: 633.0000 - fp: 608.0000 - tn: 3642.0000 - fn: 180.0000 - accuracy: 0.8444 - precision: 0.5101 - recall: 0.7786 - auc: 0.9046 - prc: 0.6758 - val_loss: 0.3477 - val_cross entropy: 0.3477 - val_Brier score: 0.1063 - val_tp: 380.0000 - val_fp: 335.0000 - val_tn: 2215.0000 - val_fn: 108.0000 - val_accuracy: 0.8542 - val_precision: 0.5315 - val_recall: 0.7787 - val_auc: 0.9167 - val_prc: 0.7430\n"
     ]
    },
    {
     "name": "stdout",
     "output_type": "stream",
     "text": [
      "Epoch 81/100\n",
      "10/10 [==============================] - 0s 3ms/step - loss: 0.4026 - cross entropy: 0.3947 - Brier score: 0.1205 - tp: 629.0000 - fp: 629.0000 - tn: 3621.0000 - fn: 184.0000 - accuracy: 0.8394 - precision: 0.5000 - recall: 0.7737 - auc: 0.9015 - prc: 0.6647 - val_loss: 0.3464 - val_cross entropy: 0.3464 - val_Brier score: 0.1059 - val_tp: 380.0000 - val_fp: 336.0000 - val_tn: 2214.0000 - val_fn: 108.0000 - val_accuracy: 0.8539 - val_precision: 0.5307 - val_recall: 0.7787 - val_auc: 0.9175 - val_prc: 0.7443\n",
      "Epoch 82/100\n",
      "10/10 [==============================] - 0s 4ms/step - loss: 0.4074 - cross entropy: 0.3966 - Brier score: 0.1207 - tp: 635.0000 - fp: 617.0000 - tn: 3633.0000 - fn: 178.0000 - accuracy: 0.8430 - precision: 0.5072 - recall: 0.7811 - auc: 0.8998 - prc: 0.6582 - val_loss: 0.3453 - val_cross entropy: 0.3453 - val_Brier score: 0.1055 - val_tp: 380.0000 - val_fp: 335.0000 - val_tn: 2215.0000 - val_fn: 108.0000 - val_accuracy: 0.8542 - val_precision: 0.5315 - val_recall: 0.7787 - val_auc: 0.9181 - val_prc: 0.7450\n",
      "Epoch 83/100\n",
      "10/10 [==============================] - 0s 4ms/step - loss: 0.4132 - cross entropy: 0.3998 - Brier score: 0.1224 - tp: 626.0000 - fp: 646.0000 - tn: 3604.0000 - fn: 187.0000 - accuracy: 0.8355 - precision: 0.4921 - recall: 0.7700 - auc: 0.8954 - prc: 0.6581 - val_loss: 0.3463 - val_cross entropy: 0.3463 - val_Brier score: 0.1058 - val_tp: 381.0000 - val_fp: 338.0000 - val_tn: 2212.0000 - val_fn: 107.0000 - val_accuracy: 0.8535 - val_precision: 0.5299 - val_recall: 0.7807 - val_auc: 0.9184 - val_prc: 0.7454\n",
      "Epoch 84/100\n",
      "10/10 [==============================] - 0s 4ms/step - loss: 0.4023 - cross entropy: 0.3931 - Brier score: 0.1196 - tp: 634.0000 - fp: 624.0000 - tn: 3626.0000 - fn: 179.0000 - accuracy: 0.8414 - precision: 0.5040 - recall: 0.7798 - auc: 0.9019 - prc: 0.6600 - val_loss: 0.3451 - val_cross entropy: 0.3451 - val_Brier score: 0.1054 - val_tp: 381.0000 - val_fp: 336.0000 - val_tn: 2214.0000 - val_fn: 107.0000 - val_accuracy: 0.8542 - val_precision: 0.5314 - val_recall: 0.7807 - val_auc: 0.9189 - val_prc: 0.7459\n",
      "Epoch 85/100\n",
      "10/10 [==============================] - 0s 4ms/step - loss: 0.4044 - cross entropy: 0.3924 - Brier score: 0.1198 - tp: 624.0000 - fp: 625.0000 - tn: 3625.0000 - fn: 189.0000 - accuracy: 0.8392 - precision: 0.4996 - recall: 0.7675 - auc: 0.9007 - prc: 0.6658 - val_loss: 0.3438 - val_cross entropy: 0.3438 - val_Brier score: 0.1049 - val_tp: 381.0000 - val_fp: 334.0000 - val_tn: 2216.0000 - val_fn: 107.0000 - val_accuracy: 0.8548 - val_precision: 0.5329 - val_recall: 0.7807 - val_auc: 0.9194 - val_prc: 0.7467\n",
      "Epoch 86/100\n",
      "10/10 [==============================] - 0s 3ms/step - loss: 0.3931 - cross entropy: 0.3885 - Brier score: 0.1184 - tp: 644.0000 - fp: 644.0000 - tn: 3606.0000 - fn: 169.0000 - accuracy: 0.8394 - precision: 0.5000 - recall: 0.7921 - auc: 0.9066 - prc: 0.6789 - val_loss: 0.3427 - val_cross entropy: 0.3427 - val_Brier score: 0.1046 - val_tp: 381.0000 - val_fp: 333.0000 - val_tn: 2217.0000 - val_fn: 107.0000 - val_accuracy: 0.8552 - val_precision: 0.5336 - val_recall: 0.7807 - val_auc: 0.9199 - val_prc: 0.7473\n",
      "Epoch 87/100\n",
      "10/10 [==============================] - 0s 3ms/step - loss: 0.4010 - cross entropy: 0.3928 - Brier score: 0.1185 - tp: 626.0000 - fp: 601.0000 - tn: 3649.0000 - fn: 187.0000 - accuracy: 0.8444 - precision: 0.5102 - recall: 0.7700 - auc: 0.9037 - prc: 0.6670 - val_loss: 0.3410 - val_cross entropy: 0.3410 - val_Brier score: 0.1040 - val_tp: 381.0000 - val_fp: 327.0000 - val_tn: 2223.0000 - val_fn: 107.0000 - val_accuracy: 0.8571 - val_precision: 0.5381 - val_recall: 0.7807 - val_auc: 0.9206 - val_prc: 0.7484\n",
      "Epoch 88/100\n",
      "10/10 [==============================] - 0s 3ms/step - loss: 0.3897 - cross entropy: 0.3833 - Brier score: 0.1164 - tp: 638.0000 - fp: 610.0000 - tn: 3640.0000 - fn: 175.0000 - accuracy: 0.8450 - precision: 0.5112 - recall: 0.7847 - auc: 0.9087 - prc: 0.6774 - val_loss: 0.3405 - val_cross entropy: 0.3405 - val_Brier score: 0.1038 - val_tp: 381.0000 - val_fp: 327.0000 - val_tn: 2223.0000 - val_fn: 107.0000 - val_accuracy: 0.8571 - val_precision: 0.5381 - val_recall: 0.7807 - val_auc: 0.9209 - val_prc: 0.7491\n",
      "Epoch 89/100\n",
      "10/10 [==============================] - 0s 3ms/step - loss: 0.3895 - cross entropy: 0.3844 - Brier score: 0.1176 - tp: 649.0000 - fp: 610.0000 - tn: 3640.0000 - fn: 164.0000 - accuracy: 0.8471 - precision: 0.5155 - recall: 0.7983 - auc: 0.9081 - prc: 0.6900 - val_loss: 0.3404 - val_cross entropy: 0.3404 - val_Brier score: 0.1038 - val_tp: 381.0000 - val_fp: 327.0000 - val_tn: 2223.0000 - val_fn: 107.0000 - val_accuracy: 0.8571 - val_precision: 0.5381 - val_recall: 0.7807 - val_auc: 0.9213 - val_prc: 0.7500\n",
      "Epoch 90/100\n",
      "10/10 [==============================] - 0s 3ms/step - loss: 0.3956 - cross entropy: 0.3899 - Brier score: 0.1186 - tp: 638.0000 - fp: 614.0000 - tn: 3636.0000 - fn: 175.0000 - accuracy: 0.8442 - precision: 0.5096 - recall: 0.7847 - auc: 0.9058 - prc: 0.6763 - val_loss: 0.3398 - val_cross entropy: 0.3398 - val_Brier score: 0.1036 - val_tp: 381.0000 - val_fp: 329.0000 - val_tn: 2221.0000 - val_fn: 107.0000 - val_accuracy: 0.8565 - val_precision: 0.5366 - val_recall: 0.7807 - val_auc: 0.9217 - val_prc: 0.7505\n",
      "Epoch 91/100\n",
      "10/10 [==============================] - 0s 3ms/step - loss: 0.3953 - cross entropy: 0.3893 - Brier score: 0.1180 - tp: 631.0000 - fp: 621.0000 - tn: 3629.0000 - fn: 182.0000 - accuracy: 0.8414 - precision: 0.5040 - recall: 0.7761 - auc: 0.9065 - prc: 0.6673 - val_loss: 0.3386 - val_cross entropy: 0.3386 - val_Brier score: 0.1032 - val_tp: 382.0000 - val_fp: 330.0000 - val_tn: 2220.0000 - val_fn: 106.0000 - val_accuracy: 0.8565 - val_precision: 0.5365 - val_recall: 0.7828 - val_auc: 0.9223 - val_prc: 0.7518\n",
      "Epoch 92/100\n",
      "10/10 [==============================] - 0s 3ms/step - loss: 0.3998 - cross entropy: 0.3830 - Brier score: 0.1177 - tp: 621.0000 - fp: 618.0000 - tn: 3632.0000 - fn: 192.0000 - accuracy: 0.8400 - precision: 0.5012 - recall: 0.7638 - auc: 0.9026 - prc: 0.6842 - val_loss: 0.3387 - val_cross entropy: 0.3387 - val_Brier score: 0.1033 - val_tp: 382.0000 - val_fp: 333.0000 - val_tn: 2217.0000 - val_fn: 106.0000 - val_accuracy: 0.8555 - val_precision: 0.5343 - val_recall: 0.7828 - val_auc: 0.9228 - val_prc: 0.7522\n",
      "Epoch 93/100\n",
      "10/10 [==============================] - 0s 3ms/step - loss: 0.3939 - cross entropy: 0.3839 - Brier score: 0.1169 - tp: 631.0000 - fp: 620.0000 - tn: 3630.0000 - fn: 182.0000 - accuracy: 0.8416 - precision: 0.5044 - recall: 0.7761 - auc: 0.9061 - prc: 0.6833 - val_loss: 0.3380 - val_cross entropy: 0.3380 - val_Brier score: 0.1031 - val_tp: 382.0000 - val_fp: 328.0000 - val_tn: 2222.0000 - val_fn: 106.0000 - val_accuracy: 0.8571 - val_precision: 0.5380 - val_recall: 0.7828 - val_auc: 0.9232 - val_prc: 0.7524\n",
      "Epoch 94/100\n",
      "10/10 [==============================] - 0s 3ms/step - loss: 0.3920 - cross entropy: 0.3828 - Brier score: 0.1174 - tp: 635.0000 - fp: 618.0000 - tn: 3632.0000 - fn: 178.0000 - accuracy: 0.8428 - precision: 0.5068 - recall: 0.7811 - auc: 0.9064 - prc: 0.6787 - val_loss: 0.3360 - val_cross entropy: 0.3360 - val_Brier score: 0.1024 - val_tp: 382.0000 - val_fp: 325.0000 - val_tn: 2225.0000 - val_fn: 106.0000 - val_accuracy: 0.8581 - val_precision: 0.5403 - val_recall: 0.7828 - val_auc: 0.9238 - val_prc: 0.7532\n",
      "Epoch 95/100\n",
      "10/10 [==============================] - 0s 3ms/step - loss: 0.3893 - cross entropy: 0.3794 - Brier score: 0.1155 - tp: 633.0000 - fp: 610.0000 - tn: 3640.0000 - fn: 180.0000 - accuracy: 0.8440 - precision: 0.5093 - recall: 0.7786 - auc: 0.9093 - prc: 0.6747 - val_loss: 0.3365 - val_cross entropy: 0.3365 - val_Brier score: 0.1026 - val_tp: 383.0000 - val_fp: 328.0000 - val_tn: 2222.0000 - val_fn: 105.0000 - val_accuracy: 0.8575 - val_precision: 0.5387 - val_recall: 0.7848 - val_auc: 0.9240 - val_prc: 0.7534\n",
      "Epoch 96/100\n",
      "10/10 [==============================] - 0s 3ms/step - loss: 0.3904 - cross entropy: 0.3812 - Brier score: 0.1156 - tp: 635.0000 - fp: 606.0000 - tn: 3644.0000 - fn: 178.0000 - accuracy: 0.8452 - precision: 0.5117 - recall: 0.7811 - auc: 0.9087 - prc: 0.6772 - val_loss: 0.3345 - val_cross entropy: 0.3345 - val_Brier score: 0.1019 - val_tp: 383.0000 - val_fp: 326.0000 - val_tn: 2224.0000 - val_fn: 105.0000 - val_accuracy: 0.8581 - val_precision: 0.5402 - val_recall: 0.7848 - val_auc: 0.9247 - val_prc: 0.7555\n"
     ]
    },
    {
     "name": "stdout",
     "output_type": "stream",
     "text": [
      "Epoch 97/100\n",
      "10/10 [==============================] - 0s 3ms/step - loss: 0.3877 - cross entropy: 0.3801 - Brier score: 0.1162 - tp: 635.0000 - fp: 609.0000 - tn: 3641.0000 - fn: 178.0000 - accuracy: 0.8446 - precision: 0.5105 - recall: 0.7811 - auc: 0.9088 - prc: 0.6938 - val_loss: 0.3334 - val_cross entropy: 0.3334 - val_Brier score: 0.1016 - val_tp: 382.0000 - val_fp: 325.0000 - val_tn: 2225.0000 - val_fn: 106.0000 - val_accuracy: 0.8581 - val_precision: 0.5403 - val_recall: 0.7828 - val_auc: 0.9249 - val_prc: 0.7550\n",
      "Epoch 98/100\n",
      "10/10 [==============================] - 0s 3ms/step - loss: 0.3852 - cross entropy: 0.3832 - Brier score: 0.1155 - tp: 645.0000 - fp: 619.0000 - tn: 3631.0000 - fn: 168.0000 - accuracy: 0.8446 - precision: 0.5103 - recall: 0.7934 - auc: 0.9113 - prc: 0.6828 - val_loss: 0.3324 - val_cross entropy: 0.3324 - val_Brier score: 0.1013 - val_tp: 384.0000 - val_fp: 326.0000 - val_tn: 2224.0000 - val_fn: 104.0000 - val_accuracy: 0.8585 - val_precision: 0.5408 - val_recall: 0.7869 - val_auc: 0.9253 - val_prc: 0.7559\n",
      "Epoch 99/100\n",
      "10/10 [==============================] - 0s 3ms/step - loss: 0.3814 - cross entropy: 0.3768 - Brier score: 0.1150 - tp: 654.0000 - fp: 607.0000 - tn: 3643.0000 - fn: 159.0000 - accuracy: 0.8487 - precision: 0.5186 - recall: 0.8044 - auc: 0.9125 - prc: 0.6963 - val_loss: 0.3316 - val_cross entropy: 0.3316 - val_Brier score: 0.1010 - val_tp: 384.0000 - val_fp: 324.0000 - val_tn: 2226.0000 - val_fn: 104.0000 - val_accuracy: 0.8591 - val_precision: 0.5424 - val_recall: 0.7869 - val_auc: 0.9257 - val_prc: 0.7569\n",
      "Epoch 100/100\n",
      "10/10 [==============================] - 0s 3ms/step - loss: 0.3880 - cross entropy: 0.3853 - Brier score: 0.1167 - tp: 645.0000 - fp: 613.0000 - tn: 3637.0000 - fn: 168.0000 - accuracy: 0.8457 - precision: 0.5127 - recall: 0.7934 - auc: 0.9095 - prc: 0.6823 - val_loss: 0.3300 - val_cross entropy: 0.3300 - val_Brier score: 0.1005 - val_tp: 384.0000 - val_fp: 321.0000 - val_tn: 2229.0000 - val_fn: 104.0000 - val_accuracy: 0.8601 - val_precision: 0.5447 - val_recall: 0.7869 - val_auc: 0.9263 - val_prc: 0.7580\n"
     ]
    }
   ],
   "source": [
    "weighted_model = make_model()\n",
    "weighted_model.load_weights(initial_weights)\n",
    "\n",
    "weighted_history = weighted_model.fit(\n",
    "    X_train,\n",
    "    y_train,\n",
    "    batch_size=BATCH_SIZE,\n",
    "    epochs=EPOCHS,\n",
    "    callbacks=[early_stopping],\n",
    "    validation_data=(X_val, y_val),\n",
    "    # The class weights go here\n",
    "    class_weight=class_weight) "
   ]
  },
  {
   "cell_type": "code",
   "execution_count": 57,
   "metadata": {},
   "outputs": [
    {
     "name": "stdout",
     "output_type": "stream",
     "text": [
      "10/10 [==============================] - 0s 456us/step\n",
      "4/4 [==============================] - 0s 577us/step\n"
     ]
    }
   ],
   "source": [
    "train_predictions_weighted = weighted_model.predict(X_train, batch_size=BATCH_SIZE)\n",
    "test_predictions_weighted = weighted_model.predict(X_test, batch_size=BATCH_SIZE)"
   ]
  },
  {
   "cell_type": "code",
   "execution_count": 58,
   "metadata": {},
   "outputs": [
    {
     "name": "stdout",
     "output_type": "stream",
     "text": [
      "loss :  0.3281724452972412\n",
      "cross entropy :  0.3281724452972412\n",
      "Brier score :  0.09980381280183792\n",
      "tp :  268.0\n",
      "fp :  216.0\n",
      "tn :  1484.0\n",
      "fn :  58.0\n",
      "accuracy :  0.8647581338882446\n",
      "precision :  0.5537189841270447\n",
      "recall :  0.8220859169960022\n",
      "auc :  0.9307560920715332\n",
      "prc :  0.7763729691505432\n",
      "\n",
      "Legitimate Transactions Detected (True Negatives):  1484\n",
      "Legitimate Transactions Incorrectly Detected (False Positives):  216\n",
      "Fraudulent Transactions Missed (False Negatives):  58\n",
      "Fraudulent Transactions Detected (True Positives):  268\n",
      "Total Fraudulent Transactions:  326\n",
      "Recall:  0.8220858895705522\n",
      "F1 Score:  0.6617283950617284\n"
     ]
    },
    {
     "data": {
      "image/png": "[encoded data removed]",
      "text/plain": [
       "<Figure size 500x500 with 2 Axes>"
      ]
     },
     "metadata": {},
     "output_type": "display_data"
    }
   ],
   "source": [
    "weighted_results = weighted_model.evaluate(X_test, y_test,\n",
    "                                           batch_size=BATCH_SIZE, verbose=0)\n",
    "for name, value in zip(weighted_model.metrics_names, weighted_results):\n",
    "  print(name, ': ', value)\n",
    "print()\n",
    "\n",
    "plot_cm(y_test, test_predictions_weighted)"
   ]
  },
  {
   "cell_type": "code",
   "execution_count": 59,
   "metadata": {},
   "outputs": [
    {
     "name": "stdout",
     "output_type": "stream",
     "text": [
      "Legitimate Transactions Detected (True Negatives):  1341\n",
      "Legitimate Transactions Incorrectly Detected (False Positives):  359\n",
      "Fraudulent Transactions Missed (False Negatives):  32\n",
      "Fraudulent Transactions Detected (True Positives):  294\n",
      "Total Fraudulent Transactions:  326\n",
      "Recall:  0.901840490797546\n",
      "F1 Score:  0.6006128702757916\n"
     ]
    },
    {
     "data": {
      "image/png": "[encoded data removed]",
      "text/plain": [
       "<Figure size 500x500 with 2 Axes>"
      ]
     },
     "metadata": {},
     "output_type": "display_data"
    }
   ],
   "source": [
    "plot_cm(y_test, test_predictions_weighted, threshold=0.35)"
   ]
  },
  {
   "cell_type": "markdown",
   "metadata": {
    "id": "YZqmoqz7bp0-"
   },
   "source": [
    "### Model evaluation criterion"
   ]
  },
  {
   "cell_type": "markdown",
   "metadata": {
    "id": "l2ORUgmUjDZC"
   },
   "source": [
    "The nature of predictions made by the classification model will translate as follows:\n",
    "\n",
    "- True positives (TP) are individuals correctly predicted by the model to leave their credit card services \n",
    "- False negatives (FN) are individuals who are predicted NOT to leave their credit card services but indeed will leave.\n",
    "- False positives (FP) are individuals predicted by the model to leave their credit card services but will not.\n",
    "\n",
    "**Which metric to optimize?**\n",
    "\n",
    "* We need to choose the metric which will ensure that the maximum number of individuals maintain their credit card services.\n",
    "* We would want Recall to be maximized as greater the Recall, the higher the chances of minimizing false negatives.\n",
    "* We want to minimize false negatives because if a model predicts an individual will NOT leave when they will leave, the bank will expend more resources to get new customers to replace the customers it failed to identify as at risk. A current customer is always easier to maintain than find a new one.  "
   ]
  },
  {
   "cell_type": "markdown",
   "metadata": {
    "id": "djQTqGKU4jap"
   },
   "source": [
    "**Let's define a function to output different metrics (including recall) on the train and test set and a function to show confusion matrix so that we do not have to use the same code repetitively while evaluating models.**"
   ]
  },
  {
   "cell_type": "markdown",
   "metadata": {
    "heading_collapsed": true,
    "id": "c5hPmHyR4jaw"
   },
   "source": [
    "# Business Insights and Conclusions"
   ]
  },
  {
   "cell_type": "markdown",
   "metadata": {
    "hidden": true
   },
   "source": [
    "I've built a predictive model that can help the company identify customers who are at risk of terminating their credit card services with the bank.  The model, with its feature importance, can be used to identify behaviors that indicate a customer is moving toward terminating service and take the necessary steps to intervene.     \n",
    "\n",
    "Attrition from credit card services are driven primarily by Total Transaction Count, Total Relationship Count, and Total Revolving Balance.\n",
    "\n",
    "Total Transaction Count: Customers with more Total Transactions stay customes. This is a strong feature and one that should be the focus of the bank.  They should take steps to incentivize using the credit card, possibly with reward points or some other benefit.  \n",
    "\n",
    "Total Relationship Count: Customers who have more products with the bank are the ones who stay at the bank.  Again, incentivizing the use of more products is a way to make customers stick to the bank.  \n",
    "\n",
    "Total Revolving Balance: As might be expected, customers with a revolving balance stay at the bank. Closing a credit card with a balance is more difficult to do. The bank might think of ways to market smaller interest rates if customers agree to pay over several months.  This generates revenue at a reduce profit, but it helps keep customers with the bank.   \n",
    "\n",
    "Card Category doesn't seem to have an impact on attrition - the cards could be how rewards are categorized and dispensed, but the kind of card does not appear to be helpful at keeping customers.\n",
    "\n",
    "Marital Status, Income, and Education do NOT appear to be powerfully influential in determining customers who will depart the bank.    \n",
    "\n",
    "Overall, the bank needs to focus on ways to increase card usage and overall product use at the bank.  Customers stay with banks where more and more services and transactions are occuring regularly.  "
   ]
  },
  {
   "cell_type": "markdown",
   "metadata": {
    "hidden": true,
    "id": "VB3eO21n_sgt"
   },
   "source": [
    "***"
   ]
  },
  {
   "cell_type": "code",
   "execution_count": null,
   "metadata": {
    "hidden": true
   },
   "outputs": [],
   "source": []
  }
 ],
 "metadata": {
  "colab": {
   "collapsed_sections": [
    "9EaJ8AGwpM-2",
    "v_-uuGqH-qTt",
    "xxhpZv9y-qTw",
    "UvpMDcaaMKtI",
    "j-yGG8LNSSMa",
    "-YyWJgFlKlWM",
    "knk0w9XH4jao",
    "0J99-7Kubp09",
    "YZqmoqz7bp0-",
    "eqCDCbcw4jas",
    "oBKJaFU24jas",
    "1aimb6bn4jat",
    "yZGY1eL84jau",
    "rxM3jQuK_Pqc",
    "GMReRXdH_YUd",
    "chN8hbfThKyr",
    "HtPIiIS7hKyr",
    "D9JNnpxa4jau",
    "d_pDMFAz4jav",
    "c5hPmHyR4jaw"
   ],
   "provenance": []
  },
  "kernelspec": {
   "display_name": "Python 3 (ipykernel)",
   "language": "python",
   "name": "python3"
  },
  "language_info": {
   "codemirror_mode": {
    "name": "ipython",
    "version": 3
   },
   "file_extension": ".py",
   "mimetype": "text/x-python",
   "name": "python",
   "nbconvert_exporter": "python",
   "pygments_lexer": "ipython3",
   "version": "3.11.3"
  }
 },
 "nbformat": 4,
 "nbformat_minor": 1
}
